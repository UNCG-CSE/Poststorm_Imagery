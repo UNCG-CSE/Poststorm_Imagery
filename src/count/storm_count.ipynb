{
 "cells": [
  {
   "cell_type": "code",
   "execution_count": 8,
   "metadata": {},
   "outputs": [
    {
     "name": "stdout",
     "output_type": "stream",
     "text": [
      "{'Florence': 32063, 'Barry': 8900, 'Michael': 9600, 'Dorian': 12511, 'Gordon': 2019}\n",
      "65093\n",
      "Florence    32063\n",
      "Barry        8900\n",
      "Michael      9600\n",
      "Dorian      12511\n",
      "Gordon       2019\n",
      "dtype: int64\n"
     ]
    },
    {
     "data": {
      "image/png": "[encoded data removed]",
      "text/plain": [
       "<Figure size 432x288 with 1 Axes>"
      ]
     },
     "metadata": {
      "needs_background": "light"
     },
     "output_type": "display_data"
    }
   ],
   "source": [
    "from matplotlib import pyplot as plt\n",
    "import pandas as pd\n",
    "from pathlib import Path\n",
    "import os\n",
    "\n",
    "\n",
    "#Counts images for each storm, creates a dataframe and visualization.\n",
    "storm_count= {}\n",
    "images_path = \"G:/Shared drives/C-Sick/data\"\n",
    "path_list = Path(images_path)\n",
    "total_count = 0\n",
    "jpg_count = 0\n",
    "dirs = os.listdir(path_list)\n",
    "storm_images = { i : 0 for i in dirs }\n",
    "\n",
    "for dir in os.listdir(path_list):\n",
    "    storm = os.path.join(path_list, dir)\n",
    "    for subdir in os.listdir(storm):\n",
    "        storm_folder = os.path.join(storm,subdir)\n",
    "        if os.path.isdir(storm_folder):\n",
    "            for jpg_file in os.listdir(storm_folder):\n",
    "                jpgs = os.path.join(storm_folder, jpg_file)\n",
    "                if os.path.isdir(jpgs):\n",
    "                    for file in os.listdir(jpgs):\n",
    "                        if file.endswith(\".jpg\"):\n",
    "                            total_count+=1\n",
    "                            jpg_count += 1\n",
    "                            storm_images[dir] = jpg_count\n",
    "\n",
    "    jpg_count = 0\n",
    "print(storm_images)\n",
    "print(total_count)\n",
    "\n",
    "storm_images = pd.Series(storm_images)\n",
    "\n",
    "print(storm_images)\n",
    "fig=plt.figure()\n",
    "storm_images.plot.bar()\n",
    "plt.title('Number of images per storm')\n",
    "plt.gcf().subplots_adjust(bottom=0.25)\n",
    "fig.savefig('images_per_storm.png', dpi=100)\n"
   ]
  },
  {
   "cell_type": "code",
   "execution_count": null,
   "metadata": {},
   "outputs": [],
   "source": []
  }
 ],
 "metadata": {
  "kernelspec": {
   "display_name": "Python 3",
   "language": "python",
   "name": "python3"
  },
  "language_info": {
   "codemirror_mode": {
    "name": "ipython",
    "version": 3
   },
   "file_extension": ".py",
   "mimetype": "text/x-python",
   "name": "python",
   "nbconvert_exporter": "python",
   "pygments_lexer": "ipython3",
   "version": "3.7.0"
  }
 },
 "nbformat": 4,
 "nbformat_minor": 2
}
