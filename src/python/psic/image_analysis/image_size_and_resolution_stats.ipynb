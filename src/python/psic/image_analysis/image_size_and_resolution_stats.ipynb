{
 "cells": [
  {
   "cell_type": "code",
   "execution_count": 145,
   "metadata": {},
   "outputs": [],
   "source": [
    "import scipy.stats as stats\n",
    "import matplotlib.patches as mpatches\n",
    "import math\n",
    "import pandas as pd\n",
    "import matplotlib.pyplot as plt\n",
    "import numpy as np\n",
    "import seaborn as sns"
   ]
  },
  {
   "cell_type": "code",
   "execution_count": 153,
   "metadata": {},
   "outputs": [
    {
     "data": {
      "text/html": [
       "<div>\n",
       "<style scoped>\n",
       "    .dataframe tbody tr th:only-of-type {\n",
       "        vertical-align: middle;\n",
       "    }\n",
       "\n",
       "    .dataframe tbody tr th {\n",
       "        vertical-align: top;\n",
       "    }\n",
       "\n",
       "    .dataframe thead th {\n",
       "        text-align: right;\n",
       "    }\n",
       "</style>\n",
       "<table border=\"1\" class=\"dataframe\">\n",
       "  <thead>\n",
       "    <tr style=\"text-align: right;\">\n",
       "      <th></th>\n",
       "      <th>file</th>\n",
       "      <th>size(BYTE)</th>\n",
       "      <th>size(KB)</th>\n",
       "      <th>size(MB)</th>\n",
       "      <th>resolution(DPI)</th>\n",
       "    </tr>\n",
       "  </thead>\n",
       "  <tbody>\n",
       "    <tr>\n",
       "      <th>0</th>\n",
       "      <td>Florence/20180915a_jpgs/jpgs/C25870216.jpg</td>\n",
       "      <td>8974386</td>\n",
       "      <td>8764.048828</td>\n",
       "      <td>8.558641</td>\n",
       "      <td>96</td>\n",
       "    </tr>\n",
       "    <tr>\n",
       "      <th>1</th>\n",
       "      <td>Florence/20180915a_jpgs/jpgs/C25870235.jpg</td>\n",
       "      <td>8151144</td>\n",
       "      <td>7960.101563</td>\n",
       "      <td>7.773537</td>\n",
       "      <td>96</td>\n",
       "    </tr>\n",
       "    <tr>\n",
       "      <th>2</th>\n",
       "      <td>Florence/20180915a_jpgs/jpgs/C25870324.jpg</td>\n",
       "      <td>8165571</td>\n",
       "      <td>7974.190430</td>\n",
       "      <td>7.787295</td>\n",
       "      <td>96</td>\n",
       "    </tr>\n",
       "    <tr>\n",
       "      <th>3</th>\n",
       "      <td>Florence/20180915a_jpgs/jpgs/C25870782.jpg</td>\n",
       "      <td>7886169</td>\n",
       "      <td>7701.336914</td>\n",
       "      <td>7.520837</td>\n",
       "      <td>96</td>\n",
       "    </tr>\n",
       "    <tr>\n",
       "      <th>4</th>\n",
       "      <td>Florence/20180915a_jpgs/jpgs/C25871060.jpg</td>\n",
       "      <td>7017676</td>\n",
       "      <td>6853.199219</td>\n",
       "      <td>6.692577</td>\n",
       "      <td>96</td>\n",
       "    </tr>\n",
       "    <tr>\n",
       "      <th>5</th>\n",
       "      <td>Florence/20180915a_jpgs/jpgs/C25871069.jpg</td>\n",
       "      <td>6086620</td>\n",
       "      <td>5943.964844</td>\n",
       "      <td>5.804653</td>\n",
       "      <td>96</td>\n",
       "    </tr>\n",
       "    <tr>\n",
       "      <th>6</th>\n",
       "      <td>Florence/20180915a_jpgs/jpgs/C25871159.jpg</td>\n",
       "      <td>11921486</td>\n",
       "      <td>11642.076170</td>\n",
       "      <td>11.369215</td>\n",
       "      <td>300</td>\n",
       "    </tr>\n",
       "    <tr>\n",
       "      <th>7</th>\n",
       "      <td>Florence/20180915a_jpgs/jpgs/C25871166.jpg</td>\n",
       "      <td>6389661</td>\n",
       "      <td>6239.903320</td>\n",
       "      <td>6.093656</td>\n",
       "      <td>96</td>\n",
       "    </tr>\n",
       "    <tr>\n",
       "      <th>8</th>\n",
       "      <td>Florence/20180915a_jpgs/jpgs/C25871524.jpg</td>\n",
       "      <td>7276103</td>\n",
       "      <td>7105.569336</td>\n",
       "      <td>6.939033</td>\n",
       "      <td>96</td>\n",
       "    </tr>\n",
       "    <tr>\n",
       "      <th>9</th>\n",
       "      <td>Florence/20180915a_jpgs/jpgs/C25871583.jpg</td>\n",
       "      <td>11616227</td>\n",
       "      <td>11343.971680</td>\n",
       "      <td>11.078097</td>\n",
       "      <td>300</td>\n",
       "    </tr>\n",
       "  </tbody>\n",
       "</table>\n",
       "</div>"
      ],
      "text/plain": [
       "                                         file  size(BYTE)      size(KB)  \\\n",
       "0  Florence/20180915a_jpgs/jpgs/C25870216.jpg     8974386   8764.048828   \n",
       "1  Florence/20180915a_jpgs/jpgs/C25870235.jpg     8151144   7960.101563   \n",
       "2  Florence/20180915a_jpgs/jpgs/C25870324.jpg     8165571   7974.190430   \n",
       "3  Florence/20180915a_jpgs/jpgs/C25870782.jpg     7886169   7701.336914   \n",
       "4  Florence/20180915a_jpgs/jpgs/C25871060.jpg     7017676   6853.199219   \n",
       "5  Florence/20180915a_jpgs/jpgs/C25871069.jpg     6086620   5943.964844   \n",
       "6  Florence/20180915a_jpgs/jpgs/C25871159.jpg    11921486  11642.076170   \n",
       "7  Florence/20180915a_jpgs/jpgs/C25871166.jpg     6389661   6239.903320   \n",
       "8  Florence/20180915a_jpgs/jpgs/C25871524.jpg     7276103   7105.569336   \n",
       "9  Florence/20180915a_jpgs/jpgs/C25871583.jpg    11616227  11343.971680   \n",
       "\n",
       "    size(MB)  resolution(DPI)  \n",
       "0   8.558641               96  \n",
       "1   7.773537               96  \n",
       "2   7.787295               96  \n",
       "3   7.520837               96  \n",
       "4   6.692577               96  \n",
       "5   5.804653               96  \n",
       "6  11.369215              300  \n",
       "7   6.093656               96  \n",
       "8   6.939033               96  \n",
       "9  11.078097              300  "
      ]
     },
     "execution_count": 153,
     "metadata": {},
     "output_type": "execute_result"
    }
   ],
   "source": [
    "ct =pd.read_csv(\"catalog for image resolution and size.csv\")\n",
    "ct.head(10)"
   ]
  },
  {
   "cell_type": "code",
   "execution_count": 154,
   "metadata": {},
   "outputs": [
    {
     "name": "stdout",
     "output_type": "stream",
     "text": [
      "size mean: 7.29473926071142\n",
      "size median: 6.865087508999999\n",
      "size variance: 4.818473185178074\n",
      "size SD: 2.1951020899215767\n"
     ]
    }
   ],
   "source": [
    "size_mean = ct[\"size(MB)\"].mean()\n",
    "size_median = ct[\"size(MB)\"].median()\n",
    "size_variance = ct[\"size(MB)\"].var()\n",
    "size_SD = ct[\"size(MB)\"].std()\n",
    "print(\"size mean: \" + str(size_mean))\n",
    "print(\"size median: \" + str(size_median))\n",
    "print(\"size variance: \" + str(size_variance))\n",
    "print(\"size SD: \" + str(size_SD))"
   ]
  },
  {
   "cell_type": "code",
   "execution_count": 155,
   "metadata": {},
   "outputs": [
    {
     "name": "stdout",
     "output_type": "stream",
     "text": [
      "resolution mean: 145.875751503006\n",
      "resolution median: 96.0\n",
      "resolution variance: 7702.498587536447\n",
      "resolution SD: 87.76387974295831\n"
     ]
    }
   ],
   "source": [
    "resolution_mean = ct[\"resolution(DPI)\"].mean()\n",
    "resolution_median = ct[\"resolution(DPI)\"].median()\n",
    "resolution_variance = ct[\"resolution(DPI)\"].var()\n",
    "resolution_SD = ct[\"resolution(DPI)\"].std()\n",
    "print(\"resolution mean: \" + str(resolution_mean))\n",
    "print(\"resolution median: \" + str(resolution_median))\n",
    "print(\"resolution variance: \" + str(resolution_variance))\n",
    "print(\"resolution SD: \" + str(resolution_SD))"
   ]
  },
  {
   "cell_type": "code",
   "execution_count": 156,
   "metadata": {},
   "outputs": [
    {
     "data": {
      "text/plain": [
       "Text(0.5, 1.0, 'Sample size = 500')"
      ]
     },
     "execution_count": 156,
     "metadata": {},
     "output_type": "execute_result"
    },
    {
     "data": {
      "image/png": "[encoded data removed]",
      "text/plain": [
       "<Figure size 432x288 with 1 Axes>"
      ]
     },
     "metadata": {
      "needs_background": "light"
     },
     "output_type": "display_data"
    }
   ],
   "source": [
    "pd.DataFrame(ct).hist(column=\"size(MB)\", bins=15, ec='red')\n",
    "plt.xlabel(\"Size(MB)\")\n",
    "plt.ylabel( \"Number of Images\")\n",
    "plt.title(\"Sample size = \" + str(ct.shape[0]+1) + str())"
   ]
  },
  {
   "cell_type": "code",
   "execution_count": 170,
   "metadata": {},
   "outputs": [
    {
     "data": {
      "text/plain": [
       "<matplotlib.axes._subplots.AxesSubplot at 0x1e587556e10>"
      ]
     },
     "execution_count": 170,
     "metadata": {},
     "output_type": "execute_result"
    },
    {
     "data": {
      "image/png": "[encoded data removed]",
      "text/plain": [
       "<Figure size 432x288 with 1 Axes>"
      ]
     },
     "metadata": {
      "needs_background": "light"
     },
     "output_type": "display_data"
    }
   ],
   "source": [
    "# seaborn histogram and density plot\n",
    "sns.distplot(ct['size(MB)'], hist=False, kde=True, rug=True,\n",
    "             bins=15, color = 'green', \n",
    "             hist_kws={'edgecolor':'red'},\n",
    "             kde_kws={'linewidth': 4})"
   ]
  },
  {
   "cell_type": "code",
   "execution_count": 166,
   "metadata": {},
   "outputs": [
    {
     "data": {
      "text/plain": [
       "Text(0.5, 1.0, 'Sample size = 500')"
      ]
     },
     "execution_count": 166,
     "metadata": {},
     "output_type": "execute_result"
    },
    {
     "data": {
      "image/png": "[encoded data removed]",
      "text/plain": [
       "<Figure size 432x288 with 1 Axes>"
      ]
     },
     "metadata": {
      "needs_background": "light"
     },
     "output_type": "display_data"
    }
   ],
   "source": [
    "pd.DataFrame(ct).hist(column=\"resolution(DPI)\", bins=15, ec='red')\n",
    "plt.xlabel(\"Resolution(DPI)\")\n",
    "plt.ylabel( \"Number of Images\")\n",
    "plt.title(\"Sample size = \" + str(ct.shape[0]+1) + str())"
   ]
  },
  {
   "cell_type": "code",
   "execution_count": 178,
   "metadata": {},
   "outputs": [
    {
     "data": {
      "text/plain": [
       "<matplotlib.axes._subplots.AxesSubplot at 0x1e58772ef28>"
      ]
     },
     "execution_count": 178,
     "metadata": {},
     "output_type": "execute_result"
    },
    {
     "data": {
      "image/png": "[encoded data removed]",
      "text/plain": [
       "<Figure size 432x288 with 1 Axes>"
      ]
     },
     "metadata": {
      "needs_background": "light"
     },
     "output_type": "display_data"
    }
   ],
   "source": [
    "# seaborn histogram and density plot\n",
    "sns.distplot(ct['resolution(DPI)'], hist=False, kde=True, rug=True,\n",
    "             bins=15, color = 'green', \n",
    "             hist_kws={'edgecolor':'red'},\n",
    "             kde_kws={'linewidth': 4})"
   ]
  },
  {
   "cell_type": "code",
   "execution_count": 190,
   "metadata": {},
   "outputs": [
    {
     "name": "stdout",
     "output_type": "stream",
     "text": [
      "T-critical value: 2.0638985616280205\n",
      "Sample Size Mean: 7.2970971508\n",
      "Confidence interval: (7.09448846038436, 7.49970584121564)\n"
     ]
    }
   ],
   "source": [
    "sample_size = 500\n",
    "\n",
    "for sample in range(25):\n",
    "    sample = np.random.choice(a=ct[\"size(MB)\"], size = sample_size)\n",
    "    sample_mean = sample.mean()\n",
    "    \n",
    "    t_critical = stats.t.ppf(q = 0.975, df=24)  # Get the t-critical value\n",
    "    \n",
    "    sigma = size_SD/math.sqrt(sample_size)  # Standard deviation estimate\n",
    "    margin_of_error = t_critical * sigma\n",
    "    \n",
    "    confidence_interval = (sample_mean - margin_of_error,\n",
    "                           sample_mean + margin_of_error)  \n",
    "    \n",
    "print(\"T-critical value: \" + str(t_critical))\n",
    "print(\"Sample Size Mean: \" + str(sample_mean))\n",
    "print(\"Confidence interval: \" + str(confidence_interval))"
   ]
  },
  {
   "cell_type": "code",
   "execution_count": 192,
   "metadata": {},
   "outputs": [
    {
     "name": "stdout",
     "output_type": "stream",
     "text": [
      "T-critical value: 2.0638985616280205\n",
      "Sample Resolution Mean: 148.632\n",
      "Confidence interval: (140.53136321314707, 156.73263678685294)\n"
     ]
    }
   ],
   "source": [
    "sample_size = 500\n",
    "\n",
    "for sample in range(25):\n",
    "    sample = np.random.choice(a=ct[\"resolution(DPI)\"], size = sample_size)\n",
    "    sample_mean = sample.mean()\n",
    "    \n",
    "    t_critical = stats.t.ppf(q = 0.975, df=24)  # Get the t-critical value\n",
    "    \n",
    "    sigma = resolution_SD/math.sqrt(sample_size)  # Standard deviation estimate\n",
    "    margin_of_error = t_critical * sigma\n",
    "    \n",
    "    confidence_interval = (sample_mean - margin_of_error,\n",
    "                           sample_mean + margin_of_error)  \n",
    "    \n",
    "print(\"T-critical value: \" + str(t_critical))\n",
    "print(\"Sample Resolution Mean: \" + str(sample_mean))\n",
    "print(\"Confidence interval: \" + str(confidence_interval))"
   ]
  },
  {
   "cell_type": "code",
   "execution_count": 194,
   "metadata": {},
   "outputs": [
    {
     "name": "stdout",
     "output_type": "stream",
     "text": [
      "Covariance of size and resolution: 25.97\n",
      "Correlation of size and resolution: 0.13\n"
     ]
    }
   ],
   "source": [
    "print('Covariance of size and resolution: %.2f'%np.cov(ct[\"size(MB)\"], ct[\"resolution(DPI)\"])[0, 1])\n",
    "print('Correlation of size and resolution: %.2f'%np.corrcoef(ct[\"size(MB)\"], ct[\"resolution(DPI)\"])[0, 1])"
   ]
  },
  {
   "cell_type": "code",
   "execution_count": 197,
   "metadata": {},
   "outputs": [
    {
     "data": {
      "image/png": "[encoded data removed]",
      "text/plain": [
       "<Figure size 864x720 with 1 Axes>"
      ]
     },
     "metadata": {
      "needs_background": "light"
     },
     "output_type": "display_data"
    },
    {
     "name": "stdout",
     "output_type": "stream",
     "text": [
      "Correlation of size and resolution: 0.13\n"
     ]
    }
   ],
   "source": [
    "m, b = np.polyfit(ct[\"resolution(DPI)\"], ct[\"size(MB)\"], 1)\n",
    "\n",
    "plt.figure(figsize=(12,10))\n",
    "plt.scatter(ct[\"resolution(DPI)\"], ct[\"size(MB)\"])\n",
    "plt.xlabel('resolution')\n",
    "plt.ylabel('size')\n",
    "plt.plot(ct[\"resolution(DPI)\"], m*ct[\"resolution(DPI)\"] + b, 'r-')\n",
    "plt.show()\n",
    "print('Correlation of size and resolution: %.2f'%np.corrcoef(ct[\"resolution(DPI)\"], ct[\"size(MB)\"])[0, 1])"
   ]
  },
  {
   "cell_type": "code",
   "execution_count": null,
   "metadata": {},
   "outputs": [],
   "source": []
  }
 ],
 "metadata": {
  "kernelspec": {
   "display_name": "Python 3",
   "language": "python",
   "name": "python3"
  },
  "language_info": {
   "codemirror_mode": {
    "name": "ipython",
    "version": 3
   },
   "file_extension": ".py",
   "mimetype": "text/x-python",
   "name": "python",
   "nbconvert_exporter": "python",
   "pygments_lexer": "ipython3",
   "version": "3.7.3"
  }
 },
 "nbformat": 4,
 "nbformat_minor": 2
}
