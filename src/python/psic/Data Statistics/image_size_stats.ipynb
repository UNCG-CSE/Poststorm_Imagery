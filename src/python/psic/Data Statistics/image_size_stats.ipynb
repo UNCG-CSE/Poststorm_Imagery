{
 "cells": [
  {
   "cell_type": "markdown",
   "metadata": {},
   "source": [
    "Compares the average file size of images photographed of the coast versus the average size of images photographed more inland.  Using Hurrican Florence post-storm imagery. Size unit is in bytes until the values are scaled down using log()"
   ]
  },
  {
   "cell_type": "code",
   "execution_count": 363,
   "metadata": {},
   "outputs": [],
   "source": [
    "import pandas as pd\n",
    "import scipy.stats as stats\n",
    "import matplotlib.pyplot as plt\n",
    "import matplotlib.patches as mpatches\n",
    "import numpy as np\n",
    "import math\n",
    "\n",
    "\n"
   ]
  },
  {
   "cell_type": "code",
   "execution_count": 280,
   "metadata": {},
   "outputs": [],
   "source": [
    "ct =pd.read_csv(\"catalog.csv\")"
   ]
  },
  {
   "cell_type": "markdown",
   "metadata": {},
   "source": [
    "Drop all columns except file and size"
   ]
  },
  {
   "cell_type": "code",
   "execution_count": 281,
   "metadata": {},
   "outputs": [
    {
     "data": {
      "text/html": [
       "<div>\n",
       "<style scoped>\n",
       "    .dataframe tbody tr th:only-of-type {\n",
       "        vertical-align: middle;\n",
       "    }\n",
       "\n",
       "    .dataframe tbody tr th {\n",
       "        vertical-align: top;\n",
       "    }\n",
       "\n",
       "    .dataframe thead th {\n",
       "        text-align: right;\n",
       "    }\n",
       "</style>\n",
       "<table border=\"1\" class=\"dataframe\">\n",
       "  <thead>\n",
       "    <tr style=\"text-align: right;\">\n",
       "      <th></th>\n",
       "      <th>file</th>\n",
       "      <th>size</th>\n",
       "      <th>date</th>\n",
       "    </tr>\n",
       "  </thead>\n",
       "  <tbody>\n",
       "    <tr>\n",
       "      <th>0</th>\n",
       "      <td>Florence/20180919c_jpgs/jpgs/C26256485.jpg</td>\n",
       "      <td>8265645</td>\n",
       "      <td>2018/09/19</td>\n",
       "    </tr>\n",
       "    <tr>\n",
       "      <th>1</th>\n",
       "      <td>Florence/20180919c_jpgs/jpgs/C26271559.jpg</td>\n",
       "      <td>9568353</td>\n",
       "      <td>2018/09/19</td>\n",
       "    </tr>\n",
       "    <tr>\n",
       "      <th>2</th>\n",
       "      <td>Florence/20180919c_jpgs/jpgs/C26259098.jpg</td>\n",
       "      <td>9094248</td>\n",
       "      <td>2018/09/19</td>\n",
       "    </tr>\n",
       "    <tr>\n",
       "      <th>3</th>\n",
       "      <td>Florence/20180919c_jpgs/jpgs/C26248841.jpg</td>\n",
       "      <td>7226118</td>\n",
       "      <td>2018/09/19</td>\n",
       "    </tr>\n",
       "    <tr>\n",
       "      <th>4</th>\n",
       "      <td>Florence/20180919c_jpgs/jpgs/C26258084.jpg</td>\n",
       "      <td>8531607</td>\n",
       "      <td>2018/09/19</td>\n",
       "    </tr>\n",
       "  </tbody>\n",
       "</table>\n",
       "</div>"
      ],
      "text/plain": [
       "                                         file     size        date\n",
       "0  Florence/20180919c_jpgs/jpgs/C26256485.jpg  8265645  2018/09/19\n",
       "1  Florence/20180919c_jpgs/jpgs/C26271559.jpg  9568353  2018/09/19\n",
       "2  Florence/20180919c_jpgs/jpgs/C26259098.jpg  9094248  2018/09/19\n",
       "3  Florence/20180919c_jpgs/jpgs/C26248841.jpg  7226118  2018/09/19\n",
       "4  Florence/20180919c_jpgs/jpgs/C26258084.jpg  8531607  2018/09/19"
      ]
     },
     "execution_count": 281,
     "metadata": {},
     "output_type": "execute_result"
    }
   ],
   "source": [
    "ct.drop(ct.columns[0], axis=1, inplace= True)\n",
    "ct.drop(ct.columns[3:], axis=1, inplace=True)\n",
    "\n",
    "ct.head()\n",
    "\n"
   ]
  },
  {
   "cell_type": "markdown",
   "metadata": {},
   "source": [
    "Remove all storms but Florence"
   ]
  },
  {
   "cell_type": "code",
   "execution_count": 282,
   "metadata": {},
   "outputs": [
    {
     "data": {
      "text/plain": [
       "29097"
      ]
     },
     "execution_count": 282,
     "metadata": {},
     "output_type": "execute_result"
    }
   ],
   "source": [
    "ct = ct.drop(ct.index[29097:])\n",
    "ct.shape[0]\n"
   ]
  },
  {
   "cell_type": "code",
   "execution_count": 283,
   "metadata": {},
   "outputs": [
    {
     "data": {
      "text/html": [
       "<div>\n",
       "<style scoped>\n",
       "    .dataframe tbody tr th:only-of-type {\n",
       "        vertical-align: middle;\n",
       "    }\n",
       "\n",
       "    .dataframe tbody tr th {\n",
       "        vertical-align: top;\n",
       "    }\n",
       "\n",
       "    .dataframe thead th {\n",
       "        text-align: right;\n",
       "    }\n",
       "</style>\n",
       "<table border=\"1\" class=\"dataframe\">\n",
       "  <thead>\n",
       "    <tr style=\"text-align: right;\">\n",
       "      <th></th>\n",
       "      <th>file</th>\n",
       "      <th>size</th>\n",
       "      <th>date</th>\n",
       "    </tr>\n",
       "  </thead>\n",
       "  <tbody>\n",
       "    <tr>\n",
       "      <th>0</th>\n",
       "      <td>Florence/20180919c_jpgs/jpgs/C26256485.jpg</td>\n",
       "      <td>8265645</td>\n",
       "      <td>2018/09/19</td>\n",
       "    </tr>\n",
       "    <tr>\n",
       "      <th>1</th>\n",
       "      <td>Florence/20180919c_jpgs/jpgs/C26271559.jpg</td>\n",
       "      <td>9568353</td>\n",
       "      <td>2018/09/19</td>\n",
       "    </tr>\n",
       "    <tr>\n",
       "      <th>2</th>\n",
       "      <td>Florence/20180919c_jpgs/jpgs/C26259098.jpg</td>\n",
       "      <td>9094248</td>\n",
       "      <td>2018/09/19</td>\n",
       "    </tr>\n",
       "    <tr>\n",
       "      <th>3</th>\n",
       "      <td>Florence/20180919c_jpgs/jpgs/C26248841.jpg</td>\n",
       "      <td>7226118</td>\n",
       "      <td>2018/09/19</td>\n",
       "    </tr>\n",
       "    <tr>\n",
       "      <th>4</th>\n",
       "      <td>Florence/20180919c_jpgs/jpgs/C26258084.jpg</td>\n",
       "      <td>8531607</td>\n",
       "      <td>2018/09/19</td>\n",
       "    </tr>\n",
       "  </tbody>\n",
       "</table>\n",
       "</div>"
      ],
      "text/plain": [
       "                                         file     size        date\n",
       "0  Florence/20180919c_jpgs/jpgs/C26256485.jpg  8265645  2018/09/19\n",
       "1  Florence/20180919c_jpgs/jpgs/C26271559.jpg  9568353  2018/09/19\n",
       "2  Florence/20180919c_jpgs/jpgs/C26259098.jpg  9094248  2018/09/19\n",
       "3  Florence/20180919c_jpgs/jpgs/C26248841.jpg  7226118  2018/09/19\n",
       "4  Florence/20180919c_jpgs/jpgs/C26258084.jpg  8531607  2018/09/19"
      ]
     },
     "execution_count": 283,
     "metadata": {},
     "output_type": "execute_result"
    }
   ],
   "source": [
    "data = ct[ct.date != ('2018/09/16', '2018/09/18', '2018/09/19', '2018/09/20')]\n",
    "data.head()\n"
   ]
  },
  {
   "cell_type": "code",
   "execution_count": 284,
   "metadata": {},
   "outputs": [
    {
     "data": {
      "text/plain": [
       "29097"
      ]
     },
     "execution_count": 284,
     "metadata": {},
     "output_type": "execute_result"
    }
   ],
   "source": [
    "data.shape[0]"
   ]
  },
  {
   "cell_type": "markdown",
   "metadata": {},
   "source": [
    "Demarcate coastal and inland images"
   ]
  },
  {
   "cell_type": "code",
   "execution_count": 285,
   "metadata": {},
   "outputs": [],
   "source": [
    "cd = ct.loc[ct['date'] == '2018/09/17']\n",
    "ind1 = ct.loc[ct['date'] == '2018/09/21']\n",
    "ind2 = ct.loc[ct['date'] == '2018/09/22']"
   ]
  },
  {
   "cell_type": "code",
   "execution_count": 286,
   "metadata": {},
   "outputs": [],
   "source": [
    "cd_size = cd.shape[0]\n",
    "ind = ind1.append(ind2)\n",
    "ind_size = ind.shape[0]\n"
   ]
  },
  {
   "cell_type": "markdown",
   "metadata": {},
   "source": [
    "Two dataframes: cd (coastal data) and ind(inland data). Get the basic stats of each."
   ]
  },
  {
   "cell_type": "code",
   "execution_count": 338,
   "metadata": {},
   "outputs": [
    {
     "name": "stdout",
     "output_type": "stream",
     "text": [
      "Inland mean: 15.770437186485616\n",
      "Inland var: 0.043449306893702654\n",
      "Inland std: 0.20844497329919628\n",
      "Coastal mean: 15.672385479488955\n",
      "Coastal var: 0.02771328432391275\n",
      "Coastal std: 0.16647307387055946\n"
     ]
    },
    {
     "name": "stderr",
     "output_type": "stream",
     "text": [
      "/opt/conda/lib/python3.7/site-packages/ipykernel_launcher.py:2: SettingWithCopyWarning: \n",
      "A value is trying to be set on a copy of a slice from a DataFrame.\n",
      "Try using .loc[row_indexer,col_indexer] = value instead\n",
      "\n",
      "See the caveats in the documentation: http://pandas.pydata.org/pandas-docs/stable/user_guide/indexing.html#returning-a-view-versus-a-copy\n",
      "  \n"
     ]
    }
   ],
   "source": [
    "ind[\"log_value\"] =np.log(ind[\"size\"])\n",
    "cd[\"log_value\"] =np.log(cd[\"size\"])\n",
    "\n",
    "print(\"Inland mean:\", ind[\"log_value\"].mean())\n",
    "print(\"Inland var:\", ind[\"log_value\"].var())\n",
    "print(\"Inland std:\", ind[\"log_value\"].std())\n",
    "print(\"Coastal mean:\", cd[\"log_value\"].mean())\n",
    "print(\"Coastal var:\", cd[\"log_value\"].var())\n",
    "print(\"Coastal std:\", cd[\"log_value\"].std())\n",
    "\n",
    "cd_mean = cd[\"log_value\"].mean()\n",
    "cd_var = cd[\"log_value\"].var()"
   ]
  },
  {
   "cell_type": "markdown",
   "metadata": {},
   "source": [
    "Preparing variables for classroom method for fitting gamma distribution (didn't work due to scaling)"
   ]
  },
  {
   "cell_type": "code",
   "execution_count": 339,
   "metadata": {},
   "outputs": [],
   "source": [
    "alpha_mom = cd_mean ** 2 / cd_var\n",
    "beta_mom = cd_var / cd_mean\n",
    "\n",
    "cd_min = cd[\"log_value\"].min()\n",
    "cd_max = cd[\"log_value\"].max()"
   ]
  },
  {
   "cell_type": "markdown",
   "metadata": {},
   "source": [
    "Plot histograms. "
   ]
  },
  {
   "cell_type": "code",
   "execution_count": 373,
   "metadata": {},
   "outputs": [
    {
     "data": {
      "image/png": "[encoded data removed]",
      "text/plain": [
       "<Figure size 432x288 with 1 Axes>"
      ]
     },
     "metadata": {
      "needs_background": "light"
     },
     "output_type": "display_data"
    }
   ],
   "source": [
    "binwidth = (cd[\"log_value\"].max()-cd[\"log_value\"].min())/20\n",
    "cd[\"log_value\"].hist(bins=np.arange(cd_min, cd_max + binwidth, binwidth), normed = True)\n",
    "cd_plot = cd[\"log_value\"].hist(bins=np.arange(min(cd[\"log_value\"]),max(cd[\"log_value\"]) + binwidth, binwidth))\n",
    "plt.xlabel(\"Image Size\")\n",
    "plt.ylabel( \"Number of Images\")\n",
    "plt.title(\"Coastal Images, n = \" + str(cd_size) + str())\n",
    "\n",
    "plt.plot(np.linspace(cd_min, cd_max), gamma.pdf(np.linspace(cd_min, cd_max), alpha_mom, beta_mom))\n",
    "plt.savefig('coastal_images_hist.png', dpi = 100)\n",
    "plt.show()\n"
   ]
  },
  {
   "cell_type": "code",
   "execution_count": 374,
   "metadata": {},
   "outputs": [
    {
     "data": {
      "text/plain": [
       "[<matplotlib.lines.Line2D at 0x7f3a9c924be0>]"
      ]
     },
     "execution_count": 374,
     "metadata": {},
     "output_type": "execute_result"
    },
    {
     "data": {
      "image/png": "[encoded data removed]",
      "text/plain": [
       "<Figure size 432x288 with 1 Axes>"
      ]
     },
     "metadata": {
      "needs_background": "light"
     },
     "output_type": "display_data"
    }
   ],
   "source": [
    "ag,bg,cg = stats.gamma.fit(cd[\"log_value\"])\n",
    "pdf_gamma = stats.gamma.pdf(lnspc, ag, bg,cg)\n",
    "plt.xlabel(\"Image Size\")\n",
    "plt.ylabel( \"Number of Images\")\n",
    "plt.title(\"Coastal Images, n = \" + str(cd_size) + str())\n",
    "plt.savefig('coastal_images_gamma.png', dpi = 100)\n",
    "plt.plot(lnspc, pdf_gamma, label=\"Gamma\")\n"
   ]
  },
  {
   "cell_type": "code",
   "execution_count": 375,
   "metadata": {},
   "outputs": [
    {
     "data": {
      "image/png": "[encoded data removed]",
      "text/plain": [
       "<Figure size 432x288 with 1 Axes>"
      ]
     },
     "metadata": {
      "needs_background": "light"
     },
     "output_type": "display_data"
    }
   ],
   "source": [
    "binwidth = (ind[\"log_value\"].max()-ind[\"log_value\"].min())/20\n",
    "ind[\"log_value\"].hist(bins=np.arange(min(ind[\"log_value\"]),max(ind[\"log_value\"]) + binwidth, binwidth))\n",
    "plt.xlabel(\"Image Size\")\n",
    "plt.ylabel( \"Number of Images\")\n",
    "plt.title(\"Inland Images n = \" + str(ind_size) + str())\n",
    "plt.savefig('inland_images_hist.png', dpi = 100)\n",
    "plt.show()"
   ]
  },
  {
   "cell_type": "code",
   "execution_count": 376,
   "metadata": {},
   "outputs": [
    {
     "data": {
      "text/plain": [
       "[<matplotlib.lines.Line2D at 0x7f3a9cd495f8>]"
      ]
     },
     "execution_count": 376,
     "metadata": {},
     "output_type": "execute_result"
    },
    {
     "data": {
      "image/png": "[encoded data removed]",
      "text/plain": [
       "<Figure size 432x288 with 1 Axes>"
      ]
     },
     "metadata": {
      "needs_background": "light"
     },
     "output_type": "display_data"
    }
   ],
   "source": [
    "ag,bg,cg = stats.gamma.fit(ind[\"log_value\"])\n",
    "pdf_gamma = stats.gamma.pdf(lnspc, ag, bg,cg)\n",
    "plt.xlabel(\"Image Size\")\n",
    "plt.ylabel( \"Number of Images\")\n",
    "plt.title(\"Inland Images, n = \" + str(ind_size) + str())\n",
    "plt.savefig('inland_images_gamma.png', dpi = 100)\n",
    "plt.plot(lnspc, pdf_gamma, label=\"Gamma\")\n"
   ]
  },
  {
   "cell_type": "markdown",
   "metadata": {},
   "source": [
    "one tailed z- test"
   ]
  },
  {
   "cell_type": "code",
   "execution_count": 365,
   "metadata": {},
   "outputs": [
    {
     "name": "stdout",
     "output_type": "stream",
     "text": [
      "z-critical value:\n",
      "1.959963984540054\n",
      "Sample Mean:\n",
      "15.67356641506523\n",
      "Confidence interval:\n",
      "(15.668159841470699, 15.67897298865976)\n"
     ]
    }
   ],
   "source": [
    "sample_size = 1000\n",
    "sample = np.random.choice(a= cd[\"log_value\"], size = sample_size)\n",
    "sample_mean = sample.mean()\n",
    "z_critical = stats.norm.ppf(q = 0.975)  # Get the z-critical value*\n",
    "\n",
    "print(\"z-critical value:\")              # Check the z-critical value\n",
    "print(z_critical)                        \n",
    "\n",
    " # Get the population standard deviation\n",
    "\n",
    "margin_of_error = z_critical * (cd_std /math.sqrt(cd_size))\n",
    "\n",
    "confidence_interval = (sample_mean - margin_of_error,\n",
    "                       sample_mean + margin_of_error)  \n",
    "\n",
    "print(\"Sample Mean:\")\n",
    "print(sample_mean)\n",
    "\n",
    "print(\"Confidence interval:\")\n",
    "print(confidence_interval)"
   ]
  },
  {
   "cell_type": "markdown",
   "metadata": {},
   "source": [
    "two-tailed z-test"
   ]
  },
  {
   "cell_type": "code",
   "execution_count": 370,
   "metadata": {},
   "outputs": [
    {
     "name": "stdout",
     "output_type": "stream",
     "text": [
      "Sample Mean:\n",
      "15.680011917572024\n",
      "Confidence interval:\n",
      "(15.66969399915228, 15.690329835991768)\n"
     ]
    }
   ],
   "source": [
    "sample_size = 1000\n",
    "\n",
    "intervals = []\n",
    "sample_means = []\n",
    "\n",
    "for sample in range(25):\n",
    "    sample = np.random.choice(a= cd[\"log_value\"], size = sample_size)\n",
    "    sample_mean = sample.mean()\n",
    "    sample_means.append(sample_mean)\n",
    "\n",
    "    z_critical = stats.norm.ppf(q = 0.975)  # Get the z-critical value*         \n",
    "\n",
    "     \n",
    "    stats.norm.ppf(q = 0.025)\n",
    "\n",
    "    margin_of_error = z_critical * (cd_std/math.sqrt(sample_size))\n",
    "\n",
    "    confidence_interval = (sample_mean - margin_of_error,\n",
    "                           sample_mean + margin_of_error)  \n",
    "    \n",
    "    intervals.append(confidence_interval)\n",
    "print(\"Sample Mean:\")\n",
    "print(sample_mean)\n",
    "\n",
    "print(\"Confidence interval:\")\n",
    "print(confidence_interval)"
   ]
  },
  {
   "cell_type": "code",
   "execution_count": null,
   "metadata": {},
   "outputs": [],
   "source": []
  }
 ],
 "metadata": {
  "kernelspec": {
   "display_name": "Python 3",
   "language": "python",
   "name": "python3"
  },
  "language_info": {
   "codemirror_mode": {
    "name": "ipython",
    "version": 3
   },
   "file_extension": ".py",
   "mimetype": "text/x-python",
   "name": "python",
   "nbconvert_exporter": "python",
   "pygments_lexer": "ipython3",
   "version": "3.7.3"
  }
 },
 "nbformat": 4,
 "nbformat_minor": 2
}
