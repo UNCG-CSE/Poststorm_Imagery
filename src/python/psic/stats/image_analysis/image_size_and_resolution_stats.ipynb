{
 "cells": [
  {
   "cell_type": "code",
   "execution_count": 6,
   "metadata": {},
   "outputs": [],
   "source": [
    "import scipy.stats as stats\n",
    "import matplotlib\n",
    "import matplotlib.patches as mpatches\n",
    "import math\n",
    "import pandas as pd\n",
    "import matplotlib.pyplot as plt\n",
    "import numpy as np\n",
    "import seaborn as sns"
   ]
  },
  {
   "cell_type": "markdown",
   "metadata": {},
   "source": [
    "*** Read the csv file ***"
   ]
  },
  {
   "cell_type": "code",
   "execution_count": 7,
   "metadata": {},
   "outputs": [
    {
     "data": {
      "text/html": [
       "<div>\n",
       "<style scoped>\n",
       "    .dataframe tbody tr th:only-of-type {\n",
       "        vertical-align: middle;\n",
       "    }\n",
       "\n",
       "    .dataframe tbody tr th {\n",
       "        vertical-align: top;\n",
       "    }\n",
       "\n",
       "    .dataframe thead th {\n",
       "        text-align: right;\n",
       "    }\n",
       "</style>\n",
       "<table border=\"1\" class=\"dataframe\">\n",
       "  <thead>\n",
       "    <tr style=\"text-align: right;\">\n",
       "      <th></th>\n",
       "      <th>file</th>\n",
       "      <th>size(BYTE)</th>\n",
       "      <th>size(KB)</th>\n",
       "      <th>size(MB)</th>\n",
       "      <th>resolution(DPI)</th>\n",
       "    </tr>\n",
       "  </thead>\n",
       "  <tbody>\n",
       "    <tr>\n",
       "      <th>0</th>\n",
       "      <td>Florence/20180915a_jpgs/jpgs/C25870216.jpg</td>\n",
       "      <td>8974386</td>\n",
       "      <td>8764.048828</td>\n",
       "      <td>8.558641</td>\n",
       "      <td>96</td>\n",
       "    </tr>\n",
       "    <tr>\n",
       "      <th>1</th>\n",
       "      <td>Florence/20180915a_jpgs/jpgs/C25870235.jpg</td>\n",
       "      <td>8151144</td>\n",
       "      <td>7960.101563</td>\n",
       "      <td>7.773537</td>\n",
       "      <td>96</td>\n",
       "    </tr>\n",
       "    <tr>\n",
       "      <th>2</th>\n",
       "      <td>Florence/20180915a_jpgs/jpgs/C25870324.jpg</td>\n",
       "      <td>8165571</td>\n",
       "      <td>7974.190430</td>\n",
       "      <td>7.787295</td>\n",
       "      <td>96</td>\n",
       "    </tr>\n",
       "    <tr>\n",
       "      <th>3</th>\n",
       "      <td>Florence/20180915a_jpgs/jpgs/C25870782.jpg</td>\n",
       "      <td>7886169</td>\n",
       "      <td>7701.336914</td>\n",
       "      <td>7.520837</td>\n",
       "      <td>96</td>\n",
       "    </tr>\n",
       "    <tr>\n",
       "      <th>4</th>\n",
       "      <td>Florence/20180915a_jpgs/jpgs/C25871060.jpg</td>\n",
       "      <td>7017676</td>\n",
       "      <td>6853.199219</td>\n",
       "      <td>6.692577</td>\n",
       "      <td>96</td>\n",
       "    </tr>\n",
       "  </tbody>\n",
       "</table>\n",
       "</div>"
      ],
      "text/plain": [
       "                                         file  size(BYTE)     size(KB)  \\\n",
       "0  Florence/20180915a_jpgs/jpgs/C25870216.jpg     8974386  8764.048828   \n",
       "1  Florence/20180915a_jpgs/jpgs/C25870235.jpg     8151144  7960.101563   \n",
       "2  Florence/20180915a_jpgs/jpgs/C25870324.jpg     8165571  7974.190430   \n",
       "3  Florence/20180915a_jpgs/jpgs/C25870782.jpg     7886169  7701.336914   \n",
       "4  Florence/20180915a_jpgs/jpgs/C25871060.jpg     7017676  6853.199219   \n",
       "\n",
       "   size(MB)  resolution(DPI)  \n",
       "0  8.558641               96  \n",
       "1  7.773537               96  \n",
       "2  7.787295               96  \n",
       "3  7.520837               96  \n",
       "4  6.692577               96  "
      ]
     },
     "execution_count": 7,
     "metadata": {},
     "output_type": "execute_result"
    }
   ],
   "source": [
    "image_data =pd.read_csv(\"cata_for_image_reso_and_size.csv\")\n",
    "image_data.head()"
   ]
  },
  {
   "cell_type": "markdown",
   "metadata": {},
   "source": [
    "*** Seperated the data based on the resolution. image_300 contains all the images with 300 resolution. image_96 contains all the images with 96 resolution. ***"
   ]
  },
  {
   "cell_type": "code",
   "execution_count": 8,
   "metadata": {},
   "outputs": [
    {
     "data": {
      "text/html": [
       "<div>\n",
       "<style scoped>\n",
       "    .dataframe tbody tr th:only-of-type {\n",
       "        vertical-align: middle;\n",
       "    }\n",
       "\n",
       "    .dataframe tbody tr th {\n",
       "        vertical-align: top;\n",
       "    }\n",
       "\n",
       "    .dataframe thead th {\n",
       "        text-align: right;\n",
       "    }\n",
       "</style>\n",
       "<table border=\"1\" class=\"dataframe\">\n",
       "  <thead>\n",
       "    <tr style=\"text-align: right;\">\n",
       "      <th></th>\n",
       "      <th>file</th>\n",
       "      <th>size(BYTE)</th>\n",
       "      <th>size(KB)</th>\n",
       "      <th>size(MB)</th>\n",
       "      <th>resolution(DPI)</th>\n",
       "    </tr>\n",
       "  </thead>\n",
       "  <tbody>\n",
       "    <tr>\n",
       "      <th>6</th>\n",
       "      <td>Florence/20180915a_jpgs/jpgs/C25871159.jpg</td>\n",
       "      <td>11921486</td>\n",
       "      <td>11642.076170</td>\n",
       "      <td>11.369215</td>\n",
       "      <td>300</td>\n",
       "    </tr>\n",
       "    <tr>\n",
       "      <th>9</th>\n",
       "      <td>Florence/20180915a_jpgs/jpgs/C25871583.jpg</td>\n",
       "      <td>11616227</td>\n",
       "      <td>11343.971680</td>\n",
       "      <td>11.078097</td>\n",
       "      <td>300</td>\n",
       "    </tr>\n",
       "    <tr>\n",
       "      <th>10</th>\n",
       "      <td>Florence/20180915a_jpgs/jpgs/C25871965.jpg</td>\n",
       "      <td>7816910</td>\n",
       "      <td>7633.701172</td>\n",
       "      <td>7.454786</td>\n",
       "      <td>300</td>\n",
       "    </tr>\n",
       "    <tr>\n",
       "      <th>16</th>\n",
       "      <td>Florence/20180915a_jpgs/jpgs/P25871949.jpg</td>\n",
       "      <td>13736437</td>\n",
       "      <td>13414.489260</td>\n",
       "      <td>13.100087</td>\n",
       "      <td>300</td>\n",
       "    </tr>\n",
       "    <tr>\n",
       "      <th>18</th>\n",
       "      <td>Florence/20180915a_jpgs/jpgs/P25873609.jpg</td>\n",
       "      <td>11051005</td>\n",
       "      <td>10791.997070</td>\n",
       "      <td>10.539060</td>\n",
       "      <td>300</td>\n",
       "    </tr>\n",
       "  </tbody>\n",
       "</table>\n",
       "</div>"
      ],
      "text/plain": [
       "                                          file  size(BYTE)      size(KB)  \\\n",
       "6   Florence/20180915a_jpgs/jpgs/C25871159.jpg    11921486  11642.076170   \n",
       "9   Florence/20180915a_jpgs/jpgs/C25871583.jpg    11616227  11343.971680   \n",
       "10  Florence/20180915a_jpgs/jpgs/C25871965.jpg     7816910   7633.701172   \n",
       "16  Florence/20180915a_jpgs/jpgs/P25871949.jpg    13736437  13414.489260   \n",
       "18  Florence/20180915a_jpgs/jpgs/P25873609.jpg    11051005  10791.997070   \n",
       "\n",
       "     size(MB)  resolution(DPI)  \n",
       "6   11.369215              300  \n",
       "9   11.078097              300  \n",
       "10   7.454786              300  \n",
       "16  13.100087              300  \n",
       "18  10.539060              300  "
      ]
     },
     "execution_count": 8,
     "metadata": {},
     "output_type": "execute_result"
    }
   ],
   "source": [
    "image_300 = image_data.loc[image_data['resolution(DPI)'] == 300]\n",
    "image_300.head()"
   ]
  },
  {
   "cell_type": "code",
   "execution_count": 9,
   "metadata": {},
   "outputs": [
    {
     "data": {
      "text/html": [
       "<div>\n",
       "<style scoped>\n",
       "    .dataframe tbody tr th:only-of-type {\n",
       "        vertical-align: middle;\n",
       "    }\n",
       "\n",
       "    .dataframe tbody tr th {\n",
       "        vertical-align: top;\n",
       "    }\n",
       "\n",
       "    .dataframe thead th {\n",
       "        text-align: right;\n",
       "    }\n",
       "</style>\n",
       "<table border=\"1\" class=\"dataframe\">\n",
       "  <thead>\n",
       "    <tr style=\"text-align: right;\">\n",
       "      <th></th>\n",
       "      <th>file</th>\n",
       "      <th>size(BYTE)</th>\n",
       "      <th>size(KB)</th>\n",
       "      <th>size(MB)</th>\n",
       "      <th>resolution(DPI)</th>\n",
       "    </tr>\n",
       "  </thead>\n",
       "  <tbody>\n",
       "    <tr>\n",
       "      <th>0</th>\n",
       "      <td>Florence/20180915a_jpgs/jpgs/C25870216.jpg</td>\n",
       "      <td>8974386</td>\n",
       "      <td>8764.048828</td>\n",
       "      <td>8.558641</td>\n",
       "      <td>96</td>\n",
       "    </tr>\n",
       "    <tr>\n",
       "      <th>1</th>\n",
       "      <td>Florence/20180915a_jpgs/jpgs/C25870235.jpg</td>\n",
       "      <td>8151144</td>\n",
       "      <td>7960.101563</td>\n",
       "      <td>7.773537</td>\n",
       "      <td>96</td>\n",
       "    </tr>\n",
       "    <tr>\n",
       "      <th>2</th>\n",
       "      <td>Florence/20180915a_jpgs/jpgs/C25870324.jpg</td>\n",
       "      <td>8165571</td>\n",
       "      <td>7974.190430</td>\n",
       "      <td>7.787295</td>\n",
       "      <td>96</td>\n",
       "    </tr>\n",
       "    <tr>\n",
       "      <th>3</th>\n",
       "      <td>Florence/20180915a_jpgs/jpgs/C25870782.jpg</td>\n",
       "      <td>7886169</td>\n",
       "      <td>7701.336914</td>\n",
       "      <td>7.520837</td>\n",
       "      <td>96</td>\n",
       "    </tr>\n",
       "    <tr>\n",
       "      <th>4</th>\n",
       "      <td>Florence/20180915a_jpgs/jpgs/C25871060.jpg</td>\n",
       "      <td>7017676</td>\n",
       "      <td>6853.199219</td>\n",
       "      <td>6.692577</td>\n",
       "      <td>96</td>\n",
       "    </tr>\n",
       "  </tbody>\n",
       "</table>\n",
       "</div>"
      ],
      "text/plain": [
       "                                         file  size(BYTE)     size(KB)  \\\n",
       "0  Florence/20180915a_jpgs/jpgs/C25870216.jpg     8974386  8764.048828   \n",
       "1  Florence/20180915a_jpgs/jpgs/C25870235.jpg     8151144  7960.101563   \n",
       "2  Florence/20180915a_jpgs/jpgs/C25870324.jpg     8165571  7974.190430   \n",
       "3  Florence/20180915a_jpgs/jpgs/C25870782.jpg     7886169  7701.336914   \n",
       "4  Florence/20180915a_jpgs/jpgs/C25871060.jpg     7017676  6853.199219   \n",
       "\n",
       "   size(MB)  resolution(DPI)  \n",
       "0  8.558641               96  \n",
       "1  7.773537               96  \n",
       "2  7.787295               96  \n",
       "3  7.520837               96  \n",
       "4  6.692577               96  "
      ]
     },
     "execution_count": 9,
     "metadata": {},
     "output_type": "execute_result"
    }
   ],
   "source": [
    "image_96 = image_data.loc[image_data['resolution(DPI)'] == 96]\n",
    "image_96.head()"
   ]
  },
  {
   "cell_type": "markdown",
   "metadata": {},
   "source": [
    "*** Calculating the mean of image size between 300 and 96 resolution ***"
   ]
  },
  {
   "cell_type": "code",
   "execution_count": 10,
   "metadata": {},
   "outputs": [
    {
     "name": "stdout",
     "output_type": "stream",
     "text": [
      "300 resolution image size mean: 7.814360595040986\n",
      "96 resolution image size mean: 7.126585937665785\n"
     ]
    }
   ],
   "source": [
    "image_300_size_mean = image_300[\"size(MB)\"].mean()\n",
    "print(\"300 resolution image size mean: \" + str(image_300_size_mean))\n",
    "image_96_size_mean = image_96[\"size(MB)\"].mean()\n",
    "print(\"96 resolution image size mean: \" + str(image_96_size_mean))"
   ]
  },
  {
   "cell_type": "markdown",
   "metadata": {},
   "source": [
    "*** Calculating the standard deviation of image size between 300 and 96 resolution ***"
   ]
  },
  {
   "cell_type": "code",
   "execution_count": 11,
   "metadata": {},
   "outputs": [
    {
     "name": "stdout",
     "output_type": "stream",
     "text": [
      "300 resolution image size SD: 2.6057085010465553\n",
      "96 resolution image size SD: 2.0201401253159434\n"
     ]
    }
   ],
   "source": [
    "image_300_size_SD = image_300[\"size(MB)\"].std()\n",
    "print(\"300 resolution image size SD: \" + str(image_300_size_SD))\n",
    "image_96_size_SD = image_96[\"size(MB)\"].std()\n",
    "print(\"96 resolution image size SD: \" + str(image_96_size_SD))"
   ]
  },
  {
   "cell_type": "markdown",
   "metadata": {},
   "source": [
    "*** Calculating the image size mean, median, variance, and standard deviation ***"
   ]
  },
  {
   "cell_type": "code",
   "execution_count": 12,
   "metadata": {},
   "outputs": [
    {
     "name": "stdout",
     "output_type": "stream",
     "text": [
      "size mean: 7.29473926071142\n",
      "size median: 6.865087508999999\n",
      "size variance: 4.818473185178074\n",
      "size SD: 2.1951020899215767\n"
     ]
    }
   ],
   "source": [
    "size_mean = image_data[\"size(MB)\"].mean()\n",
    "size_median = image_data[\"size(MB)\"].median()\n",
    "size_variance = image_data[\"size(MB)\"].var()\n",
    "size_SD = image_data[\"size(MB)\"].std()\n",
    "print(\"size mean: \" + str(size_mean))\n",
    "print(\"size median: \" + str(size_median))\n",
    "print(\"size variance: \" + str(size_variance))\n",
    "print(\"size SD: \" + str(size_SD))"
   ]
  },
  {
   "cell_type": "markdown",
   "metadata": {},
   "source": [
    "*** Calculating the image resolution mean, median, variance, and standard deviation ***"
   ]
  },
  {
   "cell_type": "code",
   "execution_count": 13,
   "metadata": {},
   "outputs": [
    {
     "name": "stdout",
     "output_type": "stream",
     "text": [
      "resolution mean: 145.875751503006\n",
      "resolution median: 96.0\n",
      "resolution variance: 7702.498587536447\n",
      "resolution SD: 87.76387974295831\n"
     ]
    }
   ],
   "source": [
    "resolution_mean = image_data[\"resolution(DPI)\"].mean()\n",
    "resolution_median = image_data[\"resolution(DPI)\"].median()\n",
    "resolution_variance = image_data[\"resolution(DPI)\"].var()\n",
    "resolution_SD = image_data[\"resolution(DPI)\"].std()\n",
    "print(\"resolution mean: \" + str(resolution_mean))\n",
    "print(\"resolution median: \" + str(resolution_median))\n",
    "print(\"resolution variance: \" + str(resolution_variance))\n",
    "print(\"resolution SD: \" + str(resolution_SD))"
   ]
  },
  {
   "cell_type": "markdown",
   "metadata": {},
   "source": [
    "***Two sample T- test***\n",
    "\n",
    "*** Null Hypothesis: Image size mean is same between 300 and 96 resolution Images. ***\n",
    "\n",
    "*** Ploting the 300 resolution image size and 96 resolution image size together. Also ploting the mean as well to see the difference. ***"
   ]
  },
  {
   "cell_type": "code",
   "execution_count": 14,
   "metadata": {},
   "outputs": [
    {
     "data": {
      "image/png": "[encoded data removed]",
      "text/plain": [
       "<Figure size 864x576 with 1 Axes>"
      ]
     },
     "metadata": {
      "needs_background": "light"
     },
     "output_type": "display_data"
    }
   ],
   "source": [
    "plt.figure(figsize=(12,8))\n",
    "\n",
    "plt.hist(image_300[\"size(MB)\"], bins=20, edgecolor='k', alpha=0.5, label='300 resolution')\n",
    "plt.hist(image_96[\"size(MB)\"], bins=20, edgecolor='k', alpha=0.5, label='96 resolution')\n",
    "\n",
    "plt.axvline(image_300_size_mean, color='r', linewidth=2, label='300 reso Mean') \n",
    "plt.axvline(image_96_size_mean, color='y',  linewidth=2, label='96 reso Mean') \n",
    "\n",
    "plt.legend(loc='upper right')\n",
    "plt.savefig('images_size_hyto_test.png', dpi = 100)"
   ]
  },
  {
   "cell_type": "markdown",
   "metadata": {},
   "source": [
    "*** Calculating the T-Test within the data to find the P-value ***"
   ]
  },
  {
   "cell_type": "code",
   "execution_count": 15,
   "metadata": {},
   "outputs": [
    {
     "data": {
      "text/plain": [
       "Ttest_indResult(statistic=2.667511785040221, pvalue=0.008377859996939952)"
      ]
     },
     "execution_count": 15,
     "metadata": {},
     "output_type": "execute_result"
    }
   ],
   "source": [
    "stats.ttest_ind(a= image_300[\"size(MB)\"],\n",
    "                b= image_96[\"size(MB)\"],\n",
    "                equal_var=False)"
   ]
  },
  {
   "cell_type": "markdown",
   "metadata": {},
   "source": [
    "*** The T-test gives p-value of 0.008 ***\n",
    "\n",
    "*** Using 95% confidence level we reject the null hypothesis. Since the p-value is smaller than the corresponding significance level of 5%. ( 𝛼 < 0.05 ) ***"
   ]
  },
  {
   "cell_type": "markdown",
   "metadata": {},
   "source": [
    "*** Ploting the histogram for image size ***"
   ]
  },
  {
   "cell_type": "code",
   "execution_count": 16,
   "metadata": {},
   "outputs": [
    {
     "data": {
      "image/png": "[encoded data removed]",
      "text/plain": [
       "<Figure size 432x288 with 1 Axes>"
      ]
     },
     "metadata": {
      "needs_background": "light"
     },
     "output_type": "display_data"
    }
   ],
   "source": [
    "matplotlib.rc('axes', labelsize=12)\n",
    "matplotlib.rc('axes', titlesize=12)\n",
    "pd.DataFrame(image_data).hist(column=\"size(MB)\", bins=15, ec='red')\n",
    "plt.xlabel(\"Size(MB)\")\n",
    "plt.ylabel( \"Number of Images\")\n",
    "plt.title(\"Sample size = \" + str(image_data.shape[0]+1) + str())\n",
    "plt.savefig('images_size_hist.png', dpi = 100)"
   ]
  },
  {
   "cell_type": "markdown",
   "metadata": {},
   "source": [
    "*** Ploting the density curve for the image size using seaborn ***"
   ]
  },
  {
   "cell_type": "code",
   "execution_count": 17,
   "metadata": {},
   "outputs": [
    {
     "data": {
      "image/png": "[encoded data removed]",
      "text/plain": [
       "<Figure size 432x288 with 1 Axes>"
      ]
     },
     "metadata": {
      "needs_background": "light"
     },
     "output_type": "display_data"
    }
   ],
   "source": [
    "matplotlib.rc('axes', labelsize=12)\n",
    "matplotlib.rc('axes', titlesize=12)\n",
    "sns.distplot(image_data['size(MB)'], hist=True, kde=True,\n",
    "             bins=15, color = 'green', \n",
    "             hist_kws={'edgecolor':'red'},\n",
    "             kde_kws={'linewidth': 2})\n",
    "plt.savefig('images_size_density.png', dpi = 100)"
   ]
  },
  {
   "cell_type": "markdown",
   "metadata": {},
   "source": [
    "*** Ploting the histogram for image resolution ***"
   ]
  },
  {
   "cell_type": "code",
   "execution_count": 18,
   "metadata": {},
   "outputs": [
    {
     "data": {
      "image/png": "[encoded data removed]",
      "text/plain": [
       "<Figure size 432x288 with 1 Axes>"
      ]
     },
     "metadata": {
      "needs_background": "light"
     },
     "output_type": "display_data"
    }
   ],
   "source": [
    "matplotlib.rc('axes', labelsize=12)\n",
    "matplotlib.rc('axes', titlesize=12)\n",
    "pd.DataFrame(image_data).hist(column=\"resolution(DPI)\", bins=15, ec='red')\n",
    "plt.xlabel(\"Resolution(DPI)\")\n",
    "plt.ylabel( \"Number of Images\")\n",
    "plt.title(\"Sample size = \" + str(image_data.shape[0]+1) + str())\n",
    "plt.savefig('images_reso_hist.png', dpi = 100)"
   ]
  },
  {
   "cell_type": "markdown",
   "metadata": {},
   "source": [
    "*** Ploting the density curve for the image resolution using seaborn ***"
   ]
  },
  {
   "cell_type": "code",
   "execution_count": 19,
   "metadata": {},
   "outputs": [
    {
     "data": {
      "image/png": "[encoded data removed]",
      "text/plain": [
       "<Figure size 432x288 with 1 Axes>"
      ]
     },
     "metadata": {
      "needs_background": "light"
     },
     "output_type": "display_data"
    }
   ],
   "source": [
    "# seaborn histogram and density plot\n",
    "matplotlib.rc('axes', labelsize=12)\n",
    "matplotlib.rc('axes', titlesize=12)\n",
    "sns.distplot(image_data['resolution(DPI)'], hist=True, kde=True,\n",
    "             bins=15, color = 'green', \n",
    "             hist_kws={'edgecolor':'red'},\n",
    "             kde_kws={'linewidth': 2})\n",
    "plt.savefig('images_reso_density.png', dpi = 100)"
   ]
  },
  {
   "cell_type": "markdown",
   "metadata": {},
   "source": [
    "*** Using the T-critical value to find the confidence interval for image size ***"
   ]
  },
  {
   "cell_type": "code",
   "execution_count": 20,
   "metadata": {},
   "outputs": [
    {
     "name": "stdout",
     "output_type": "stream",
     "text": [
      "T-critical value: 2.0638985616280205\n",
      "Confidence interval for size: (7.14832845103436, 7.55354583186564)\n"
     ]
    }
   ],
   "source": [
    "sample_size = 500\n",
    "\n",
    "for sample in range(25):\n",
    "    sample = np.random.choice(a=image_data[\"size(MB)\"], size = sample_size)\n",
    "    sample_mean = sample.mean()\n",
    "    \n",
    "    t_critical = stats.t.ppf(q = 0.975, df=24)  # Get the t-critical value\n",
    "    \n",
    "    sigma = size_SD/math.sqrt(sample_size)  # Standard deviation estimate\n",
    "    margin_of_error = t_critical * sigma\n",
    "    \n",
    "    confidence_interval = (sample_mean - margin_of_error,\n",
    "                           sample_mean + margin_of_error)  \n",
    "    \n",
    "print(\"T-critical value: \" + str(t_critical))\n",
    "print(\"Confidence interval for size: \" + str(confidence_interval))"
   ]
  },
  {
   "cell_type": "markdown",
   "metadata": {},
   "source": [
    "*** Used the T-critical value to fidn the confidence interval for resolution ***"
   ]
  },
  {
   "cell_type": "code",
   "execution_count": 21,
   "metadata": {},
   "outputs": [
    {
     "name": "stdout",
     "output_type": "stream",
     "text": [
      "T-critical value: 2.0638985616280205\n",
      "Confidence interval for resolution: (138.49136321314708, 154.69263678685294)\n"
     ]
    }
   ],
   "source": [
    "sample_size = 500\n",
    "\n",
    "for sample in range(25):\n",
    "    sample = np.random.choice(a=image_data[\"resolution(DPI)\"], size = sample_size)\n",
    "    sample_mean = sample.mean()\n",
    "    \n",
    "    t_critical = stats.t.ppf(q = 0.975, df=24)  # Get the t-critical value\n",
    "    \n",
    "    sigma = resolution_SD/math.sqrt(sample_size)  # Standard deviation estimate\n",
    "    margin_of_error = t_critical * sigma\n",
    "    \n",
    "    confidence_interval = (sample_mean - margin_of_error,\n",
    "                           sample_mean + margin_of_error)  \n",
    "    \n",
    "print(\"T-critical value: \" + str(t_critical))\n",
    "print(\"Confidence interval for resolution: \" + str(confidence_interval))"
   ]
  },
  {
   "cell_type": "markdown",
   "metadata": {},
   "source": [
    "*** Calculating the covariance and correlation between image size and resolution ***"
   ]
  },
  {
   "cell_type": "code",
   "execution_count": 22,
   "metadata": {},
   "outputs": [
    {
     "name": "stdout",
     "output_type": "stream",
     "text": [
      "Covariance of size and resolution: 25.97\n",
      "Correlation of size and resolution: 0.13\n"
     ]
    }
   ],
   "source": [
    "print('Covariance of size and resolution: %.2f'%np.cov(image_data[\"size(MB)\"], image_data[\"resolution(DPI)\"])[0, 1])\n",
    "print('Correlation of size and resolution: %.2f'%np.corrcoef(image_data[\"size(MB)\"], image_data[\"resolution(DPI)\"])[0, 1])"
   ]
  },
  {
   "cell_type": "markdown",
   "metadata": {},
   "source": [
    "*** Ploting the image size and resolution to see the correlation between them ***"
   ]
  },
  {
   "cell_type": "code",
   "execution_count": 23,
   "metadata": {},
   "outputs": [
    {
     "data": {
      "image/png": "[encoded data removed]",
      "text/plain": [
       "<Figure size 864x720 with 1 Axes>"
      ]
     },
     "metadata": {
      "needs_background": "light"
     },
     "output_type": "display_data"
    }
   ],
   "source": [
    "matplotlib.rc('axes', labelsize=19)\n",
    "matplotlib.rc('axes', titlesize=12)\n",
    "m, b = np.polyfit(image_data[\"resolution(DPI)\"], image_data[\"size(MB)\"], 1)\n",
    "plt.figure(figsize=(12,10))\n",
    "plt.scatter(image_data[\"resolution(DPI)\"], image_data[\"size(MB)\"])\n",
    "plt.xlabel('resolution')\n",
    "plt.ylabel('size')\n",
    "plt.plot(image_data[\"resolution(DPI)\"], m*image_data[\"resolution(DPI)\"] + b, 'r-')\n",
    "plt.savefig('images_correlation.png', dpi = 100)"
   ]
  }
 ],
 "metadata": {
  "kernelspec": {
   "display_name": "Python 3",
   "language": "python",
   "name": "python3"
  },
  "language_info": {
   "codemirror_mode": {
    "name": "ipython",
    "version": 3
   },
   "file_extension": ".py",
   "mimetype": "text/x-python",
   "name": "python",
   "nbconvert_exporter": "python",
   "pygments_lexer": "ipython3",
   "version": "3.7.3"
  }
 },
 "nbformat": 4,
 "nbformat_minor": 2
}
