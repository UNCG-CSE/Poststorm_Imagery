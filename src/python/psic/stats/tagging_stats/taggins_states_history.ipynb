{
 "cells": [
  {
   "cell_type": "code",
   "execution_count": 1,
   "metadata": {},
   "outputs": [],
   "source": [
    "import pandas as pd\n",
    "import jsonpickle\n",
    "import numpy as np\n",
    "import matplotlib.pyplot as plt\n",
    "import os, os.path\n",
    "import dateutil.parser"
   ]
  },
  {
   "cell_type": "code",
   "execution_count": 2,
   "metadata": {},
   "outputs": [],
   "source": [
    "# FILE_AS_ROOT = False\n",
    "SELF_PATH = os.getcwd()#os.path.dirname(os.path.abspath(__file__))\n",
    "PATH_TO_ROOT = os.path.join(SELF_PATH,'../../../../../../')\n",
    "PATH_TO_JSON_STATES = os.path.join(PATH_TO_ROOT,'tagging_json_states')"
   ]
  },
  {
   "cell_type": "code",
   "execution_count": 3,
   "metadata": {},
   "outputs": [
    {
     "name": "stdout",
     "output_type": "stream",
     "text": [
      "892\n"
     ]
    }
   ],
   "source": [
    "TOTAL_JSON_STATES = (len([name for name in os.listdir(PATH_TO_JSON_STATES) if os.path.isfile(os.path.join(PATH_TO_JSON_STATES, name))]))\n",
    "print(TOTAL_JSON_STATES)"
   ]
  },
  {
   "cell_type": "code",
   "execution_count": 4,
   "metadata": {},
   "outputs": [],
   "source": [
    "def get_pickle(path_to_file):\n",
    "    with open(path_to_file, 'r') as f:\n",
    "        return jsonpickle.decode(f.read())"
   ]
  },
  {
   "cell_type": "code",
   "execution_count": 5,
   "metadata": {},
   "outputs": [],
   "source": [
    "def how_many_tagged(pickle_file):\n",
    "    \n",
    "    done_tagging_count=len(pickle_file.finished_tagged_queue)\n",
    "    tagged_but_not_done_count=0\n",
    "    \n",
    "    for image in pickle_file.pending_images_queue:\n",
    "        if len(image.get_taggers()) > 0:\n",
    "            tagged_but_not_done_count-=-1\n",
    "    \n",
    "    return pd.DataFrame([{ \n",
    "        'not_done':tagged_but_not_done_count,\n",
    "        'done':done_tagging_count,\n",
    "        'tagged_ratio': tagged_but_not_done_count/(tagged_but_not_done_count+done_tagging_count)\n",
    "     }])"
   ]
  },
  {
   "cell_type": "code",
   "execution_count": 6,
   "metadata": {},
   "outputs": [],
   "source": [
    "def get_all_json_states(path_states):\n",
    "    files = os.listdir(path_states)\n",
    "    filter_by_type = [f for f in files if f[-4:] == 'json']\n",
    "    filter_by_type.sort()\n",
    "    return filter_by_type"
   ]
  },
  {
   "cell_type": "code",
   "execution_count": 7,
   "metadata": {},
   "outputs": [
    {
     "name": "stdout",
     "output_type": "stream",
     "text": [
      "['assigner_state-root-2019-11-11T20:16:17.207157.json', 'assigner_state-root-2019-11-11T20:16:48.444302.json', 'assigner_state-root-2019-11-11T20:16:51.151759.json']\n"
     ]
    }
   ],
   "source": [
    "files_json = get_all_json_states(PATH_TO_JSON_STATES)\n",
    "print(files_json[1:4])"
   ]
  },
  {
   "cell_type": "code",
   "execution_count": 8,
   "metadata": {},
   "outputs": [],
   "source": [
    "def get_tagged_ratio(files , skip=50):\n",
    "    \n",
    "    main_df = pd.DataFrame()\n",
    "    \n",
    "    for file in files[::skip]:\n",
    "        path = f\"{PATH_TO_JSON_STATES}/{file}\"\n",
    "        \n",
    "        remove_name = file.split('assigner_state-root-')[-1]\n",
    "        date_string = remove_name.split('.json')[0]\n",
    "        removed_nano = date_string.split('.')[0].replace(\"_\",\":\")\n",
    "        time = dateutil.parser.parse(removed_nano).strftime('%s')\n",
    "        time_df= pd.DataFrame([{'time':time,'name':date_string}])    \n",
    "        \n",
    "        tag_df = how_many_tagged(get_pickle(path))\n",
    "        \n",
    "        combined_df = pd.concat([time_df,tag_df],axis=1, sort=False)\n",
    "        main_df = pd.concat([combined_df,main_df],ignore_index=True)\n",
    "        \n",
    "    return main_df"
   ]
  },
  {
   "cell_type": "code",
   "execution_count": 9,
   "metadata": {},
   "outputs": [],
   "source": [
    "df = get_tagged_ratio(files_json)\n",
    "df_time_sort = df.sort_values(by=['time'])"
   ]
  },
  {
   "cell_type": "code",
   "execution_count": 10,
   "metadata": {},
   "outputs": [
    {
     "data": {
      "text/html": [
       "<div>\n",
       "<style scoped>\n",
       "    .dataframe tbody tr th:only-of-type {\n",
       "        vertical-align: middle;\n",
       "    }\n",
       "\n",
       "    .dataframe tbody tr th {\n",
       "        vertical-align: top;\n",
       "    }\n",
       "\n",
       "    .dataframe thead th {\n",
       "        text-align: right;\n",
       "    }\n",
       "</style>\n",
       "<table border=\"1\" class=\"dataframe\">\n",
       "  <thead>\n",
       "    <tr style=\"text-align: right;\">\n",
       "      <th></th>\n",
       "      <th>time</th>\n",
       "      <th>name</th>\n",
       "      <th>not_done</th>\n",
       "      <th>done</th>\n",
       "      <th>tagged_ratio</th>\n",
       "    </tr>\n",
       "  </thead>\n",
       "  <tbody>\n",
       "    <tr>\n",
       "      <th>17</th>\n",
       "      <td>1573446648</td>\n",
       "      <td>2019-11-10T23:30:48.430349</td>\n",
       "      <td>237</td>\n",
       "      <td>0</td>\n",
       "      <td>1.000000</td>\n",
       "    </tr>\n",
       "    <tr>\n",
       "      <th>16</th>\n",
       "      <td>1573522418</td>\n",
       "      <td>2019-11-11T20:33:38.520814</td>\n",
       "      <td>216</td>\n",
       "      <td>20</td>\n",
       "      <td>0.915254</td>\n",
       "    </tr>\n",
       "    <tr>\n",
       "      <th>15</th>\n",
       "      <td>1573558785</td>\n",
       "      <td>2019-11-12T06:39:45.766386</td>\n",
       "      <td>195</td>\n",
       "      <td>40</td>\n",
       "      <td>0.829787</td>\n",
       "    </tr>\n",
       "    <tr>\n",
       "      <th>14</th>\n",
       "      <td>1573559335</td>\n",
       "      <td>2019-11-12T06:48:55.595966</td>\n",
       "      <td>175</td>\n",
       "      <td>61</td>\n",
       "      <td>0.741525</td>\n",
       "    </tr>\n",
       "    <tr>\n",
       "      <th>13</th>\n",
       "      <td>1573589450</td>\n",
       "      <td>2019-11-12T15:10:50.669186</td>\n",
       "      <td>158</td>\n",
       "      <td>79</td>\n",
       "      <td>0.666667</td>\n",
       "    </tr>\n",
       "  </tbody>\n",
       "</table>\n",
       "</div>"
      ],
      "text/plain": [
       "          time                        name  not_done  done  tagged_ratio\n",
       "17  1573446648  2019-11-10T23:30:48.430349       237     0      1.000000\n",
       "16  1573522418  2019-11-11T20:33:38.520814       216    20      0.915254\n",
       "15  1573558785  2019-11-12T06:39:45.766386       195    40      0.829787\n",
       "14  1573559335  2019-11-12T06:48:55.595966       175    61      0.741525\n",
       "13  1573589450  2019-11-12T15:10:50.669186       158    79      0.666667"
      ]
     },
     "execution_count": 10,
     "metadata": {},
     "output_type": "execute_result"
    }
   ],
   "source": [
    "df_time_sort.head()"
   ]
  },
  {
   "cell_type": "code",
   "execution_count": 11,
   "metadata": {},
   "outputs": [
    {
     "data": {
      "text/html": [
       "<div>\n",
       "<style scoped>\n",
       "    .dataframe tbody tr th:only-of-type {\n",
       "        vertical-align: middle;\n",
       "    }\n",
       "\n",
       "    .dataframe tbody tr th {\n",
       "        vertical-align: top;\n",
       "    }\n",
       "\n",
       "    .dataframe thead th {\n",
       "        text-align: right;\n",
       "    }\n",
       "</style>\n",
       "<table border=\"1\" class=\"dataframe\">\n",
       "  <thead>\n",
       "    <tr style=\"text-align: right;\">\n",
       "      <th></th>\n",
       "      <th>tagged_ratio</th>\n",
       "      <th>time</th>\n",
       "    </tr>\n",
       "  </thead>\n",
       "  <tbody>\n",
       "    <tr>\n",
       "      <th>17</th>\n",
       "      <td>1.000000</td>\n",
       "      <td>1573446648</td>\n",
       "    </tr>\n",
       "    <tr>\n",
       "      <th>16</th>\n",
       "      <td>0.915254</td>\n",
       "      <td>1573522418</td>\n",
       "    </tr>\n",
       "    <tr>\n",
       "      <th>15</th>\n",
       "      <td>0.829787</td>\n",
       "      <td>1573558785</td>\n",
       "    </tr>\n",
       "    <tr>\n",
       "      <th>14</th>\n",
       "      <td>0.741525</td>\n",
       "      <td>1573559335</td>\n",
       "    </tr>\n",
       "    <tr>\n",
       "      <th>13</th>\n",
       "      <td>0.666667</td>\n",
       "      <td>1573589450</td>\n",
       "    </tr>\n",
       "  </tbody>\n",
       "</table>\n",
       "</div>"
      ],
      "text/plain": [
       "    tagged_ratio        time\n",
       "17      1.000000  1573446648\n",
       "16      0.915254  1573522418\n",
       "15      0.829787  1573558785\n",
       "14      0.741525  1573559335\n",
       "13      0.666667  1573589450"
      ]
     },
     "execution_count": 11,
     "metadata": {},
     "output_type": "execute_result"
    }
   ],
   "source": [
    "df_time_sort[['tagged_ratio','time']].head()"
   ]
  },
  {
   "cell_type": "code",
   "execution_count": 16,
   "metadata": {
    "scrolled": true
   },
   "outputs": [
    {
     "data": {
      "image/png": "[encoded data removed]",
      "text/plain": [
       "<Figure size 432x288 with 1 Axes>"
      ]
     },
     "metadata": {
      "needs_background": "light"
     },
     "output_type": "display_data"
    }
   ],
   "source": [
    "(df_time_sort[['tagged_ratio','time']]).plot(x='time', y='tagged_ratio', marker='o',rot=30)\n",
    "\n",
    "plt.xlabel('time')\n",
    "plt.ylabel('ratio')\n",
    "\n",
    "plt.title(\"Incomplete to total tagged ratio over time\")\n",
    "plt.legend()\n",
    "plt.show()"
   ]
  },
  {
   "cell_type": "markdown",
   "metadata": {},
   "source": [
    "Write our findings to a .csv file"
   ]
  },
  {
   "cell_type": "code",
   "execution_count": 14,
   "metadata": {},
   "outputs": [],
   "source": [
    "# get_tagged_ratio(files_json,1).to_csv('tagged_ratio_stats.csv')\n",
    "# print('done')"
   ]
  },
  {
   "cell_type": "code",
   "execution_count": null,
   "metadata": {},
   "outputs": [],
   "source": []
  }
 ],
 "metadata": {
  "kernelspec": {
   "display_name": "Python 3",
   "language": "python",
   "name": "python3"
  },
  "language_info": {
   "codemirror_mode": {
    "name": "ipython",
    "version": 3
   },
   "file_extension": ".py",
   "mimetype": "text/x-python",
   "name": "python",
   "nbconvert_exporter": "python",
   "pygments_lexer": "ipython3",
   "version": "3.7.3"
  }
 },
 "nbformat": 4,
 "nbformat_minor": 2
}
