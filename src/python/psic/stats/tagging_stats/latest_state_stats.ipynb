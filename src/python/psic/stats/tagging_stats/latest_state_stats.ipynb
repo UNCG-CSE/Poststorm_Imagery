{
 "cells": [
  {
   "cell_type": "code",
   "execution_count": 328,
   "metadata": {},
   "outputs": [],
   "source": [
    "import pandas as pd\n",
    "import jsonpickle\n",
    "import numpy as np\n",
    "import matplotlib.pyplot as plt\n",
    "import os, os.path\n",
    "import dateutil.parser\n",
    "from datetime import datetime"
   ]
  },
  {
   "cell_type": "markdown",
   "execution_count": null,
   "metadata": {},
   "outputs": [],
   "source": [
    "Constants"
   ]
  },
  {
   "cell_type": "code",
   "execution_count": 329,
   "metadata": {},
   "outputs": [],
   "source": [
    "FILE_AS_ROOT = False\n",
    "SELF_PATH = os.getcwd()#os.path.dirname(os.path.abspath(__file__))\n",
    "PATH_TO_ROOT = os.path.join(SELF_PATH,'../../../../../../' if FILE_AS_ROOT else '')\n",
    "PATH_TO_WRITE_CSV = os.path.join(PATH_TO_ROOT,'../')\n",
    "PATH_TO_JSON_STATE = os.path.join(PATH_TO_ROOT,'../latest_state.json')"
   ]
  },
  {
   "cell_type": "markdown",
   "execution_count": null,
   "metadata": {},
   "outputs": [],
   "source": [
    "Given path to a pickle state,will return pickle object"
   ]
  },
  {
   "cell_type": "code",
   "execution_count": 330,
   "metadata": {},
   "outputs": [],
   "source": [
    "def get_pickle(path_to_file):\n",
    "    with open(path_to_file, 'r') as f:\n",
    "        return jsonpickle.decode(f.read())"
   ]
  },
  {
   "cell_type": "markdown",
   "execution_count": null,
   "metadata": {},
   "outputs": [],
   "source": [
    "Given a pickgle object will return how many incomplete, complete images have been tagged along with unix epoch time and date time stamp"
   ]
  },
  {
   "cell_type": "code",
   "execution_count": 331,
   "metadata": {},
   "outputs": [],
   "source": [
    "def how_many_tagged(pickle_file):\n",
    "    \n",
    "    done_tagging_count=len(pickle_file.finished_tagged_queue)\n",
    "    tagged_but_not_done_count=0\n",
    "    \n",
    "    for image in pickle_file.pending_images_queue:\n",
    "        if len(image.get_taggers()) > 0:\n",
    "            tagged_but_not_done_count+=1\n",
    "    \n",
    "    return pd.DataFrame([{ \n",
    "        'not_done':tagged_but_not_done_count,\n",
    "        'done':done_tagging_count,\n",
    "        'tagged_ratio': tagged_but_not_done_count/(tagged_but_not_done_count+done_tagging_count)\n",
    "     }])"
   ]
  },
  {
   "cell_type": "code",
   "execution_count": 332,
   "metadata": {},
   "outputs": [
    {
     "data": {
      "text/html": "<div>\n<style scoped>\n    .dataframe tbody tr th:only-of-type {\n        vertical-align: middle;\n    }\n\n    .dataframe tbody tr th {\n        vertical-align: top;\n    }\n\n    .dataframe thead th {\n        text-align: right;\n    }\n</style>\n<table border=\"1\" class=\"dataframe\">\n  <thead>\n    <tr style=\"text-align: right;\">\n      <th></th>\n      <th>not_done</th>\n      <th>done</th>\n      <th>tagged_ratio</th>\n    </tr>\n  </thead>\n  <tbody>\n    <tr>\n      <th>0</th>\n      <td>117</td>\n      <td>248</td>\n      <td>0.320548</td>\n    </tr>\n  </tbody>\n</table>\n</div>",
      "text/plain": "   not_done  done  tagged_ratio\n0       117   248      0.320548"
     },
     "execution_count": 332,
     "metadata": {},
     "output_type": "execute_result"
    }
   ],
   "source": [
    "pickle = get_pickle(PATH_TO_JSON_STATE)\n",
    "how_many_tagged(pickle)"
   ]
  },
  {
   "cell_type": "code",
   "execution_count": 333,
   "metadata": {},
   "outputs": [],
   "source": [
    "finished_images = pickle.finished_tagged_queue\n",
    "partical_tagged = pickle.pending_images_queue"
   ]
  },
  {
   "cell_type": "code",
   "execution_count": 364,
   "metadata": {},
   "outputs": [],
   "source": [
    "def gen_df(images,history = True):\n",
    "    image_tag_df = pd.DataFrame(dtype = int)\n",
    "\n",
    "    for image in images:\n",
    "\n",
    "        tagger_list = list(image.get_taggers())\n",
    "        image_id = image.get_rel_path()\n",
    "\n",
    "        dict_row ={\n",
    "            'image_id':image_id\n",
    "            # 'tagging_start':image.stats_tagging_start,\n",
    "            # 'tagging_end':image.stats_tagging_stop,\n",
    "            # 'tagging_session_time':image.stats_tag_elapsed_session,\n",
    "            # 'tagging_assingment_time':image.stats_tag_elapsed_assigned\n",
    "        }\n",
    "        \n",
    "        # View all tags of an image, not final\n",
    "        if history:\n",
    "            for tagger in tagger_list:\n",
    "                # Get all the tags tagged by this tagger\n",
    "                list_of_tags = (image.get_tags(tagger))\n",
    "                \n",
    "                # Add those tags and the tagger ID to the dictionary that will be our row\n",
    "                dict_row.update(list_of_tags)\n",
    "                dict_row.update({\n",
    "                    'tagger':tagger,\n",
    "                    'tagging_start':image.stats_tagging_start[tagger],\n",
    "                    'tagging_end':image.stats_tagging_stop[tagger],\n",
    "                    'elapsed_session_time':image.stats_tag_elapsed_session[tagger],\n",
    "                    'total_assingment_time':image.stats_tag_elapsed_assigned[tagger]\n",
    "                })\n",
    "                \n",
    "                # Combine the dictionary row as a dataframe into the image tag dataframe\n",
    "                tag_row_df = pd.DataFrame([dict_row],dtype = int) \n",
    "                image_tag_df = pd.concat([image_tag_df,tag_row_df],sort=True , ignore_index = True)\n",
    "        else:\n",
    "            final_tags_df = image.final_tags \n",
    "            dict_row.update(final_tags_df)\n",
    "            \n",
    "            \n",
    "            starting_times = []\n",
    "            ending_times = []\n",
    "            assinged_times =[]\n",
    "            session_times =[]\n",
    "\n",
    "            for tagger in image.stats_tagging_start:\n",
    "                starting_times.append(image.stats_tagging_start[tagger])\n",
    "            \n",
    "            for tagger in image.stats_tagging_stop:\n",
    "                ending_times.append(image.stats_tagging_stop[tagger])\n",
    "            \n",
    "            for tagger in image.stats_tag_elapsed_assigned:\n",
    "                assinged_times.append(image.stats_tag_elapsed_assigned[tagger])\n",
    "            \n",
    "            for tagger in image.stats_tag_elapsed_session:\n",
    "                session_times.append(image.session_times[tagger])\n",
    "\n",
    "            dict_row.update({\n",
    "                'start_time':min(starting_times),\n",
    "                'end_time':max(ending_times),\n",
    "                'assinged_time':min(assinged_times),\n",
    "                'elapsed_time':max(ending_times)-min(starting_times)\n",
    "            })\n",
    "\n",
    "            tag_row_df = pd.DataFrame([dict_row],dtype = int) \n",
    "\n",
    "            image_tag_df = pd.concat([image_tag_df,tag_row_df],sort=True, ignore_index = True)\n",
    "    return image_tag_df   "
   ]
  },
  {
   "cell_type": "code",
   "execution_count": 365,
   "metadata": {},
   "outputs": [],
   "source": [
    "#with_history_tags = gen_df()\n",
    "final_tags =gen_df(finished_images,False)"
   ]
  },
  {
   "cell_type": "code",
   "execution_count": 336,
   "metadata": {},
   "outputs": [
    {
     "data": {
      "text/html": "<div>\n<style scoped>\n    .dataframe tbody tr th:only-of-type {\n        vertical-align: middle;\n    }\n\n    .dataframe tbody tr th {\n        vertical-align: top;\n    }\n\n    .dataframe thead th {\n        text-align: right;\n    }\n</style>\n<table border=\"1\" class=\"dataframe\">\n  <thead>\n    <tr style=\"text-align: right;\">\n      <th></th>\n      <th>development</th>\n      <th>image_id</th>\n      <th>impact</th>\n      <th>ocean</th>\n      <th>terrain_inland</th>\n      <th>terrain_marsh</th>\n      <th>terrain_river</th>\n      <th>terrain_sandy_coastline</th>\n      <th>terrain_undefined</th>\n      <th>washover</th>\n    </tr>\n  </thead>\n  <tbody>\n    <tr>\n      <th>0</th>\n      <td>0.0</td>\n      <td>jpgs/S26047238.jpg</td>\n      <td>0.0</td>\n      <td>NaN</td>\n      <td>NaN</td>\n      <td>NaN</td>\n      <td>NaN</td>\n      <td>NaN</td>\n      <td>1.0</td>\n      <td>0.0</td>\n    </tr>\n    <tr>\n      <th>1</th>\n      <td>1.0</td>\n      <td>jpgs/P26057146.jpg</td>\n      <td>2.0</td>\n      <td>NaN</td>\n      <td>NaN</td>\n      <td>NaN</td>\n      <td>NaN</td>\n      <td>1.0</td>\n      <td>NaN</td>\n      <td>0.0</td>\n    </tr>\n    <tr>\n      <th>2</th>\n      <td>1.0</td>\n      <td>jpgs/P26054308.jpg</td>\n      <td>2.0</td>\n      <td>NaN</td>\n      <td>NaN</td>\n      <td>NaN</td>\n      <td>NaN</td>\n      <td>1.0</td>\n      <td>NaN</td>\n      <td>0.0</td>\n    </tr>\n    <tr>\n      <th>3</th>\n      <td>1.0</td>\n      <td>jpgs/P26050957.jpg</td>\n      <td>0.0</td>\n      <td>NaN</td>\n      <td>NaN</td>\n      <td>NaN</td>\n      <td>NaN</td>\n      <td>NaN</td>\n      <td>1.0</td>\n      <td>0.0</td>\n    </tr>\n    <tr>\n      <th>4</th>\n      <td>0.0</td>\n      <td>jpgs/P26057962.jpg</td>\n      <td>3.0</td>\n      <td>NaN</td>\n      <td>NaN</td>\n      <td>NaN</td>\n      <td>NaN</td>\n      <td>1.0</td>\n      <td>NaN</td>\n      <td>1.0</td>\n    </tr>\n  </tbody>\n</table>\n</div>",
      "text/plain": "   development            image_id  impact  ocean  terrain_inland  \\\n0          0.0  jpgs/S26047238.jpg     0.0    NaN             NaN   \n1          1.0  jpgs/P26057146.jpg     2.0    NaN             NaN   \n2          1.0  jpgs/P26054308.jpg     2.0    NaN             NaN   \n3          1.0  jpgs/P26050957.jpg     0.0    NaN             NaN   \n4          0.0  jpgs/P26057962.jpg     3.0    NaN             NaN   \n\n   terrain_marsh  terrain_river  terrain_sandy_coastline  terrain_undefined  \\\n0            NaN            NaN                      NaN                1.0   \n1            NaN            NaN                      1.0                NaN   \n2            NaN            NaN                      1.0                NaN   \n3            NaN            NaN                      NaN                1.0   \n4            NaN            NaN                      1.0                NaN   \n\n   washover  \n0       0.0  \n1       0.0  \n2       0.0  \n3       0.0  \n4       1.0  "
     },
     "execution_count": 336,
     "metadata": {},
     "output_type": "execute_result"
    }
   ],
   "source": [
    "final_tags.head()"
   ]
  },
  {
   "cell_type": "code",
   "execution_count": 337,
   "metadata": {},
   "outputs": [],
   "source": [
    "def get_all_taggers(images):\n",
    "    taggers_df = pd.DataFrame()\n",
    "\n",
    "    for image in images:\n",
    "        taggers = list(image.get_taggers())\n",
    "        for tagger in taggers:\n",
    "            tagger_as_df = pd.DataFrame([tagger]) \n",
    "            taggers_df = pd.concat([taggers_df,tagger_as_df],sort=True , ignore_index = True)\n",
    "\n",
    "    return taggers_df\n",
    "all_taggers = get_all_taggers(finished_images)\n",
    "all_taggers.drop_duplicates(inplace = True)"
   ]
  },
  {
   "cell_type": "code",
   "execution_count": 338,
   "metadata": {},
   "outputs": [],
   "source": [
    "# all_taggers"
   ]
  },
  {
   "cell_type": "code",
   "execution_count": 339,
   "metadata": {},
   "outputs": [
    {
     "data": {
      "text/html": "<div>\n<style scoped>\n    .dataframe tbody tr th:only-of-type {\n        vertical-align: middle;\n    }\n\n    .dataframe tbody tr th {\n        vertical-align: top;\n    }\n\n    .dataframe thead th {\n        text-align: right;\n    }\n</style>\n<table border=\"1\" class=\"dataframe\">\n  <thead>\n    <tr style=\"text-align: right;\">\n      <th></th>\n      <th>development</th>\n      <th>image_id</th>\n      <th>impact</th>\n      <th>ocean</th>\n      <th>terrain_inland</th>\n      <th>terrain_marsh</th>\n      <th>terrain_river</th>\n      <th>terrain_sandy_coastline</th>\n      <th>terrain_undefined</th>\n      <th>washover</th>\n    </tr>\n  </thead>\n  <tbody>\n    <tr>\n      <th>0</th>\n      <td>0</td>\n      <td>jpgs/S26047238.jpg</td>\n      <td>0</td>\n      <td>0</td>\n      <td>0</td>\n      <td>0</td>\n      <td>0</td>\n      <td>0</td>\n      <td>1</td>\n      <td>0</td>\n    </tr>\n    <tr>\n      <th>1</th>\n      <td>1</td>\n      <td>jpgs/P26057146.jpg</td>\n      <td>2</td>\n      <td>0</td>\n      <td>0</td>\n      <td>0</td>\n      <td>0</td>\n      <td>1</td>\n      <td>0</td>\n      <td>0</td>\n    </tr>\n    <tr>\n      <th>2</th>\n      <td>1</td>\n      <td>jpgs/P26054308.jpg</td>\n      <td>2</td>\n      <td>0</td>\n      <td>0</td>\n      <td>0</td>\n      <td>0</td>\n      <td>1</td>\n      <td>0</td>\n      <td>0</td>\n    </tr>\n    <tr>\n      <th>3</th>\n      <td>1</td>\n      <td>jpgs/P26050957.jpg</td>\n      <td>0</td>\n      <td>0</td>\n      <td>0</td>\n      <td>0</td>\n      <td>0</td>\n      <td>0</td>\n      <td>1</td>\n      <td>0</td>\n    </tr>\n    <tr>\n      <th>4</th>\n      <td>0</td>\n      <td>jpgs/P26057962.jpg</td>\n      <td>3</td>\n      <td>0</td>\n      <td>0</td>\n      <td>0</td>\n      <td>0</td>\n      <td>1</td>\n      <td>0</td>\n      <td>1</td>\n    </tr>\n    <tr>\n      <th>...</th>\n      <td>...</td>\n      <td>...</td>\n      <td>...</td>\n      <td>...</td>\n      <td>...</td>\n      <td>...</td>\n      <td>...</td>\n      <td>...</td>\n      <td>...</td>\n      <td>...</td>\n    </tr>\n    <tr>\n      <th>243</th>\n      <td>1</td>\n      <td>jpgs/C26050368.jpg</td>\n      <td>0</td>\n      <td>0</td>\n      <td>0</td>\n      <td>0</td>\n      <td>1</td>\n      <td>0</td>\n      <td>1</td>\n      <td>0</td>\n    </tr>\n    <tr>\n      <th>244</th>\n      <td>0</td>\n      <td>jpgs/P26058354.jpg</td>\n      <td>3</td>\n      <td>0</td>\n      <td>0</td>\n      <td>0</td>\n      <td>0</td>\n      <td>1</td>\n      <td>0</td>\n      <td>1</td>\n    </tr>\n    <tr>\n      <th>245</th>\n      <td>0</td>\n      <td>jpgs/P26051780.jpg</td>\n      <td>0</td>\n      <td>0</td>\n      <td>0</td>\n      <td>0</td>\n      <td>1</td>\n      <td>0</td>\n      <td>1</td>\n      <td>0</td>\n    </tr>\n    <tr>\n      <th>246</th>\n      <td>1</td>\n      <td>jpgs/C26049792.jpg</td>\n      <td>0</td>\n      <td>0</td>\n      <td>1</td>\n      <td>0</td>\n      <td>0</td>\n      <td>0</td>\n      <td>1</td>\n      <td>0</td>\n    </tr>\n    <tr>\n      <th>247</th>\n      <td>0</td>\n      <td>jpgs/P26059190.jpg</td>\n      <td>0</td>\n      <td>1</td>\n      <td>0</td>\n      <td>0</td>\n      <td>0</td>\n      <td>0</td>\n      <td>0</td>\n      <td>0</td>\n    </tr>\n  </tbody>\n</table>\n<p>248 rows × 10 columns</p>\n</div>",
      "text/plain": "     development            image_id  impact  ocean  terrain_inland  \\\n0              0  jpgs/S26047238.jpg       0      0               0   \n1              1  jpgs/P26057146.jpg       2      0               0   \n2              1  jpgs/P26054308.jpg       2      0               0   \n3              1  jpgs/P26050957.jpg       0      0               0   \n4              0  jpgs/P26057962.jpg       3      0               0   \n..           ...                 ...     ...    ...             ...   \n243            1  jpgs/C26050368.jpg       0      0               0   \n244            0  jpgs/P26058354.jpg       3      0               0   \n245            0  jpgs/P26051780.jpg       0      0               0   \n246            1  jpgs/C26049792.jpg       0      0               1   \n247            0  jpgs/P26059190.jpg       0      1               0   \n\n     terrain_marsh  terrain_river  terrain_sandy_coastline  terrain_undefined  \\\n0                0              0                        0                  1   \n1                0              0                        1                  0   \n2                0              0                        1                  0   \n3                0              0                        0                  1   \n4                0              0                        1                  0   \n..             ...            ...                      ...                ...   \n243              0              1                        0                  1   \n244              0              0                        1                  0   \n245              0              1                        0                  1   \n246              0              0                        0                  1   \n247              0              0                        0                  0   \n\n     washover  \n0           0  \n1           0  \n2           0  \n3           0  \n4           1  \n..        ...  \n243         0  \n244         1  \n245         0  \n246         0  \n247         0  \n\n[248 rows x 10 columns]"
     },
     "execution_count": 339,
     "metadata": {},
     "output_type": "execute_result"
    }
   ],
   "source": [
    "final_tags.replace([False,True],[0,1], inplace=True)\n",
    "\n",
    "final_tags[['washover','impact','development','ocean','terrain_inland','terrain_marsh','terrain_river','terrain_sandy_coastline','terrain_undefined']] = final_tags[['washover','impact','development','ocean','terrain_inland','terrain_marsh','terrain_river','terrain_sandy_coastline','terrain_undefined']].fillna(0.0).astype(int)\n",
    "final_tags"
   ]
  },
  {
   "cell_type": "code",
   "execution_count": 340,
   "metadata": {},
   "outputs": [],
   "source": [
    "#final_tags.to_csv(os.path.join(PATH_TO_WRITE_CSV,'image_tags.csv'))"
   ]
  }
 ],
 "metadata": {
  "kernelspec": {
   "display_name": "Python 3",
   "language": "python",
   "name": "python3"
  },
  "language_info": {
   "codemirror_mode": {
    "name": "ipython",
    "version": 3
   },
   "file_extension": ".py",
   "mimetype": "text/x-python",
   "name": "python",
   "nbconvert_exporter": "python",
   "pygments_lexer": "ipython3",
   "version": "3.7.3"
  }
 },
 "nbformat": 4,
 "nbformat_minor": 2
}