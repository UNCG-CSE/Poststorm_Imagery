{
 "cells": [
  {
   "cell_type": "code",
   "execution_count": 271,
   "metadata": {},
   "outputs": [],
   "source": [
    "import pandas as pd\n",
    "import jsonpickle\n",
    "import numpy as np\n",
    "import matplotlib.pyplot as plt\n",
    "import os, os.path\n",
    "import dateutil.parser\n",
    "from datetime import datetime"
   ]
  },
  {
   "cell_type": "markdown",
   "execution_count": null,
   "metadata": {},
   "outputs": [],
   "source": [
    "Constants"
   ]
  },
  {
   "cell_type": "code",
   "execution_count": 272,
   "metadata": {},
   "outputs": [],
   "source": [
    "FILE_AS_ROOT = False\n",
    "USE_HISTORY = False\n",
    "SELF_PATH = os.getcwd()#os.path.dirname(os.path.abspath(__file__))\n",
    "PATH_TO_ROOT = os.path.join(SELF_PATH,'../../../../../../' if FILE_AS_ROOT else '')\n",
    "PATH_TO_WRITE_CSV = os.path.join(PATH_TO_ROOT,'../')\n",
    "PATH_TO_JSON_STATE = os.path.join(PATH_TO_ROOT,'../latest_state.json')"
   ]
  },
  {
   "cell_type": "markdown",
   "execution_count": null,
   "metadata": {},
   "outputs": [],
   "source": [
    "Given path to a pickle state,will return pickle object"
   ]
  },
  {
   "cell_type": "code",
   "execution_count": 273,
   "metadata": {},
   "outputs": [],
   "source": [
    "def get_pickle(path_to_file):\n",
    "    with open(path_to_file, 'r') as f:\n",
    "        return jsonpickle.decode(f.read())"
   ]
  },
  {
   "cell_type": "markdown",
   "execution_count": null,
   "metadata": {},
   "outputs": [],
   "source": [
    "Given a pickgle object will return how many incomplete, complete images have been tagged along with unix epoch time and date time stamp"
   ]
  },
  {
   "cell_type": "code",
   "execution_count": 274,
   "metadata": {},
   "outputs": [],
   "source": [
    "def how_many_tagged(pickle_file):\n",
    "    \n",
    "    done_tagging_count=len(pickle_file.finished_tagged_queue)\n",
    "    tagged_but_not_done_count=0\n",
    "    \n",
    "    for image in pickle_file.pending_images_queue:\n",
    "        if len(image.get_taggers()) > 0:\n",
    "            tagged_but_not_done_count+=1\n",
    "    \n",
    "    return pd.DataFrame([{ \n",
    "        'not_done':tagged_but_not_done_count,\n",
    "        'done':done_tagging_count,\n",
    "        'tagged_ratio': tagged_but_not_done_count/(tagged_but_not_done_count+done_tagging_count)\n",
    "     }])"
   ]
  },
  {
   "cell_type": "code",
   "execution_count": 275,
   "metadata": {},
   "outputs": [],
   "source": [
    "pickle = get_pickle(PATH_TO_JSON_STATE)"
   ]
  },
  {
   "cell_type": "code",
   "execution_count": 276,
   "metadata": {},
   "outputs": [],
   "source": [
    "# for image in pickle.finished_tagged_queue:\n",
    "#     times_stop = image.stats_tagging_stop\n",
    "#     keys = list(times_stop.keys())\n",
    "#     last_tagger = keys[-1]\n",
    "#     last_time = times_stop.get(last_tagger)\n",
    "#     print(datetime.fromtimestamp(last_time))"
   ]
  },
  {
   "cell_type": "code",
   "execution_count": 277,
   "metadata": {},
   "outputs": [],
   "source": [
    "finished_images = pickle.finished_tagged_queue"
   ]
  },
  {
   "cell_type": "code",
   "execution_count": 294,
   "metadata": {},
   "outputs": [],
   "source": [
    "def gen_csv(history = True):\n",
    "    image_tag_df = pd.DataFrame()\n",
    "\n",
    "    for image in finished_images:\n",
    "\n",
    "        tagger_list = list(image.get_taggers())\n",
    "        image_id = image.get_rel_path()\n",
    "\n",
    "        dict_row ={\n",
    "            'image_id':image_id\n",
    "            # 'tagging_start':image.stats_tagging_start,\n",
    "            # 'tagging_end':image.stats_tagging_stop,\n",
    "            # 'tagging_session_time':image.stats_tag_elapsed_session,\n",
    "            # 'tagging_assingment_time':image.stats_tag_elapsed_assigned\n",
    "        }\n",
    "        \n",
    "        # View all tags of an image, not final\n",
    "        if history:\n",
    "            for tagger in tagger_list:\n",
    "                # Get all the tags tagged by this tagger\n",
    "                list_of_tags = (image.get_tags(tagger))\n",
    "                \n",
    "                # Add those tags and the tagger ID to the dictionary that will be our row\n",
    "                dict_row.update(list_of_tags)\n",
    "                dict_row.update({\n",
    "                    'tagger':tagger,\n",
    "                    'tagging_start':image.stats_tagging_start[tagger],\n",
    "                    'tagging_end':image.stats_tagging_stop[tagger],\n",
    "                    'elapsed_session_time':image.stats_tag_elapsed_session[tagger],\n",
    "                    'total_assingment_time':image.stats_tag_elapsed_assigned[tagger]\n",
    "                })\n",
    "                \n",
    "                # Combine the dictionary row as a dataframe into the image tag dataframe\n",
    "                tag_row_df = pd.DataFrame([dict_row]) \n",
    "                image_tag_df = pd.concat([image_tag_df,tag_row_df],sort=True , ignore_index = True)\n",
    "        else:\n",
    "            final_tags_df = image.final_tags \n",
    "            dict_row.update(final_tags_df)\n",
    "            tag_row_df = pd.DataFrame([dict_row]) \n",
    "            #print(image.stats_tagging_start)\n",
    "            image_tag_df = pd.concat([image_tag_df,tag_row_df],sort=True, ignore_index = True)\n",
    "    return image_tag_df   "
   ]
  },
  {
   "cell_type": "code",
   "execution_count": 295,
   "metadata": {},
   "outputs": [
    {
     "name": "stdout",
     "output_type": "stream",
     "text": "': 1573581614.613463, 'google-oauth2|116941088287412233752': 1573541346.670877}\n{'google-oauth2|101534126929210992885': 1573419929.655254, 'google-oauth2|102438129902557559102': 1573581650.128497, 'google-oauth2|116941088287412233752': 1573541331.52507}\n{'google-oauth2|101534126929210992885': 1573420044.841998, 'google-oauth2|102438129902557559102': 1573581724.28146, 'google-oauth2|116941088287412233752': 1573541166.489219}\n{'google-oauth2|101534126929210992885': 1573420460.119458, 'google-oauth2|102438129902557559102': 1573581761.053666, 'google-oauth2|116941088287412233752': 1573541077.954163}\n{'google-oauth2|101534126929210992885': 1573420568.316753, 'google-oauth2|102438129902557559102': 1573581810.903648, 'google-oauth2|116941088287412233752': 1573540967.597598}\n{'google-oauth2|101534126929210992885': 1573426928.91981, 'google-oauth2|102438129902557559102': 1573582003.153584, 'google-oauth2|116941088287412233752': 1573540952.656804}\n{'google-oauth2|101534126929210992885': 1573427277.698043, 'google-oauth2|102438129902557559102': 1573582023.602968, 'google-oauth2|116941088287412233752': 1573540731.531644}\n{'google-oauth2|101534126929210992885': 1573427949.633401, 'google-oauth2|102438129902557559102': 1573582056.005335, 'google-oauth2|112971301179841927329': 1573503935.188651, 'google-oauth2|116941088287412233752': 1573540408.828358}\n{'google-oauth2|101534126929210992885': 1573396341.979774, 'google-oauth2|102438129902557559102': 1573582142.510796}\n{'google-oauth2|101534126929210992885': 1573396326.457385, 'google-oauth2|102438129902557559102': 1573582196.69014}\n{'google-oauth2|101534126929210992885': 1573396314.153201, 'google-oauth2|102438129902557559102': 1573582214.220029}\n{'google-oauth2|101534126929210992885': 1573396301.639157, 'google-oauth2|102438129902557559102': 1573582229.762819}\n{'google-oauth2|101534126929210992885': 1573396274.751302, 'google-oauth2|102438129902557559102': 1573582244.182478}\n{'google-oauth2|101534126929210992885': 1573396264.124053, 'google-oauth2|102438129902557559102': 1573582297.389836}\n{'google-oauth2|101534126929210992885': 1573396228.541096, 'google-oauth2|102438129902557559102': 1573582309.606425}\n{'google-oauth2|101534126929210992885': 1573396155.237484, 'google-oauth2|102438129902557559102': 1573582355.657287}\n{'google-oauth2|101534126929210992885': 1573396092.218862, 'google-oauth2|102438129902557559102': 1573582640.763496}\n{'google-oauth2|101534126929210992885': 1573396078.230151, 'google-oauth2|102438129902557559102': 1573582654.611483}\n{'google-oauth2|101534126929210992885': 1573396067.057728, 'google-oauth2|102438129902557559102': 1573582667.581145}\n{'google-oauth2|101534126929210992885': 1573396053.390887, 'google-oauth2|102438129902557559102': 1573582678.993924}\n{'google-oauth2|101534126929210992885': 1573396036.684786, 'google-oauth2|102438129902557559102': 1573582691.419001}\n{'google-oauth2|101534126929210992885': 1573395968.792347, 'google-oauth2|102438129902557559102': 1573582751.896451}\n{'google-oauth2|101534126929210992885': 1573395926.113829, 'google-oauth2|102438129902557559102': 1573582932.046318}\n{'google-oauth2|101534126929210992885': 1573395872.191273, 'google-oauth2|102438129902557559102': 1573582969.249838}\n{'google-oauth2|101534126929210992885': 1573395846.952417, 'google-oauth2|102438129902557559102': 1573583180.055487}\n{'google-oauth2|101534126929210992885': 1573395833.627445, 'google-oauth2|102438129902557559102': 1573583211.22697}\n{'google-oauth2|101534126929210992885': 1573395805.537202, 'google-oauth2|102438129902557559102': 1573583223.710221}\n{'google-oauth2|101534126929210992885': 1573395793.663692, 'google-oauth2|102438129902557559102': 1573583271.186399}\n{'google-oauth2|101534126929210992885': 1573395731.810955, 'google-oauth2|102438129902557559102': 1573583409.841453}\n{'google-oauth2|101534126929210992885': 1573395217.283942, 'google-oauth2|102438129902557559102': 1573583428.687661}\n{'google-oauth2|101534126929210992885': 1573395202.778015, 'google-oauth2|102438129902557559102': 1573583510.144387}\n{'google-oauth2|101534126929210992885': 1573395169.846273, 'google-oauth2|102438129902557559102': 1573583542.494623}\n{'google-oauth2|101534126929210992885': 1573395156.23614, 'google-oauth2|102438129902557559102': 1573583630.087288}\n{'google-oauth2|101534126929210992885': 1573395133.440071, 'google-oauth2|102438129902557559102': 1573583671.646776}\n{'google-oauth2|101534126929210992885': 1573395115.868772, 'google-oauth2|102438129902557559102': 1573583687.232166}\n{'google-oauth2|101534126929210992885': 1573395104.292202, 'google-oauth2|102438129902557559102': 1573583700.147076}\n{'google-oauth2|101534126929210992885': 1573395092.155972, 'google-oauth2|102438129902557559102': 1573583717.577707}\n{'google-oauth2|101534126929210992885': 1573395080.814532, 'google-oauth2|102438129902557559102': 1573583730.613667}\n{'google-oauth2|101534126929210992885': 1573395068.812656, 'google-oauth2|102438129902557559102': 1573583755.224381}\n{'google-oauth2|101534126929210992885': 1573395057.921551, 'google-oauth2|102438129902557559102': 1573583766.250505}\n{'google-oauth2|101534126929210992885': 1573395044.552424, 'google-oauth2|102438129902557559102': 1573583783.338657}\n{'google-oauth2|101534126929210992885': 1573395034.117826, 'google-oauth2|102438129902557559102': 1573583794.900646}\n{'google-oauth2|101534126929210992885': 1573395008.252386, 'google-oauth2|102438129902557559102': 1573583821.068635}\n{'google-oauth2|101534126929210992885': 1573394958.423166, 'google-oauth2|102438129902557559102': 1573583889.246936}\n{'google-oauth2|101534126929210992885': 1573394898.577288, 'google-oauth2|102438129902557559102': 1573583902.650202}\n{'google-oauth2|101534126929210992885': 1573394862.667019, 'google-oauth2|102438129902557559102': 1573584028.484415}\n{'google-oauth2|101534126929210992885': 1573394851.749182, 'google-oauth2|102438129902557559102': 1573584041.868139}\n{'google-oauth2|101534126929210992885': 1573394828.729571, 'google-oauth2|102438129902557559102': 1573584133.202439}\n{'google-oauth2|101534126929210992885': 1573394816.337066, 'google-oauth2|102438129902557559102': 1573584145.586379}\n{'google-oauth2|101534126929210992885': 1573394801.4907, 'google-oauth2|102438129902557559102': 1573584158.928659}\n{'google-oauth2|101534126929210992885': 1573394789.083812, 'google-oauth2|102438129902557559102': 1573584180.789784}\n{'google-oauth2|101534126929210992885': 1573394778.1355, 'google-oauth2|102438129902557559102': 1573584193.719438}\n{'google-oauth2|101534126929210992885': 1573394764.421023, 'google-oauth2|102438129902557559102': 1573584237.738652}\n{'google-oauth2|101534126929210992885': 1573588809.362868, 'google-oauth2|102782057412863087362': 1573595672.221162}\n{'google-oauth2|101534126929210992885': 1573588797.765751, 'google-oauth2|102782057412863087362': 1573595710.743679}\n{'google-oauth2|101534126929210992885': 1573588788.255371, 'google-oauth2|102782057412863087362': 1573595733.285794}\n{'google-oauth2|101534126929210992885': 1573588778.949973, 'google-oauth2|102782057412863087362': 1573595758.304668}\n{'google-oauth2|101534126929210992885': 1573588630.700267, 'google-oauth2|102782057412863087362': 1573597001.832226}\n{'google-oauth2|101534126929210992885': 1573588579.515764, 'google-oauth2|102782057412863087362': 1573597046.947159}\n{'google-oauth2|101534126929210992885': 1573588566.126313, 'google-oauth2|102782057412863087362': 1573597131.114137}\n{'google-oauth2|101534126929210992885': 1573588535.974732, 'google-oauth2|102782057412863087362': 1573597159.338799}\n{'google-oauth2|101534126929210992885': 1573588407.446203, 'google-oauth2|102782057412863087362': 1573597337.12946}\n{'google-oauth2|101534126929210992885': 1573588396.893179, 'google-oauth2|102782057412863087362': 1573597357.404745}\n{'google-oauth2|101534126929210992885': 1573396414.489293, 'google-oauth2|116941088287412233752': 1573571635.318177}\n{'google-oauth2|101534126929210992885': 1573588422.234644, 'google-oauth2|102782057412863087362': 1573597179.301845, 'google-oauth2|116941088287412233752': 1573663037.9569}\n{'google-oauth2|101534126929210992885': 1573588598.204041, 'google-oauth2|102782057412863087362': 1573597029.926612, 'google-oauth2|116941088287412233752': 1573663211.422647}\n{'google-oauth2|101534126929210992885': 1573588641.601898, 'google-oauth2|102782057412863087362': 1573596832.414917, 'google-oauth2|116941088287412233752': 1573663251.183822}\n{'google-oauth2|101534126929210992885': 1573588692.629814, 'google-oauth2|102782057412863087362': 1573596387.805274, 'google-oauth2|116941088287412233752': 1573663271.523438}\n{'google-oauth2|101534126929210992885': 1573588721.659012, 'google-oauth2|102782057412863087362': 1573596297.458972, 'google-oauth2|116941088287412233752': 1573663319.637437}\n{'google-oauth2|101534126929210992885': 1573588768.53113, 'google-oauth2|102782057412863087362': 1573595783.493294, 'google-oauth2|116941088287412233752': 1573663375.191471}\n{'google-oauth2|101534126929210992885': 1573588818.548269, 'google-oauth2|102782057412863087362': 1573595085.462021, 'google-oauth2|116941088287412233752': 1573663385.791499}\n{'google-oauth2|101534126929210992885': 1573588368.710332, 'google-oauth2|116941088287412233752': 1573663401.272713}\n{'google-oauth2|101534126929210992885': 1573588337.073291, 'google-oauth2|116941088287412233752': 1573663413.264763}\n{'google-oauth2|101534126929210992885': 1573428645.804326, 'google-oauth2|116941088287412233752': 1573663432.795026}\n{'google-oauth2|101534126929210992885': 1573394839.141979, 'google-oauth2|102438129902557559102': 1573584056.143053, 'google-oauth2|116941088287412233752': 1573663449.469602}\n{'google-oauth2|101534126929210992885': 1573394871.890237, 'google-oauth2|102438129902557559102': 1573583955.755209, 'google-oauth2|116941088287412233752': 1573663459.582656}\n{'google-oauth2|101534126929210992885': 1573395023.552958, 'google-oauth2|102438129902557559102': 1573583807.684892, 'google-oauth2|116941088287412233752': 1573663482.651567}\n{'google-oauth2|101534126929210992885': 1573395144.81782, 'google-oauth2|102438129902557559102': 1573583643.503683, 'google-oauth2|116941088287412233752': 1573663507.502385}\n{'google-oauth2|101534126929210992885': 1573395748.859604, 'google-oauth2|102438129902557559102': 1573583298.36972, 'google-oauth2|116941088287412233752': 1573663533.269997}\n{'google-oauth2|101534126929210992885': 1573395857.605142, 'google-oauth2|102438129902557559102': 1573583016.154773, 'google-oauth2|116941088287412233752': 1573663555.523646}\n{'google-oauth2|101534126929210992885': 1573395936.95931, 'google-oauth2|102438129902557559102': 1573582772.441541, 'google-oauth2|116941088287412233752': 1573663569.770647}\n{'google-oauth2|101534126929210992885': 1573396102.071602, 'google-oauth2|102438129902557559102': 1573582381.928713, 'google-oauth2|116941088287412233752': 1573663595.526319}\n{'google-oauth2|101534126929210992885': 1573394741.535466, 'google-oauth2|116941088287412233752': 1573663630.842966}\n{'google-oauth2|101534126929210992885': 1573394727.754545, 'google-oauth2|116941088287412233752': 1573663667.936794}\n{'google-oauth2|101534126929210992885': 1573394678.126255, 'google-oauth2|116941088287412233752': 1573663690.772621}\n{'google-oauth2|101534126929210992885': 1573394671.507923, 'google-oauth2|116941088287412233752': 1573663714.267494}\n{'google-oauth2|101534126929210992885': 1573394656.909921, 'google-oauth2|116941088287412233752': 1573663723.920812}\n{'google-oauth2|101534126929210992885': 1573394641.424963, 'google-oauth2|116941088287412233752': 1573663737.378174}\n{'google-oauth2|101534126929210992885': 1573394633.905044, 'google-oauth2|116941088287412233752': 1573663751.53042}\n{'google-oauth2|101534126929210992885': 1573394621.08815, 'google-oauth2|116941088287412233752': 1573663761.324375}\n{'google-oauth2|101534126929210992885': 1573394520.452341, 'google-oauth2|116941088287412233752': 1573663826.019765}\n{'google-oauth2|101534126929210992885': 1573427379.84843, 'google-oauth2|112971301179841927329': 1573506237.141324}\n{'google-oauth2|101534126929210992885': 1573394544.633503, 'google-oauth2|112971301179841927329': 1573676021.237552, 'google-oauth2|116941088287412233752': 1573663809.019456}\n{'google-oauth2|101534126929210992885': 1573394556.94719, 'google-oauth2|112971301179841927329': 1573676031.916839, 'google-oauth2|116941088287412233752': 1573663798.480134}\n{'google-oauth2|101534126929210992885': 1573394568.900587, 'google-oauth2|112971301179841927329': 1573676081.301547, 'google-oauth2|116941088287412233752': 1573663779.515529}\n{'google-oauth2|101534126929210992885': 1573394474.892216, 'google-oauth2|112971301179841927329': 1573676143.370122}\n{'google-oauth2|101534126929210992885': 1573394351.022615, 'google-oauth2|112971301179841927329': 1573676204.534277}\n{'google-oauth2|101534126929210992885': 1573394339.492176, 'google-oauth2|112971301179841927329': 1573676215.088375}\n{'google-oauth2|101534126929210992885': 1573394296.480564, 'google-oauth2|112971301179841927329': 1573676225.880997}\n{'google-oauth2|101534126929210992885': 1573394282.780286, 'google-oauth2|112971301179841927329': 1573676323.862306}\n{'google-oauth2|101534126929210992885': 1573394271.313494, 'google-oauth2|112971301179841927329': 1573676342.955755}\n{'google-oauth2|101534126929210992885': 1573394259.857289, 'google-oauth2|112971301179841927329': 1573676353.120386}\n{'google-oauth2|101534126929210992885': 1573394221.730984, 'google-oauth2|112971301179841927329': 1573676367.824762}\n{'google-oauth2|101534126929210992885': 1573394176.82379, 'google-oauth2|112971301179841927329': 1573676411.278692}\n{'google-oauth2|101534126929210992885': 1573394155.709711, 'google-oauth2|112971301179841927329': 1573676446.265088}\n{'google-oauth2|101534126929210992885': 1573394143.479219, 'google-oauth2|112971301179841927329': 1573676462.292504}\n{'google-oauth2|101534126929210992885': 1573394125.751595, 'google-oauth2|112971301179841927329': 1573676472.410771}\n{'google-oauth2|101534126929210992885': 1573394054.549875, 'google-oauth2|112971301179841927329': 1573676537.06782}\n{'google-oauth2|101534126929210992885': 1573394018.880343, 'google-oauth2|112971301179841927329': 1573676571.71587}\n{'google-oauth2|101534126929210992885': 1573394006.221225, 'google-oauth2|112971301179841927329': 1573676584.341697}\n{'google-oauth2|101534126929210992885': 1573393972.812695, 'google-oauth2|112971301179841927329': 1573676595.938466}\n{'google-oauth2|101534126929210992885': 1573393960.476554, 'google-oauth2|112971301179841927329': 1573676674.489536}\n{'google-oauth2|101534126929210992885': 1573393917.696468, 'google-oauth2|112971301179841927329': 1573676689.805161}\n{'google-oauth2|101534126929210992885': 1573393906.174989, 'google-oauth2|112971301179841927329': 1573676731.872669}\n{'google-oauth2|101534126929210992885': 1573393894.562665, 'google-oauth2|112971301179841927329': 1573676740.992544}\n{'google-oauth2|101534126929210992885': 1573393877.22145, 'google-oauth2|112971301179841927329': 1573676754.585338}\n{'google-oauth2|101534126929210992885': 1573393841.471575, 'google-oauth2|112971301179841927329': 1573676827.166047}\n{'google-oauth2|101534126929210992885': 1573393826.19842, 'google-oauth2|112971301179841927329': 1573676838.222058}\n{'google-oauth2|101534126929210992885': 1573393817.648869, 'google-oauth2|112971301179841927329': 1573676854.131386}\n{'google-oauth2|101534126929210992885': 1573393766.759137, 'google-oauth2|112971301179841927329': 1573676861.582886}\n{'google-oauth2|101534126929210992885': 1573393755.236825, 'google-oauth2|112971301179841927329': 1573676911.685006}\n{'google-oauth2|101534126929210992885': 1573393741.086738, 'google-oauth2|112971301179841927329': 1573676921.178274}\n{'google-oauth2|101534126929210992885': 1573393727.712096, 'google-oauth2|112971301179841927329': 1573676933.085202}\n{'google-oauth2|101534126929210992885': 1573393709.81622, 'google-oauth2|112971301179841927329': 1573676941.966524}\n{'google-oauth2|101534126929210992885': 1573393693.196866, 'google-oauth2|112971301179841927329': 1573676951.380038}\n{'google-oauth2|101534126929210992885': 1573393680.263261, 'google-oauth2|112971301179841927329': 1573676961.635643}\n{'google-oauth2|101534126929210992885': 1573393668.065126, 'google-oauth2|112971301179841927329': 1573676971.700344}\n{'google-oauth2|101534126929210992885': 1573393656.214054, 'google-oauth2|112971301179841927329': 1573676985.278714}\n{'google-oauth2|101534126929210992885': 1573393643.739887, 'google-oauth2|112971301179841927329': 1573676995.049088}\n{'google-oauth2|101534126929210992885': 1573393630.681026, 'google-oauth2|112971301179841927329': 1573677003.500945}\n{'google-oauth2|101534126929210992885': 1573393617.610238, 'google-oauth2|112971301179841927329': 1573677012.184786}\n{'google-oauth2|101534126929210992885': 1573393527.297161, 'google-oauth2|112971301179841927329': 1573677066.430157}\n{'google-oauth2|101534126929210992885': 1573393515.163443, 'google-oauth2|112971301179841927329': 1573677076.150901}\n{'google-oauth2|101534126929210992885': 1573393458.308308, 'google-oauth2|112971301179841927329': 1573677127.248554}\n{'google-oauth2|101534126929210992885': 1573393349.19285, 'google-oauth2|112971301179841927329': 1573677247.375694}\n{'google-oauth2|101534126929210992885': 1573393332.016096, 'google-oauth2|112971301179841927329': 1573677259.865326}\n{'auth0|5dcc69aee034f70d29923ce0': 1573677489.829567, 'google-oauth2|101534126929210992885': 1573393361.09719, 'google-oauth2|112971301179841927329': 1573677205.326984}\n{'auth0|5dcc69aee034f70d29923ce0': 1573677699.881242, 'google-oauth2|101534126929210992885': 1573393475.359828, 'google-oauth2|112971301179841927329': 1573677085.269717}\n{'auth0|5dcc69aee034f70d29923ce0': 1573677760.887184, 'google-oauth2|101534126929210992885': 1573393548.752098, 'google-oauth2|112971301179841927329': 1573677021.426221}\n{'auth0|5dcc69aee034f70d29923ce0': 1573677843.673481, 'google-oauth2|101534126929210992885': 1573393863.091175, 'google-oauth2|112971301179841927329': 1573676812.552601}\n{'auth0|5dcc69aee034f70d29923ce0': 1573677912.297467, 'google-oauth2|101534126929210992885': 1573394092.816079, 'google-oauth2|112971301179841927329': 1573676482.052659}\n{'auth0|5dcc69aee034f70d29923ce0': 1573678111.436922, 'google-oauth2|101534126929210992885': 1573394366.481702, 'google-oauth2|112971301179841927329': 1573676161.211121}\n{'auth0|5dcc69aee034f70d29923ce0': 1573678179.151101, 'google-oauth2|101534126929210992885': 1573588738.203617, 'google-oauth2|102782057412863087362': 1573595817.840777, 'google-oauth2|112971301179841927329': 1573676097.521844, 'google-oauth2|116941088287412233752': 1573663343.0574}\n{'auth0|5dcc69aee034f70d29923ce0': 1573678358.46606, 'google-oauth2|101534126929210992885': 1573314736.076493}\n{'auth0|5dcc69aee034f70d29923ce0': 1573678391.331396, 'google-oauth2|101534126929210992885': 1573314717.088348}\n{'auth0|5dcc69aee034f70d29923ce0': 1573678662.782014, 'google-oauth2|101534126929210992885': 1573314702.930643}\n{'auth0|5dcc69aee034f70d29923ce0': 1573678718.218042, 'google-oauth2|101534126929210992885': 1573314688.991128}\n{'auth0|5dcc69aee034f70d29923ce0': 1573678754.201441, 'google-oauth2|101534126929210992885': 1573314674.274816}\n{'auth0|5dcc69aee034f70d29923ce0': 1573678783.768984, 'google-oauth2|101534126929210992885': 1573314656.499356}\n{'auth0|5dcc69aee034f70d29923ce0': 1573678819.995867, 'google-oauth2|101534126929210992885': 1573314612.709685}\n{'auth0|5dcc69aee034f70d29923ce0': 1573678872.158217, 'google-oauth2|101534126929210992885': 1573314573.408334}\n{'auth0|5dcc69aee034f70d29923ce0': 1573678901.581779, 'google-oauth2|101534126929210992885': 1573314505.648886}\n{'auth0|5dcc69aee034f70d29923ce0': 1573678960.051128, 'google-oauth2|101534126929210992885': 1573314431.60118}\n{'auth0|5dcc69aee034f70d29923ce0': 1573679121.216877, 'google-oauth2|101534126929210992885': 1573314144.500494}\n{'auth0|5dcc69aee034f70d29923ce0': 1573679264.686923, 'google-oauth2|101534126929210992885': 1573245370.152043}\n"
    }
   ],
   "source": [
    "#with_history_tags = gen_csv()\n",
    "final_tags =gen_csv(False)"
   ]
  },
  {
   "cell_type": "code",
   "execution_count": 296,
   "metadata": {},
   "outputs": [],
   "source": [
    "#final_tags.to_csv(os.path.join(PATH_TO_WRITE_CSV,'image_tags.csv'))"
   ]
  },
  {
   "cell_type": "code",
   "execution_count": 293,
   "metadata": {},
   "outputs": [
    {
     "data": {
      "text/html": "<div>\n<style scoped>\n    .dataframe tbody tr th:only-of-type {\n        vertical-align: middle;\n    }\n\n    .dataframe tbody tr th {\n        vertical-align: top;\n    }\n\n    .dataframe thead th {\n        text-align: right;\n    }\n</style>\n<table border=\"1\" class=\"dataframe\">\n  <thead>\n    <tr style=\"text-align: right;\">\n      <th></th>\n      <th>development</th>\n      <th>image_id</th>\n      <th>impact</th>\n      <th>ocean</th>\n      <th>terrain_inland</th>\n      <th>terrain_marsh</th>\n      <th>terrain_river</th>\n      <th>terrain_sandy_coastline</th>\n      <th>terrain_undefined</th>\n      <th>washover</th>\n    </tr>\n  </thead>\n  <tbody>\n    <tr>\n      <th>0</th>\n      <td>0.0</td>\n      <td>jpgs/S26047238.jpg</td>\n      <td>0.0</td>\n      <td>NaN</td>\n      <td>NaN</td>\n      <td>NaN</td>\n      <td>NaN</td>\n      <td>NaN</td>\n      <td>True</td>\n      <td>0.0</td>\n    </tr>\n    <tr>\n      <th>1</th>\n      <td>1.0</td>\n      <td>jpgs/P26057146.jpg</td>\n      <td>2.0</td>\n      <td>NaN</td>\n      <td>NaN</td>\n      <td>NaN</td>\n      <td>NaN</td>\n      <td>True</td>\n      <td>NaN</td>\n      <td>0.0</td>\n    </tr>\n    <tr>\n      <th>2</th>\n      <td>1.0</td>\n      <td>jpgs/P26054308.jpg</td>\n      <td>2.0</td>\n      <td>NaN</td>\n      <td>NaN</td>\n      <td>NaN</td>\n      <td>NaN</td>\n      <td>True</td>\n      <td>NaN</td>\n      <td>0.0</td>\n    </tr>\n    <tr>\n      <th>3</th>\n      <td>1.0</td>\n      <td>jpgs/P26050957.jpg</td>\n      <td>0.0</td>\n      <td>NaN</td>\n      <td>NaN</td>\n      <td>NaN</td>\n      <td>NaN</td>\n      <td>NaN</td>\n      <td>True</td>\n      <td>0.0</td>\n    </tr>\n    <tr>\n      <th>4</th>\n      <td>0.0</td>\n      <td>jpgs/P26057962.jpg</td>\n      <td>3.0</td>\n      <td>NaN</td>\n      <td>NaN</td>\n      <td>NaN</td>\n      <td>NaN</td>\n      <td>True</td>\n      <td>NaN</td>\n      <td>1.0</td>\n    </tr>\n  </tbody>\n</table>\n</div>",
      "text/plain": "   development            image_id  impact ocean terrain_inland terrain_marsh  \\\n0          0.0  jpgs/S26047238.jpg     0.0   NaN            NaN           NaN   \n1          1.0  jpgs/P26057146.jpg     2.0   NaN            NaN           NaN   \n2          1.0  jpgs/P26054308.jpg     2.0   NaN            NaN           NaN   \n3          1.0  jpgs/P26050957.jpg     0.0   NaN            NaN           NaN   \n4          0.0  jpgs/P26057962.jpg     3.0   NaN            NaN           NaN   \n\n  terrain_river terrain_sandy_coastline terrain_undefined  washover  \n0           NaN                     NaN              True       0.0  \n1           NaN                    True               NaN       0.0  \n2           NaN                    True               NaN       0.0  \n3           NaN                     NaN              True       0.0  \n4           NaN                    True               NaN       1.0  "
     },
     "execution_count": 293,
     "metadata": {},
     "output_type": "execute_result"
    }
   ],
   "source": [
    "final_tags.head()"
   ]
  },
  {
   "cell_type": "code",
   "execution_count": null,
   "metadata": {},
   "outputs": [],
   "source": []
  }
 ],
 "metadata": {
  "kernelspec": {
   "display_name": "Python 3",
   "language": "python",
   "name": "python3"
  },
  "language_info": {
   "codemirror_mode": {
    "name": "ipython",
    "version": 3
   },
   "file_extension": ".py",
   "mimetype": "text/x-python",
   "name": "python",
   "nbconvert_exporter": "python",
   "pygments_lexer": "ipython3",
   "version": "3.7.3"
  }
 },
 "nbformat": 4,
 "nbformat_minor": 2
}