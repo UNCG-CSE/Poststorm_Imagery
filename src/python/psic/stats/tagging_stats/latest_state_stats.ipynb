{
 "cells": [
  {
   "cell_type": "code",
   "execution_count": 481,
   "metadata": {},
   "outputs": [],
   "source": [
    "import pandas as pd\n",
    "import jsonpickle\n",
    "import numpy as np\n",
    "import matplotlib.pyplot as plt\n",
    "import os, os.path\n",
    "import dateutil.parser\n",
    "from datetime import datetime\n",
    "import statistics"
   ]
  },
  {
   "cell_type": "markdown",
   "execution_count": null,
   "metadata": {},
   "outputs": [],
   "source": [
    "Constants"
   ]
  },
  {
   "cell_type": "code",
   "execution_count": 482,
   "metadata": {},
   "outputs": [],
   "source": [
    "FILE_AS_ROOT = False\n",
    "SELF_PATH = os.getcwd()#os.path.dirname(os.path.abspath(__file__))\n",
    "PATH_TO_ROOT = os.path.join(SELF_PATH,'../../../../../../' if FILE_AS_ROOT else '')\n",
    "PATH_TO_WRITE_CSV = os.path.join(PATH_TO_ROOT,'../')\n",
    "PATH_TO_JSON_STATE = os.path.join(PATH_TO_ROOT,'../latest_state.json')"
   ]
  },
  {
   "cell_type": "markdown",
   "execution_count": null,
   "metadata": {},
   "outputs": [],
   "source": [
    "Given path to a pickle state,will return pickle object"
   ]
  },
  {
   "cell_type": "code",
   "execution_count": 483,
   "metadata": {},
   "outputs": [],
   "source": [
    "def get_pickle(path_to_file):\n",
    "    with open(path_to_file, 'r') as f:\n",
    "        return jsonpickle.decode(f.read())"
   ]
  },
  {
   "cell_type": "markdown",
   "execution_count": null,
   "metadata": {},
   "outputs": [],
   "source": [
    "Given a pickgle object will return how many incomplete, complete images have been tagged along with unix epoch time and date time stamp"
   ]
  },
  {
   "cell_type": "code",
   "execution_count": 484,
   "metadata": {},
   "outputs": [],
   "source": [
    "def how_many_tagged(pickle_file):\n",
    "    \n",
    "    done_tagging_count=len(pickle_file.finished_tagged_queue)\n",
    "    tagged_but_not_done_count=0\n",
    "    \n",
    "    for image in pickle_file.pending_images_queue:\n",
    "        if len(image.get_taggers()) > 0:\n",
    "            tagged_but_not_done_count+=1\n",
    "    return pd.DataFrame([{ \n",
    "        'not_done':tagged_but_not_done_count,\n",
    "        'done':done_tagging_count,\n",
    "        'skipped':len(pickle_file.max_skipped_queue),\n",
    "        'current':len(pickle_file.current_image),\n",
    "        'tagged_ratio': tagged_but_not_done_count/(tagged_but_not_done_count+done_tagging_count+len(pickle_file.max_skipped_queue)+len(pickle_file.current_image))\n",
    "     }])"
   ]
  },
  {
   "cell_type": "code",
   "execution_count": 485,
   "metadata": {},
   "outputs": [
    {
     "data": {
      "text/html": "<div>\n<style scoped>\n    .dataframe tbody tr th:only-of-type {\n        vertical-align: middle;\n    }\n\n    .dataframe tbody tr th {\n        vertical-align: top;\n    }\n\n    .dataframe thead th {\n        text-align: right;\n    }\n</style>\n<table border=\"1\" class=\"dataframe\">\n  <thead>\n    <tr style=\"text-align: right;\">\n      <th></th>\n      <th>not_done</th>\n      <th>done</th>\n      <th>skipped</th>\n      <th>current</th>\n      <th>tagged_ratio</th>\n    </tr>\n  </thead>\n  <tbody>\n    <tr>\n      <th>0</th>\n      <td>113</td>\n      <td>250</td>\n      <td>0</td>\n      <td>9</td>\n      <td>0.303763</td>\n    </tr>\n  </tbody>\n</table>\n</div>",
      "text/plain": "   not_done  done  skipped  current  tagged_ratio\n0       113   250        0        9      0.303763"
     },
     "execution_count": 485,
     "metadata": {},
     "output_type": "execute_result"
    }
   ],
   "source": [
    "pickle = get_pickle(PATH_TO_JSON_STATE)\n",
    "how_many_tagged(pickle).to_csv(os.path.join(PATH_TO_WRITE_CSV,'tag_status.csv'))\n",
    "how_many_tagged(pickle)"
   ]
  },
  {
   "cell_type": "code",
   "execution_count": 486,
   "metadata": {},
   "outputs": [],
   "source": [
    "finished_images = pickle.finished_tagged_queue\n",
    "partical_tagged = pickle.pending_images_queue"
   ]
  },
  {
   "cell_type": "code",
   "execution_count": 487,
   "metadata": {},
   "outputs": [],
   "source": [
    "def gen_df(images,history = True):\n",
    "    image_tag_df = pd.DataFrame(dtype = int)\n",
    "\n",
    "    for image in images:\n",
    "\n",
    "        tagger_list = list(image.get_taggers())\n",
    "        image_id = image.get_rel_path()\n",
    "\n",
    "        dict_row ={\n",
    "            'image_id':image_id\n",
    "            # 'tagging_start':image.stats_tagging_start,\n",
    "            # 'tagging_end':image.stats_tagging_stop,\n",
    "            # 'tagging_session_time':image.stats_tag_elapsed_session,\n",
    "            # 'tagging_assingment_time':image.stats_tag_elapsed_assigned\n",
    "        }\n",
    "        \n",
    "        # View all tags of an image, not final\n",
    "        if history:\n",
    "            for tagger in tagger_list:\n",
    "                # Get all the tags tagged by this tagger\n",
    "                list_of_tags = (image.get_tags(tagger))\n",
    "                \n",
    "                # Add those tags and the tagger ID to the dictionary that will be our row\n",
    "                dict_row.update(list_of_tags)\n",
    "                dict_row.update({\n",
    "                    'tagger':tagger,\n",
    "                    'tagging_start':image.stats_tagging_start[tagger],\n",
    "                    'tagging_end':image.stats_tagging_stop[tagger],\n",
    "                    'elapsed_session_time':image.stats_tag_elapsed_session[tagger],\n",
    "                    'total_assingment_time':image.stats_tag_elapsed_assigned[tagger]\n",
    "                })\n",
    "                \n",
    "                # Combine the dictionary row as a dataframe into the image tag dataframe\n",
    "                tag_row_df = pd.DataFrame([dict_row],dtype = int) \n",
    "                image_tag_df = pd.concat([image_tag_df,tag_row_df],sort=True , ignore_index = True)\n",
    "        else:\n",
    "            final_tags_df = image.final_tags \n",
    "            dict_row.update(final_tags_df)\n",
    "            \n",
    "            \n",
    "            starting_times = []\n",
    "            ending_times = []\n",
    "            assinged_times =[]\n",
    "            session_times =[]\n",
    "\n",
    "            for tagger in image.stats_tagging_start:\n",
    "                starting_times.append(image.stats_tagging_start[tagger])\n",
    "            \n",
    "            for tagger in image.stats_tagging_stop:\n",
    "                ending_times.append(image.stats_tagging_stop[tagger])\n",
    "            \n",
    "            for tagger in image.stats_tag_elapsed_assigned:\n",
    "                assinged_times.append(image.stats_tag_elapsed_assigned[tagger])\n",
    "            \n",
    "            for tagger in image.stats_tag_elapsed_session:\n",
    "                session_times.append(image.stats_tag_elapsed_session[tagger])\n",
    "\n",
    "            dict_row.update({\n",
    "                'time_start':min(starting_times),\n",
    "                'time_end':max(ending_times),\n",
    "                'time_assigned':min(assinged_times),\n",
    "                'time_elapsed':max(ending_times)-min(starting_times),\n",
    "                'session_avg_time':statistics.mean(session_times),\n",
    "                'session_max_time':max(session_times),\n",
    "                'session_min_time':min(session_times),\n",
    "                'session_median':statistics.median(session_times),\n",
    "                'session_stdev':statistics.stdev(session_times)\n",
    "            })\n",
    "\n",
    "            tag_row_df = pd.DataFrame([dict_row],dtype = int) \n",
    "\n",
    "            image_tag_df = pd.concat([image_tag_df,tag_row_df],sort=True, ignore_index = True)\n",
    "    return image_tag_df   "
   ]
  },
  {
   "cell_type": "code",
   "execution_count": 488,
   "metadata": {},
   "outputs": [],
   "source": [
    "#with_history_tags = gen_df()\n",
    "final_tags =gen_df(finished_images,False)"
   ]
  },
  {
   "cell_type": "code",
   "execution_count": 489,
   "metadata": {},
   "outputs": [
    {
     "data": {
      "text/html": "<div>\n<style scoped>\n    .dataframe tbody tr th:only-of-type {\n        vertical-align: middle;\n    }\n\n    .dataframe tbody tr th {\n        vertical-align: top;\n    }\n\n    .dataframe thead th {\n        text-align: right;\n    }\n</style>\n<table border=\"1\" class=\"dataframe\">\n  <thead>\n    <tr style=\"text-align: right;\">\n      <th></th>\n      <th>development</th>\n      <th>image_id</th>\n      <th>impact</th>\n      <th>ocean</th>\n      <th>session_avg_time</th>\n      <th>session_max_time</th>\n      <th>session_median</th>\n      <th>session_min_time</th>\n      <th>session_stdev</th>\n      <th>terrain_inland</th>\n      <th>terrain_marsh</th>\n      <th>terrain_river</th>\n      <th>terrain_sandy_coastline</th>\n      <th>terrain_undefined</th>\n      <th>time_assigned</th>\n      <th>time_elapsed</th>\n      <th>time_end</th>\n      <th>time_start</th>\n      <th>washover</th>\n    </tr>\n  </thead>\n  <tbody>\n    <tr>\n      <th>0</th>\n      <td>0</td>\n      <td>jpgs/S26047238.jpg</td>\n      <td>0</td>\n      <td>0</td>\n      <td>12.347500</td>\n      <td>16.509</td>\n      <td>12.3475</td>\n      <td>8.186</td>\n      <td>5.885250</td>\n      <td>0</td>\n      <td>0</td>\n      <td>0</td>\n      <td>0</td>\n      <td>1</td>\n      <td>20.314602</td>\n      <td>75139.687900</td>\n      <td>1.573503e+09</td>\n      <td>1.573428e+09</td>\n      <td>0</td>\n    </tr>\n    <tr>\n      <th>1</th>\n      <td>1</td>\n      <td>jpgs/P26057146.jpg</td>\n      <td>2</td>\n      <td>0</td>\n      <td>37.625500</td>\n      <td>47.805</td>\n      <td>37.6255</td>\n      <td>27.446</td>\n      <td>14.395987</td>\n      <td>0</td>\n      <td>0</td>\n      <td>0</td>\n      <td>1</td>\n      <td>0</td>\n      <td>31.980647</td>\n      <td>75222.597478</td>\n      <td>1.573503e+09</td>\n      <td>1.573428e+09</td>\n      <td>0</td>\n    </tr>\n    <tr>\n      <th>2</th>\n      <td>1</td>\n      <td>jpgs/P26054308.jpg</td>\n      <td>2</td>\n      <td>0</td>\n      <td>27.146000</td>\n      <td>39.721</td>\n      <td>27.1460</td>\n      <td>14.571</td>\n      <td>17.783736</td>\n      <td>0</td>\n      <td>0</td>\n      <td>0</td>\n      <td>1</td>\n      <td>0</td>\n      <td>17.932065</td>\n      <td>75285.077463</td>\n      <td>1.573503e+09</td>\n      <td>1.573428e+09</td>\n      <td>0</td>\n    </tr>\n    <tr>\n      <th>3</th>\n      <td>1</td>\n      <td>jpgs/P26050957.jpg</td>\n      <td>0</td>\n      <td>0</td>\n      <td>12.982500</td>\n      <td>20.097</td>\n      <td>12.9825</td>\n      <td>5.868</td>\n      <td>10.061422</td>\n      <td>0</td>\n      <td>0</td>\n      <td>0</td>\n      <td>0</td>\n      <td>1</td>\n      <td>11.001374</td>\n      <td>75319.602875</td>\n      <td>1.573504e+09</td>\n      <td>1.573428e+09</td>\n      <td>0</td>\n    </tr>\n    <tr>\n      <th>4</th>\n      <td>0</td>\n      <td>jpgs/P26057962.jpg</td>\n      <td>3</td>\n      <td>0</td>\n      <td>32.914000</td>\n      <td>60.004</td>\n      <td>32.9140</td>\n      <td>5.824</td>\n      <td>38.311045</td>\n      <td>0</td>\n      <td>0</td>\n      <td>0</td>\n      <td>1</td>\n      <td>0</td>\n      <td>10.357999</td>\n      <td>75393.615183</td>\n      <td>1.573504e+09</td>\n      <td>1.573428e+09</td>\n      <td>1</td>\n    </tr>\n    <tr>\n      <th>...</th>\n      <td>...</td>\n      <td>...</td>\n      <td>...</td>\n      <td>...</td>\n      <td>...</td>\n      <td>...</td>\n      <td>...</td>\n      <td>...</td>\n      <td>...</td>\n      <td>...</td>\n      <td>...</td>\n      <td>...</td>\n      <td>...</td>\n      <td>...</td>\n      <td>...</td>\n      <td>...</td>\n      <td>...</td>\n      <td>...</td>\n      <td>...</td>\n    </tr>\n    <tr>\n      <th>245</th>\n      <td>0</td>\n      <td>jpgs/P26051780.jpg</td>\n      <td>0</td>\n      <td>0</td>\n      <td>15.750000</td>\n      <td>16.371</td>\n      <td>15.7500</td>\n      <td>15.129</td>\n      <td>0.878227</td>\n      <td>0</td>\n      <td>0</td>\n      <td>1</td>\n      <td>0</td>\n      <td>1</td>\n      <td>19.054374</td>\n      <td>364549.445528</td>\n      <td>1.573679e+09</td>\n      <td>1.573314e+09</td>\n      <td>0</td>\n    </tr>\n    <tr>\n      <th>246</th>\n      <td>1</td>\n      <td>jpgs/C26049792.jpg</td>\n      <td>0</td>\n      <td>0</td>\n      <td>92.983500</td>\n      <td>168.959</td>\n      <td>92.9835</td>\n      <td>17.008</td>\n      <td>107.445583</td>\n      <td>1</td>\n      <td>0</td>\n      <td>0</td>\n      <td>0</td>\n      <td>1</td>\n      <td>21.023336</td>\n      <td>364997.739719</td>\n      <td>1.573679e+09</td>\n      <td>1.573314e+09</td>\n      <td>0</td>\n    </tr>\n    <tr>\n      <th>247</th>\n      <td>0</td>\n      <td>jpgs/P26059190.jpg</td>\n      <td>0</td>\n      <td>1</td>\n      <td>9.301000</td>\n      <td>12.498</td>\n      <td>9.3010</td>\n      <td>6.104</td>\n      <td>4.521241</td>\n      <td>0</td>\n      <td>0</td>\n      <td>0</td>\n      <td>0</td>\n      <td>0</td>\n      <td>10.113229</td>\n      <td>433904.648109</td>\n      <td>1.573679e+09</td>\n      <td>1.573245e+09</td>\n      <td>0</td>\n    </tr>\n    <tr>\n      <th>248</th>\n      <td>1</td>\n      <td>jpgs/P26047397.jpg</td>\n      <td>0</td>\n      <td>1</td>\n      <td>33.290000</td>\n      <td>54.225</td>\n      <td>33.2900</td>\n      <td>12.355</td>\n      <td>29.606561</td>\n      <td>0</td>\n      <td>0</td>\n      <td>0</td>\n      <td>0</td>\n      <td>1</td>\n      <td>21.769375</td>\n      <td>520088.313604</td>\n      <td>1.574287e+09</td>\n      <td>1.573767e+09</td>\n      <td>0</td>\n    </tr>\n    <tr>\n      <th>249</th>\n      <td>0</td>\n      <td>jpgs/C26048086.jpg</td>\n      <td>3</td>\n      <td>0</td>\n      <td>24.980667</td>\n      <td>36.683</td>\n      <td>23.3720</td>\n      <td>14.887</td>\n      <td>10.986686</td>\n      <td>1</td>\n      <td>0</td>\n      <td>0</td>\n      <td>1</td>\n      <td>1</td>\n      <td>16.092605</td>\n      <td>520755.472740</td>\n      <td>1.574288e+09</td>\n      <td>1.573767e+09</td>\n      <td>0</td>\n    </tr>\n  </tbody>\n</table>\n<p>250 rows × 19 columns</p>\n</div>",
      "text/plain": "     development            image_id  impact  ocean  session_avg_time  \\\n0              0  jpgs/S26047238.jpg       0      0         12.347500   \n1              1  jpgs/P26057146.jpg       2      0         37.625500   \n2              1  jpgs/P26054308.jpg       2      0         27.146000   \n3              1  jpgs/P26050957.jpg       0      0         12.982500   \n4              0  jpgs/P26057962.jpg       3      0         32.914000   \n..           ...                 ...     ...    ...               ...   \n245            0  jpgs/P26051780.jpg       0      0         15.750000   \n246            1  jpgs/C26049792.jpg       0      0         92.983500   \n247            0  jpgs/P26059190.jpg       0      1          9.301000   \n248            1  jpgs/P26047397.jpg       0      1         33.290000   \n249            0  jpgs/C26048086.jpg       3      0         24.980667   \n\n     session_max_time  session_median  session_min_time  session_stdev  \\\n0              16.509         12.3475             8.186       5.885250   \n1              47.805         37.6255            27.446      14.395987   \n2              39.721         27.1460            14.571      17.783736   \n3              20.097         12.9825             5.868      10.061422   \n4              60.004         32.9140             5.824      38.311045   \n..                ...             ...               ...            ...   \n245            16.371         15.7500            15.129       0.878227   \n246           168.959         92.9835            17.008     107.445583   \n247            12.498          9.3010             6.104       4.521241   \n248            54.225         33.2900            12.355      29.606561   \n249            36.683         23.3720            14.887      10.986686   \n\n     terrain_inland  terrain_marsh  terrain_river  terrain_sandy_coastline  \\\n0                 0              0              0                        0   \n1                 0              0              0                        1   \n2                 0              0              0                        1   \n3                 0              0              0                        0   \n4                 0              0              0                        1   \n..              ...            ...            ...                      ...   \n245               0              0              1                        0   \n246               1              0              0                        0   \n247               0              0              0                        0   \n248               0              0              0                        0   \n249               1              0              0                        1   \n\n     terrain_undefined  time_assigned   time_elapsed      time_end  \\\n0                    1      20.314602   75139.687900  1.573503e+09   \n1                    0      31.980647   75222.597478  1.573503e+09   \n2                    0      17.932065   75285.077463  1.573503e+09   \n3                    1      11.001374   75319.602875  1.573504e+09   \n4                    0      10.357999   75393.615183  1.573504e+09   \n..                 ...            ...            ...           ...   \n245                  1      19.054374  364549.445528  1.573679e+09   \n246                  1      21.023336  364997.739719  1.573679e+09   \n247                  0      10.113229  433904.648109  1.573679e+09   \n248                  1      21.769375  520088.313604  1.574287e+09   \n249                  1      16.092605  520755.472740  1.574288e+09   \n\n       time_start  washover  \n0    1.573428e+09         0  \n1    1.573428e+09         0  \n2    1.573428e+09         0  \n3    1.573428e+09         0  \n4    1.573428e+09         1  \n..            ...       ...  \n245  1.573314e+09         0  \n246  1.573314e+09         0  \n247  1.573245e+09         0  \n248  1.573767e+09         0  \n249  1.573767e+09         0  \n\n[250 rows x 19 columns]"
     },
     "execution_count": 489,
     "metadata": {},
     "output_type": "execute_result"
    }
   ],
   "source": [
    "final_tags.replace([False,True],[0,1], inplace=True)\n",
    "\n",
    "final_tags[['washover','impact','development','ocean','terrain_inland','terrain_marsh','terrain_river','terrain_sandy_coastline','terrain_undefined']] = final_tags[['washover','impact','development','ocean','terrain_inland','terrain_marsh','terrain_river','terrain_sandy_coastline','terrain_undefined']].fillna(0.0).astype(int)\n",
    "final_tags"
   ]
  },
  {
   "cell_type": "code",
   "execution_count": 490,
   "metadata": {},
   "outputs": [],
   "source": [
    "def get_all_taggers(images):\n",
    "    taggers_df = pd.DataFrame()\n",
    "\n",
    "    for image in images:\n",
    "        taggers = list(image.get_taggers())\n",
    "        for tagger in taggers:\n",
    "            tagger_as_df = pd.DataFrame([tagger]) \n",
    "            taggers_df = pd.concat([taggers_df,tagger_as_df],sort=True , ignore_index = True)\n",
    "\n",
    "    return taggers_df\n",
    "all_taggers = get_all_taggers(finished_images)\n",
    "all_taggers.drop_duplicates(inplace = True)"
   ]
  },
  {
   "cell_type": "code",
   "execution_count": 491,
   "metadata": {},
   "outputs": [
    {
     "name": "stdout",
     "output_type": "stream",
     "text": "done\n"
    }
   ],
   "source": [
    "final_tags.to_csv(os.path.join(PATH_TO_WRITE_CSV,'image_tags.csv'))\n",
    "print('done')"
   ]
  },
  {
   "cell_type": "code",
   "execution_count": null,
   "metadata": {},
   "outputs": [],
   "source": []
  }
 ],
 "metadata": {
  "kernelspec": {
   "display_name": "Python 3",
   "language": "python",
   "name": "python3"
  },
  "language_info": {
   "codemirror_mode": {
    "name": "ipython",
    "version": 3
   },
   "file_extension": ".py",
   "mimetype": "text/x-python",
   "name": "python",
   "nbconvert_exporter": "python",
   "pygments_lexer": "ipython3",
   "version": "3.7.3"
  }
 },
 "nbformat": 4,
 "nbformat_minor": 2
}