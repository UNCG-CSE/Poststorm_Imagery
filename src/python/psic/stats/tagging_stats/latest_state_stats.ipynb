{
 "cells": [
  {
   "cell_type": "code",
   "execution_count": 12,
   "metadata": {},
   "outputs": [],
   "source": [
    "import pandas as pd\n",
    "import jsonpickle\n",
    "import numpy as np\n",
    "import matplotlib.pyplot as plt\n",
    "import os, os.path\n",
    "import dateutil.parser\n",
    "from datetime import datetime"
   ]
  },
  {
   "cell_type": "markdown",
   "execution_count": null,
   "metadata": {},
   "outputs": [],
   "source": [
    "Constants"
   ]
  },
  {
   "cell_type": "code",
   "execution_count": 13,
   "metadata": {},
   "outputs": [],
   "source": [
    "FILE_AS_ROOT = False\n",
    "USE_HISTORY = False\n",
    "SELF_PATH = os.getcwd()#os.path.dirname(os.path.abspath(__file__))\n",
    "PATH_TO_ROOT = os.path.join(SELF_PATH,'../../../../../../' if FILE_AS_ROOT else '')\n",
    "PATH_TO_WRITE_CSV = os.path.join(PATH_TO_ROOT,'../')\n",
    "PATH_TO_JSON_STATE = os.path.join(PATH_TO_ROOT,'../latest_state.json')"
   ]
  },
  {
   "cell_type": "markdown",
   "execution_count": null,
   "metadata": {},
   "outputs": [],
   "source": [
    "Given path to a pickle state,will return pickle object"
   ]
  },
  {
   "cell_type": "code",
   "execution_count": 14,
   "metadata": {},
   "outputs": [],
   "source": [
    "def get_pickle(path_to_file):\n",
    "    with open(path_to_file, 'r') as f:\n",
    "        return jsonpickle.decode(f.read())"
   ]
  },
  {
   "cell_type": "markdown",
   "execution_count": null,
   "metadata": {},
   "outputs": [],
   "source": [
    "Given a pickgle object will return how many incomplete, complete images have been tagged along with unix epoch time and date time stamp"
   ]
  },
  {
   "cell_type": "code",
   "execution_count": 15,
   "metadata": {},
   "outputs": [],
   "source": [
    "def how_many_tagged(pickle_file):\n",
    "    \n",
    "    done_tagging_count=len(pickle_file.finished_tagged_queue)\n",
    "    tagged_but_not_done_count=0\n",
    "    \n",
    "    for image in pickle_file.pending_images_queue:\n",
    "        if len(image.get_taggers()) > 0:\n",
    "            tagged_but_not_done_count+=1\n",
    "    \n",
    "    return pd.DataFrame([{ \n",
    "        'not_done':tagged_but_not_done_count,\n",
    "        'done':done_tagging_count,\n",
    "        'tagged_ratio': tagged_but_not_done_count/(tagged_but_not_done_count+done_tagging_count)\n",
    "     }])"
   ]
  },
  {
   "cell_type": "code",
   "execution_count": 16,
   "metadata": {},
   "outputs": [],
   "source": [
    "pickle = get_pickle(PATH_TO_JSON_STATE)"
   ]
  },
  {
   "cell_type": "code",
   "execution_count": 17,
   "metadata": {},
   "outputs": [],
   "source": [
    "# for image in pickle.finished_tagged_queue:\n",
    "#     times_stop = image.stats_tagging_stop\n",
    "#     keys = list(times_stop.keys())\n",
    "#     last_tagger = keys[-1]\n",
    "#     last_time = times_stop.get(last_tagger)\n",
    "#     print(datetime.fromtimestamp(last_time))"
   ]
  },
  {
   "cell_type": "code",
   "execution_count": 18,
   "metadata": {},
   "outputs": [],
   "source": [
    "finished_images = pickle.finished_tagged_queue"
   ]
  },
  {
   "cell_type": "code",
   "execution_count": 19,
   "metadata": {},
   "outputs": [],
   "source": [
    "def gen_csv(history = True):\n",
    "    image_tag_df = pd.DataFrame()\n",
    "\n",
    "    for image in finished_images:\n",
    "\n",
    "        tagger_list = list(image.get_taggers())\n",
    "        image_id = image.get_rel_path()\n",
    "\n",
    "        dict_row ={\n",
    "            'image_id':image_id\n",
    "            # 'tagging_start':image.stats_tagging_start,\n",
    "            # 'tagging_end':image.stats_tagging_stop,\n",
    "            # 'tagging_session_time':image.stats_tag_elapsed_session,\n",
    "            # 'tagging_assingment_time':image.stats_tag_elapsed_assigned\n",
    "        }\n",
    "        \n",
    "        # View all tags of an image, not final\n",
    "        if history:\n",
    "            for tagger in tagger_list:\n",
    "                # Get all the tags tagged by this tagger\n",
    "                list_of_tags = (image.get_tags(tagger))\n",
    "                \n",
    "                # Add those tags and the tagger ID to the dictionary that will be our row\n",
    "                dict_row.update(list_of_tags)\n",
    "                dict_row.update({\n",
    "                    'tagger':tagger,\n",
    "                    'tagging_start':image.stats_tagging_start[tagger],\n",
    "                    'tagging_end':image.stats_tagging_stop[tagger],\n",
    "                    'elapsed_session_time':image.stats_tag_elapsed_session[tagger],\n",
    "                    'total_assingment_time':image.stats_tag_elapsed_assigned[tagger]\n",
    "                })\n",
    "                \n",
    "                # Combine the dictionary row as a dataframe into the image tag dataframe\n",
    "                tag_row_df = pd.DataFrame([dict_row]) \n",
    "                image_tag_df = pd.concat([image_tag_df,tag_row_df],sort=True , ignore_index = True)\n",
    "        else:\n",
    "            final_tags_df = image.final_tags \n",
    "            dict_row.update(final_tags_df)\n",
    "            tag_row_df = pd.DataFrame([dict_row]) \n",
    "            #print(image.stats_tagging_start)\n",
    "            image_tag_df = pd.concat([image_tag_df,tag_row_df],sort=True, ignore_index = True)\n",
    "    return image_tag_df   "
   ]
  },
  {
   "cell_type": "code",
   "execution_count": 20,
   "metadata": {},
   "outputs": [],
   "source": [
    "with_history_tags = gen_csv()\n",
    "final_tags =gen_csv(False)"
   ]
  },
  {
   "cell_type": "code",
   "execution_count": 21,
   "metadata": {},
   "outputs": [],
   "source": [
    "final_tags.to_csv(os.path.join(PATH_TO_WRITE_CSV,'image_final_tags.csv'))\n",
    "with_history_tags.to_csv(os.path.join(PATH_TO_WRITE_CSV,'image_with_histoy_tags.csv'))"
   ]
  },
  {
   "cell_type": "code",
   "execution_count": 22,
   "metadata": {},
   "outputs": [
    {
     "data": {
      "text/html": "<div>\n<style scoped>\n    .dataframe tbody tr th:only-of-type {\n        vertical-align: middle;\n    }\n\n    .dataframe tbody tr th {\n        vertical-align: top;\n    }\n\n    .dataframe thead th {\n        text-align: right;\n    }\n</style>\n<table border=\"1\" class=\"dataframe\">\n  <thead>\n    <tr style=\"text-align: right;\">\n      <th></th>\n      <th>development</th>\n      <th>image_id</th>\n      <th>impact</th>\n      <th>ocean</th>\n      <th>terrain_inland</th>\n      <th>terrain_marsh</th>\n      <th>terrain_river</th>\n      <th>terrain_sandy_coastline</th>\n      <th>terrain_undefined</th>\n      <th>washover</th>\n    </tr>\n  </thead>\n  <tbody>\n    <tr>\n      <th>0</th>\n      <td>0.0</td>\n      <td>jpgs/S26047238.jpg</td>\n      <td>0.0</td>\n      <td>NaN</td>\n      <td>NaN</td>\n      <td>NaN</td>\n      <td>NaN</td>\n      <td>NaN</td>\n      <td>True</td>\n      <td>0.0</td>\n    </tr>\n    <tr>\n      <th>1</th>\n      <td>1.0</td>\n      <td>jpgs/P26057146.jpg</td>\n      <td>2.0</td>\n      <td>NaN</td>\n      <td>NaN</td>\n      <td>NaN</td>\n      <td>NaN</td>\n      <td>True</td>\n      <td>NaN</td>\n      <td>0.0</td>\n    </tr>\n    <tr>\n      <th>2</th>\n      <td>1.0</td>\n      <td>jpgs/P26054308.jpg</td>\n      <td>2.0</td>\n      <td>NaN</td>\n      <td>NaN</td>\n      <td>NaN</td>\n      <td>NaN</td>\n      <td>True</td>\n      <td>NaN</td>\n      <td>0.0</td>\n    </tr>\n    <tr>\n      <th>3</th>\n      <td>1.0</td>\n      <td>jpgs/P26050957.jpg</td>\n      <td>0.0</td>\n      <td>NaN</td>\n      <td>NaN</td>\n      <td>NaN</td>\n      <td>NaN</td>\n      <td>NaN</td>\n      <td>True</td>\n      <td>0.0</td>\n    </tr>\n    <tr>\n      <th>4</th>\n      <td>0.0</td>\n      <td>jpgs/P26057962.jpg</td>\n      <td>3.0</td>\n      <td>NaN</td>\n      <td>NaN</td>\n      <td>NaN</td>\n      <td>NaN</td>\n      <td>True</td>\n      <td>NaN</td>\n      <td>1.0</td>\n    </tr>\n  </tbody>\n</table>\n</div>",
      "text/plain": "   development            image_id  impact ocean terrain_inland terrain_marsh  \\\n0          0.0  jpgs/S26047238.jpg     0.0   NaN            NaN           NaN   \n1          1.0  jpgs/P26057146.jpg     2.0   NaN            NaN           NaN   \n2          1.0  jpgs/P26054308.jpg     2.0   NaN            NaN           NaN   \n3          1.0  jpgs/P26050957.jpg     0.0   NaN            NaN           NaN   \n4          0.0  jpgs/P26057962.jpg     3.0   NaN            NaN           NaN   \n\n  terrain_river terrain_sandy_coastline terrain_undefined  washover  \n0           NaN                     NaN              True       0.0  \n1           NaN                    True               NaN       0.0  \n2           NaN                    True               NaN       0.0  \n3           NaN                     NaN              True       0.0  \n4           NaN                    True               NaN       1.0  "
     },
     "execution_count": 22,
     "metadata": {},
     "output_type": "execute_result"
    }
   ],
   "source": [
    "final_tags.head()"
   ]
  },
  {
   "cell_type": "code",
   "execution_count": null,
   "metadata": {},
   "outputs": [],
   "source": []
  }
 ],
 "metadata": {
  "kernelspec": {
   "display_name": "Python 3",
   "language": "python",
   "name": "python3"
  },
  "language_info": {
   "codemirror_mode": {
    "name": "ipython",
    "version": 3
   },
   "file_extension": ".py",
   "mimetype": "text/x-python",
   "name": "python",
   "nbconvert_exporter": "python",
   "pygments_lexer": "ipython3",
   "version": "3.7.3"
  }
 },
 "nbformat": 4,
 "nbformat_minor": 2
}