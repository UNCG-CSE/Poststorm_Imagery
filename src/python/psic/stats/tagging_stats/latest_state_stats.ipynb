{
 "cells": [
  {
   "cell_type": "code",
   "execution_count": 30,
   "metadata": {},
   "outputs": [],
   "source": [
    "import pandas as pd\n",
    "import jsonpickle\n",
    "import numpy as np\n",
    "import matplotlib.pyplot as plt\n",
    "import os, os.path\n",
    "import dateutil.parser\n",
    "from datetime import datetime"
   ]
  },
  {
   "cell_type": "markdown",
   "execution_count": null,
   "metadata": {},
   "outputs": [],
   "source": [
    "Constants"
   ]
  },
  {
   "cell_type": "code",
   "execution_count": 31,
   "metadata": {},
   "outputs": [],
   "source": [
    "FILE_AS_ROOT = False\n",
    "SELF_PATH = os.getcwd()#os.path.dirname(os.path.abspath(__file__))\n",
    "PATH_TO_ROOT = os.path.join(SELF_PATH,'../../../../../../' if FILE_AS_ROOT else '../')\n",
    "PATH_TO_JSON_STATE = os.path.join(PATH_TO_ROOT,'latest_state.json')"
   ]
  },
  {
   "cell_type": "markdown",
   "execution_count": null,
   "metadata": {},
   "outputs": [],
   "source": [
    "Given path to a pickle state,will return pickle object"
   ]
  },
  {
   "cell_type": "code",
   "execution_count": 32,
   "metadata": {},
   "outputs": [],
   "source": [
    "def get_pickle(path_to_file):\n",
    "    with open(path_to_file, 'r') as f:\n",
    "        return jsonpickle.decode(f.read())"
   ]
  },
  {
   "cell_type": "markdown",
   "execution_count": null,
   "metadata": {},
   "outputs": [],
   "source": [
    "Given a pickgle object will return how many incomplete, complete images have been tagged along with unix epoch time and date time stamp"
   ]
  },
  {
   "cell_type": "code",
   "execution_count": 33,
   "metadata": {},
   "outputs": [],
   "source": [
    "def how_many_tagged(pickle_file):\n",
    "    \n",
    "    done_tagging_count=len(pickle_file.finished_tagged_queue)\n",
    "    tagged_but_not_done_count=0\n",
    "    \n",
    "    for image in pickle_file.pending_images_queue:\n",
    "        if len(image.get_taggers()) > 0:\n",
    "            tagged_but_not_done_count+=1\n",
    "    \n",
    "    return pd.DataFrame([{ \n",
    "        'not_done':tagged_but_not_done_count,\n",
    "        'done':done_tagging_count,\n",
    "        'tagged_ratio': tagged_but_not_done_count/(tagged_but_not_done_count+done_tagging_count)\n",
    "     }])"
   ]
  },
  {
   "cell_type": "code",
   "execution_count": 44,
   "metadata": {},
   "outputs": [
    {
     "data": {
      "text/html": "<div>\n<style scoped>\n    .dataframe tbody tr th:only-of-type {\n        vertical-align: middle;\n    }\n\n    .dataframe tbody tr th {\n        vertical-align: top;\n    }\n\n    .dataframe thead th {\n        text-align: right;\n    }\n</style>\n<table border=\"1\" class=\"dataframe\">\n  <thead>\n    <tr style=\"text-align: right;\">\n      <th></th>\n      <th>not_done</th>\n      <th>done</th>\n      <th>tagged_ratio</th>\n    </tr>\n  </thead>\n  <tbody>\n    <tr>\n      <th>0</th>\n      <td>117</td>\n      <td>248</td>\n      <td>0.320548</td>\n    </tr>\n  </tbody>\n</table>\n</div>",
      "text/plain": "   not_done  done  tagged_ratio\n0       117   248      0.320548"
     },
     "execution_count": 44,
     "metadata": {},
     "output_type": "execute_result"
    }
   ],
   "source": [
    "pickle = get_pickle(PATH_TO_JSON_STATE)"
   ]
  },
  {
   "cell_type": "code",
   "execution_count": 43,
   "metadata": {},
   "outputs": [],
   "source": [
    "# for image in pickle.finished_tagged_queue:\n",
    "#     times_stop = image.stats_tagging_stop\n",
    "#     keys = list(times_stop.keys())\n",
    "#     last_tagger = keys[-1]\n",
    "#     last_time = times_stop.get(last_tagger)\n",
    "#     print(datetime.fromtimestamp(last_time))"
   ]
  },
  {
   "cell_type": "code",
   "execution_count": 45,
   "metadata": {},
   "outputs": [],
   "source": [
    "finished_images = pickle.finished_tagged_queue"
   ]
  },
  {
   "cell_type": "code",
   "execution_count": 117,
   "metadata": {},
   "outputs": [
    {
     "data": {
      "text/html": "<div>\n<style scoped>\n    .dataframe tbody tr th:only-of-type {\n        vertical-align: middle;\n    }\n\n    .dataframe tbody tr th {\n        vertical-align: top;\n    }\n\n    .dataframe thead th {\n        text-align: right;\n    }\n</style>\n<table border=\"1\" class=\"dataframe\">\n  <thead>\n    <tr style=\"text-align: right;\">\n      <th></th>\n      <th>development</th>\n      <th>image_id</th>\n      <th>impact</th>\n      <th>notes</th>\n      <th>ocean</th>\n      <th>tagger</th>\n      <th>terrain_inland</th>\n      <th>terrain_marsh</th>\n      <th>terrain_river</th>\n      <th>terrain_sandy_coastline</th>\n      <th>terrain_undefined</th>\n      <th>washover</th>\n    </tr>\n  </thead>\n  <tbody>\n    <tr>\n      <th>0</th>\n      <td>0</td>\n      <td>jpgs/S26047238.jpg</td>\n      <td>0</td>\n      <td></td>\n      <td>NaN</td>\n      <td>google-oauth2|112971301179841927329</td>\n      <td>NaN</td>\n      <td>NaN</td>\n      <td>NaN</td>\n      <td>NaN</td>\n      <td>True</td>\n      <td>0</td>\n    </tr>\n    <tr>\n      <th>0</th>\n      <td>0</td>\n      <td>jpgs/S26047238.jpg</td>\n      <td>0</td>\n      <td></td>\n      <td>NaN</td>\n      <td>google-oauth2|101534126929210992885</td>\n      <td>NaN</td>\n      <td>NaN</td>\n      <td>NaN</td>\n      <td>NaN</td>\n      <td>True</td>\n      <td>0</td>\n    </tr>\n    <tr>\n      <th>0</th>\n      <td>1</td>\n      <td>jpgs/P26057146.jpg</td>\n      <td>2</td>\n      <td></td>\n      <td>NaN</td>\n      <td>google-oauth2|112971301179841927329</td>\n      <td>NaN</td>\n      <td>NaN</td>\n      <td>NaN</td>\n      <td>True</td>\n      <td>NaN</td>\n      <td>0</td>\n    </tr>\n    <tr>\n      <th>0</th>\n      <td>1</td>\n      <td>jpgs/P26057146.jpg</td>\n      <td>2</td>\n      <td></td>\n      <td>NaN</td>\n      <td>google-oauth2|101534126929210992885</td>\n      <td>NaN</td>\n      <td>NaN</td>\n      <td>NaN</td>\n      <td>True</td>\n      <td>NaN</td>\n      <td>0</td>\n    </tr>\n    <tr>\n      <th>0</th>\n      <td>1</td>\n      <td>jpgs/P26054308.jpg</td>\n      <td>2</td>\n      <td></td>\n      <td>NaN</td>\n      <td>google-oauth2|112971301179841927329</td>\n      <td>NaN</td>\n      <td>NaN</td>\n      <td>NaN</td>\n      <td>True</td>\n      <td>NaN</td>\n      <td>0</td>\n    </tr>\n  </tbody>\n</table>\n</div>",
      "text/plain": "  development            image_id impact notes ocean  \\\n0           0  jpgs/S26047238.jpg      0         NaN   \n0           0  jpgs/S26047238.jpg      0         NaN   \n0           1  jpgs/P26057146.jpg      2         NaN   \n0           1  jpgs/P26057146.jpg      2         NaN   \n0           1  jpgs/P26054308.jpg      2         NaN   \n\n                                tagger terrain_inland terrain_marsh  \\\n0  google-oauth2|112971301179841927329            NaN           NaN   \n0  google-oauth2|101534126929210992885            NaN           NaN   \n0  google-oauth2|112971301179841927329            NaN           NaN   \n0  google-oauth2|101534126929210992885            NaN           NaN   \n0  google-oauth2|112971301179841927329            NaN           NaN   \n\n  terrain_river terrain_sandy_coastline terrain_undefined washover  \n0           NaN                     NaN              True        0  \n0           NaN                     NaN              True        0  \n0           NaN                    True               NaN        0  \n0           NaN                    True               NaN        0  \n0           NaN                    True               NaN        0  "
     },
     "execution_count": 117,
     "metadata": {},
     "output_type": "execute_result"
    }
   ],
   "source": [
    "image_tag_df = pd.DataFrame(\n",
    "    columns=['image_id', 'tagger','development','impact','notes','washover']\n",
    ")\n",
    "\n",
    "for image in finished_images:\n",
    "\n",
    "    tagger_list = list(image.get_taggers())\n",
    "    image_id = image.get_rel_path()\n",
    "\n",
    "    for tagger in tagger_list:\n",
    "\n",
    "        list_of_tags = (image.get_tags(tagger))\n",
    "        \n",
    "        df_row ={\n",
    "            'image_id':image_id,\n",
    "            'tagger':tagger,\n",
    "            \n",
    "        }\n",
    "\n",
    "        df_row.update(list_of_tags)\n",
    "        \n",
    "        row_df = pd.DataFrame([df_row]) \n",
    "        #image_tag_df.merge(row_df)\n",
    "        image_tag_df = pd.concat([image_tag_df,row_df],sort=True)\n",
    "        \n",
    "image_tag_df.head()"
   ]
  },
  {
   "cell_type": "code",
   "execution_count": null,
   "metadata": {},
   "outputs": [],
   "source": []
  }
 ],
 "metadata": {
  "kernelspec": {
   "display_name": "Python 3",
   "language": "python",
   "name": "python3"
  },
  "language_info": {
   "codemirror_mode": {
    "name": "ipython",
    "version": 3
   },
   "file_extension": ".py",
   "mimetype": "text/x-python",
   "name": "python",
   "nbconvert_exporter": "python",
   "pygments_lexer": "ipython3",
   "version": "3.7.3"
  }
 },
 "nbformat": 4,
 "nbformat_minor": 2
}