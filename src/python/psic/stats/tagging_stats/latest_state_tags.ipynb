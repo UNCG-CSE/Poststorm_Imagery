{
 "cells": [
  {
   "source": [
    "import pandas as pd\n",
    "import jsonpickle\n",
    "import numpy as np\n",
    "import matplotlib.pyplot as plt\n",
    "import os, os.path\n",
    "import dateutil.parser\n",
    "from datetime import datetime\n",
    "import statistics"
   ],
   "cell_type": "code",
   "outputs": [],
   "metadata": {},
   "execution_count": 1
  },
  {
   "cell_type": "markdown",
   "execution_count": null,
   "metadata": {},
   "outputs": [],
   "source": [
    "Constants"
   ]
  },
  {
   "source": [
    "FILE_AS_ROOT = False\n",
    "SELF_PATH = os.getcwd()#os.path.dirname(os.path.abspath(__file__))\n",
    "PATH_TO_ROOT = os.path.join(SELF_PATH,'../../../../../../' if FILE_AS_ROOT else '')\n",
    "PATH_TO_WRITE_CSV = os.path.join(PATH_TO_ROOT,'../')\n",
    "PATH_TO_JSON_STATE = os.path.join(PATH_TO_ROOT,'../latest_state.json')"
   ],
   "cell_type": "code",
   "outputs": [],
   "metadata": {},
   "execution_count": 2
  },
  {
   "cell_type": "markdown",
   "execution_count": null,
   "metadata": {},
   "outputs": [],
   "source": [
    "Given path to a pickle state,will return pickle object"
   ]
  },
  {
   "source": [
    "def get_pickle(path_to_file):\n",
    "    with open(path_to_file, 'r') as f:\n",
    "        return jsonpickle.decode(f.read())"
   ],
   "cell_type": "code",
   "outputs": [],
   "metadata": {},
   "execution_count": 3
  },
  {
   "cell_type": "markdown",
   "execution_count": null,
   "metadata": {},
   "outputs": [],
   "source": [
    "Given a pickgle object will return how many incomplete, complete images have been tagged along with unix epoch time and date time stamp"
   ]
  },
  {
   "source": [
    "def how_many_tagged(pickle_file):\n",
    "    \n",
    "    done_tagging_count=len(pickle_file.finished_tagged_queue)\n",
    "    tagged_but_not_done_count=0\n",
    "    \n",
    "    for image in pickle_file.pending_images_queue:\n",
    "        if len(image.get_taggers()) > 0:\n",
    "            tagged_but_not_done_count+=1\n",
    "    return pd.DataFrame([{ \n",
    "        'not_done':tagged_but_not_done_count,\n",
    "        'done':done_tagging_count,\n",
    "        'skipped':len(pickle_file.max_skipped_queue),\n",
    "        'current':len(pickle_file.current_image),\n",
    "        'tagged_ratio': tagged_but_not_done_count/(tagged_but_not_done_count+done_tagging_count+len(pickle_file.max_skipped_queue)+len(pickle_file.current_image))\n",
    "     }])"
   ],
   "cell_type": "code",
   "outputs": [],
   "metadata": {},
   "execution_count": 4
  },
  {
   "source": [
    "pickle = get_pickle(PATH_TO_JSON_STATE)\n",
    "how_many_tagged(pickle).to_csv(os.path.join(PATH_TO_WRITE_CSV,'tag_status.csv'))\n",
    "how_many_tagged(pickle)"
   ],
   "cell_type": "code",
   "outputs": [
    {
     "output_type": "error",
     "ename": "FileNotFoundError",
     "evalue": "[Errno 2] No such file or directory: 'c:\\\\Users\\\\skool\\\\Documents\\\\GitHub\\\\Poststorm_Imagery\\\\../latest_state.json'",
     "traceback": [
      "\u001b[1;31m---------------------------------------------------------------------------\u001b[0m",
      "\u001b[1;31mFileNotFoundError\u001b[0m                         Traceback (most recent call last)",
      "\u001b[1;32m<ipython-input-5-37c0149eb773>\u001b[0m in \u001b[0;36m<module>\u001b[1;34m\u001b[0m\n\u001b[1;32m----> 1\u001b[1;33m \u001b[0mpickle\u001b[0m \u001b[1;33m=\u001b[0m \u001b[0mget_pickle\u001b[0m\u001b[1;33m(\u001b[0m\u001b[0mPATH_TO_JSON_STATE\u001b[0m\u001b[1;33m)\u001b[0m\u001b[1;33m\u001b[0m\u001b[1;33m\u001b[0m\u001b[0m\n\u001b[0m\u001b[0;32m      2\u001b[0m \u001b[0mhow_many_tagged\u001b[0m\u001b[1;33m(\u001b[0m\u001b[0mpickle\u001b[0m\u001b[1;33m)\u001b[0m\u001b[1;33m.\u001b[0m\u001b[0mto_csv\u001b[0m\u001b[1;33m(\u001b[0m\u001b[0mos\u001b[0m\u001b[1;33m.\u001b[0m\u001b[0mpath\u001b[0m\u001b[1;33m.\u001b[0m\u001b[0mjoin\u001b[0m\u001b[1;33m(\u001b[0m\u001b[0mPATH_TO_WRITE_CSV\u001b[0m\u001b[1;33m,\u001b[0m\u001b[1;34m'tag_status.csv'\u001b[0m\u001b[1;33m)\u001b[0m\u001b[1;33m)\u001b[0m\u001b[1;33m\u001b[0m\u001b[1;33m\u001b[0m\u001b[0m\n\u001b[0;32m      3\u001b[0m \u001b[0mhow_many_tagged\u001b[0m\u001b[1;33m(\u001b[0m\u001b[0mpickle\u001b[0m\u001b[1;33m)\u001b[0m\u001b[1;33m\u001b[0m\u001b[1;33m\u001b[0m\u001b[0m\n",
      "\u001b[1;32m<ipython-input-3-424d9d19993c>\u001b[0m in \u001b[0;36mget_pickle\u001b[1;34m(path_to_file)\u001b[0m\n\u001b[0;32m      1\u001b[0m \u001b[1;32mdef\u001b[0m \u001b[0mget_pickle\u001b[0m\u001b[1;33m(\u001b[0m\u001b[0mpath_to_file\u001b[0m\u001b[1;33m)\u001b[0m\u001b[1;33m:\u001b[0m\u001b[1;33m\u001b[0m\u001b[1;33m\u001b[0m\u001b[0m\n\u001b[1;32m----> 2\u001b[1;33m     \u001b[1;32mwith\u001b[0m \u001b[0mopen\u001b[0m\u001b[1;33m(\u001b[0m\u001b[0mpath_to_file\u001b[0m\u001b[1;33m,\u001b[0m \u001b[1;34m'r'\u001b[0m\u001b[1;33m)\u001b[0m \u001b[1;32mas\u001b[0m \u001b[0mf\u001b[0m\u001b[1;33m:\u001b[0m\u001b[1;33m\u001b[0m\u001b[1;33m\u001b[0m\u001b[0m\n\u001b[0m\u001b[0;32m      3\u001b[0m         \u001b[1;32mreturn\u001b[0m \u001b[0mjsonpickle\u001b[0m\u001b[1;33m.\u001b[0m\u001b[0mdecode\u001b[0m\u001b[1;33m(\u001b[0m\u001b[0mf\u001b[0m\u001b[1;33m.\u001b[0m\u001b[0mread\u001b[0m\u001b[1;33m(\u001b[0m\u001b[1;33m)\u001b[0m\u001b[1;33m)\u001b[0m\u001b[1;33m\u001b[0m\u001b[1;33m\u001b[0m\u001b[0m\n",
      "\u001b[1;31mFileNotFoundError\u001b[0m: [Errno 2] No such file or directory: 'c:\\\\Users\\\\skool\\\\Documents\\\\GitHub\\\\Poststorm_Imagery\\\\../latest_state.json'"
     ]
    }
   ],
   "metadata": {},
   "execution_count": 5
  },
  {
   "source": [
    "finished_images = pickle.finished_tagged_queue\n",
    "partical_tagged = pickle.pending_images_queue"
   ],
   "cell_type": "code",
   "outputs": [],
   "metadata": {},
   "execution_count": 0
  },
  {
   "source": [
    "def gen_df(images,history = True):\n",
    "    image_tag_df = pd.DataFrame(dtype = int)\n",
    "\n",
    "    for image in images:\n",
    "\n",
    "        tagger_list = list(image.get_taggers())\n",
    "        image_id = image.get_rel_path()\n",
    "\n",
    "        dict_row ={\n",
    "            'image_id':image_id\n",
    "            # 'tagging_start':image.stats_tagging_start,\n",
    "            # 'tagging_end':image.stats_tagging_stop,\n",
    "            # 'tagging_session_time':image.stats_tag_elapsed_session,\n",
    "            # 'tagging_assingment_time':image.stats_tag_elapsed_assigned\n",
    "        }\n",
    "        \n",
    "        # View all tags of an image, not final\n",
    "        if history:\n",
    "            for tagger in tagger_list:\n",
    "                # Get all the tags tagged by this tagger\n",
    "                list_of_tags = (image.get_tags(tagger))\n",
    "                \n",
    "                # Add those tags and the tagger ID to the dictionary that will be our row\n",
    "                dict_row.update(list_of_tags)\n",
    "                dict_row.update({\n",
    "                    'tagger':tagger,\n",
    "                    'tagging_start':image.stats_tagging_start[tagger],\n",
    "                    'tagging_end':image.stats_tagging_stop[tagger],\n",
    "                    'elapsed_session_time':image.stats_tag_elapsed_session[tagger],\n",
    "                    'total_assingment_time':image.stats_tag_elapsed_assigned[tagger]\n",
    "                })\n",
    "                \n",
    "                # Combine the dictionary row as a dataframe into the image tag dataframe\n",
    "                tag_row_df = pd.DataFrame([dict_row],dtype = int) \n",
    "                image_tag_df = pd.concat([image_tag_df,tag_row_df],sort=True , ignore_index = True)\n",
    "        else:\n",
    "            final_tags_df = image.final_tags \n",
    "            dict_row.update(final_tags_df)\n",
    "            \n",
    "            \n",
    "            starting_times = []\n",
    "            ending_times = []\n",
    "            assinged_times =[]\n",
    "            session_times =[]\n",
    "\n",
    "            for tagger in image.stats_tagging_start:\n",
    "                starting_times.append(image.stats_tagging_start[tagger])\n",
    "            \n",
    "            for tagger in image.stats_tagging_stop:\n",
    "                ending_times.append(image.stats_tagging_stop[tagger])\n",
    "            \n",
    "            for tagger in image.stats_tag_elapsed_assigned:\n",
    "                assinged_times.append(image.stats_tag_elapsed_assigned[tagger])\n",
    "            \n",
    "            for tagger in image.stats_tag_elapsed_session:\n",
    "                session_times.append(image.stats_tag_elapsed_session[tagger])\n",
    "\n",
    "            dict_row.update({\n",
    "                'time_start':min(starting_times),\n",
    "                'time_end':max(ending_times),\n",
    "                'time_assigned':min(assinged_times),\n",
    "                'time_elapsed':max(ending_times)-min(starting_times),\n",
    "                'session_avg_time':statistics.mean(session_times),\n",
    "                'session_max_time':max(session_times),\n",
    "                'session_min_time':min(session_times),\n",
    "                'session_median':statistics.median(session_times),\n",
    "                'session_stdev':statistics.stdev(session_times)\n",
    "            })\n",
    "\n",
    "            tag_row_df = pd.DataFrame([dict_row],dtype = int) \n",
    "\n",
    "            image_tag_df = pd.concat([image_tag_df,tag_row_df],sort=True, ignore_index = True)\n",
    "    return image_tag_df   "
   ],
   "cell_type": "code",
   "outputs": [],
   "metadata": {},
   "execution_count": 0
  },
  {
   "source": [
    "#with_history_tags = gen_df()\n",
    "final_tags =gen_df(finished_images,False)"
   ],
   "cell_type": "code",
   "outputs": [],
   "metadata": {},
   "execution_count": 0
  },
  {
   "source": [
    "final_tags.replace([False,True],[0,1], inplace=True)\n",
    "\n",
    "final_tags[['washover','impact','development','ocean','terrain_inland','terrain_marsh','terrain_river','terrain_sandy_coastline','terrain_undefined']] = final_tags[['washover','impact','development','ocean','terrain_inland','terrain_marsh','terrain_river','terrain_sandy_coastline','terrain_undefined']].fillna(0.0).astype(int)\n",
    "final_tags"
   ],
   "cell_type": "code",
   "outputs": [],
   "metadata": {},
   "execution_count": 0
  },
  {
   "source": [
    "def get_all_taggers(images):\n",
    "    taggers_df = pd.DataFrame()\n",
    "\n",
    "    for image in images:\n",
    "        taggers = list(image.get_taggers())\n",
    "        for tagger in taggers:\n",
    "            tagger_as_df = pd.DataFrame([tagger]) \n",
    "            taggers_df = pd.concat([taggers_df,tagger_as_df],sort=True , ignore_index = True)\n",
    "\n",
    "    return taggers_df\n",
    "all_taggers = get_all_taggers(finished_images)\n",
    "all_taggers.drop_duplicates(inplace = True)"
   ],
   "cell_type": "code",
   "outputs": [],
   "metadata": {},
   "execution_count": 0
  },
  {
   "cell_type": "code",
   "execution_count": null,
   "metadata": {},
   "outputs": [],
   "source": []
  }
 ],
 "metadata": {
  "kernelspec": {
   "display_name": "Python 3",
   "language": "python",
   "name": "python3"
  },
  "language_info": {
   "codemirror_mode": {
    "name": "ipython",
    "version": 3
   },
   "file_extension": ".py",
   "mimetype": "text/x-python",
   "name": "python",
   "nbconvert_exporter": "python",
   "pygments_lexer": "ipython3",
   "version": "3.6.8"
  }
 },
 "nbformat": 4,
 "nbformat_minor": 2
}