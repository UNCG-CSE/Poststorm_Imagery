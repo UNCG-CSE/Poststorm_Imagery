{
 "nbformat": 4,
 "nbformat_minor": 2,
 "metadata": {
  "language_info": {
   "name": "python",
   "codemirror_mode": {
    "name": "ipython",
    "version": 3
   },
   "version": "3.6.8"
  },
  "orig_nbformat": 2,
  "file_extension": ".py",
  "mimetype": "text/x-python",
  "name": "python",
  "npconvert_exporter": "python",
  "pygments_lexer": "ipython3",
  "version": 3
 },
 "cells": [
  {
   "cell_type": "code",
   "execution_count": 2,
   "metadata": {},
   "outputs": [],
   "source": [
    "import pandas as pd\n",
    "import jsonpickle\n",
    "import numpy as np\n",
    "import matplotlib.pyplot as plt\n",
    "import os, os.path\n",
    "import dateutil.parser\n",
    "from datetime import datetime\n",
    "import statistics"
   ]
  },
  {
   "cell_type": "markdown",
   "execution_count": null,
   "metadata": {},
   "outputs": [],
   "source": [
    "# Constants"
   ]
  },
  {
   "cell_type": "code",
   "execution_count": 3,
   "metadata": {},
   "outputs": [],
   "source": [
    "SELF_PATH = os.getcwd()\n",
    "DEFAULT_PATH_TO_JSON = os.path.join(SELF_PATH,'../tag_states.json')\n",
    "DEFAULT_PATH_TO_OUTPUT_CSV = os.path.join(SELF_PATH,'../tagging_data.csv')"
   ]
  },
  {
   "cell_type": "markdown",
   "execution_count": null,
   "metadata": {},
   "outputs": [],
   "source": [
    "# Depickle tag state json."
   ]
  },
  {
   "cell_type": "code",
   "execution_count": 4,
   "metadata": {},
   "outputs": [],
   "source": [
    "depickled = None\n",
    "with open(DEFAULT_PATH_TO_JSON, 'r') as f:\n",
    "    depickled = jsonpickle.decode(f.read())"
   ]
  },
  {
   "cell_type": "markdown",
   "execution_count": null,
   "metadata": {},
   "outputs": [],
   "source": [
    "# Quick information on the state of tagging"
   ]
  },
  {
   "cell_type": "code",
   "execution_count": 9,
   "metadata": {},
   "outputs": [
    {
     "data": {
      "text/html": "<div>\n<style scoped>\n    .dataframe tbody tr th:only-of-type {\n        vertical-align: middle;\n    }\n\n    .dataframe tbody tr th {\n        vertical-align: top;\n    }\n\n    .dataframe thead th {\n        text-align: right;\n    }\n</style>\n<table border=\"1\" class=\"dataframe\">\n  <thead>\n    <tr style=\"text-align: right;\">\n      <th></th>\n      <th>partial</th>\n      <th>done</th>\n      <th>skipped</th>\n      <th>current</th>\n      <th>tagged_ratio</th>\n    </tr>\n  </thead>\n  <tbody>\n    <tr>\n      <th>0</th>\n      <td>113</td>\n      <td>250</td>\n      <td>0</td>\n      <td>9</td>\n      <td>0.303763</td>\n    </tr>\n  </tbody>\n</table>\n</div>",
      "text/plain": "   partial  done  skipped  current  tagged_ratio\n0      113   250        0        9      0.303763"
     },
     "execution_count": 9,
     "metadata": {},
     "output_type": "execute_result"
    }
   ],
   "source": [
    "total_finished =len(depickled.finished_tagged_queue)\n",
    "total_incomplete_tagged=0\n",
    "    \n",
    "for image in depickled.pending_images_queue:\n",
    "    if len(image.get_taggers()) > 0:\n",
    "        total_incomplete_tagged+=1\n",
    "\n",
    "total_skipped = len(depickled.max_skipped_queue)\n",
    "total_currently_getting_tagged = len(depickled.current_image)\n",
    "\n",
    "# How many images have circulated.\n",
    "total_images_handled = total_incomplete_tagged + total_finished + total_skipped + total_currently_getting_tagged\n",
    "tagged_ratio = total_incomplete_tagged/total_images_handled\n",
    "\n",
    "df_basic_tag_data = pd.DataFrame([{ \n",
    "        'partial':total_incomplete_tagged,\n",
    "        'done':total_finished,\n",
    "        'skipped':total_skipped,\n",
    "        'current':total_currently_getting_tagged,\n",
    "        'tagged_ratio': tagged_ratio\n",
    "    }])\n",
    "\n",
    "df_basic_tag_data"
   ]
  },
  {
   "cell_type": "markdown",
   "execution_count": null,
   "metadata": {},
   "outputs": [],
   "source": [
    "# Generate CSV"
   ]
  },
  {
   "cell_type": "code",
   "execution_count": 10,
   "metadata": {},
   "outputs": [],
   "source": [
    "finished_images = depickled.finished_tagged_queue\n",
    "df_of_image_tags = pd.DataFrame(dtype = int)"
   ]
  },
  {
   "cell_type": "markdown",
   "execution_count": null,
   "metadata": {},
   "outputs": [],
   "source": [
    "For each image, get the list of taggers and place it as a list, and get the time data and the tags them self"
   ]
  },
  {
   "cell_type": "code",
   "execution_count": null,
   "metadata": {},
   "outputs": [],
   "source": [
    "for image in finished_images:\n",
    "\n",
    "    # This is the row we will populate and insert into the DF.\n",
    "    image_dict_to_insert ={\n",
    "        'image_id':image.get_rel_path().split(\"/\")[-1],\n",
    "        'list_of_taggers':list(image.get_taggers())\n",
    "    }\n",
    "\n",
    "    # First put in the tag data.\n",
    "    image_dict_to_insert.update(image.final_tags )\n",
    "    \n",
    "    # List of times,from which we will sort to get min,max,mean,median and what not.\n",
    "    starting_times = []\n",
    "    ending_times = []\n",
    "    assinged_times =[]\n",
    "    session_times =[]\n",
    "\n",
    "    # get the times and append to its respective list.\n",
    "    for tagger in image.stats_tagging_start:\n",
    "        starting_times.append(image.stats_tagging_start[tagger])\n",
    "    \n",
    "    for tagger in image.stats_tagging_stop:\n",
    "        ending_times.append(image.stats_tagging_stop[tagger])\n",
    "    \n",
    "    for tagger in image.stats_tag_elapsed_assigned:\n",
    "        assinged_times.append(image.stats_tag_elapsed_assigned[tagger])\n",
    "    \n",
    "    for tagger in image.stats_tag_elapsed_session:\n",
    "        session_times.append(image.stats_tag_elapsed_session[tagger])\n",
    "\n",
    "    # Put the time data in.\n",
    "    image_dict_to_insert.update({\n",
    "        'time_start':min(starting_times),\n",
    "        'time_end':max(ending_times),\n",
    "        'time_assigned':min(assinged_times),\n",
    "        'time_elapsed':max(ending_times)-min(starting_times),\n",
    "        'session_avg_time':statistics.mean(session_times),\n",
    "        'session_max_time':max(session_times),\n",
    "        'session_min_time':min(session_times),\n",
    "        'session_median':statistics.median(session_times),\n",
    "        'session_stdev':statistics.stdev(session_times)\n",
    "    })\n",
    "\n",
    "    # Convert our row dict into a df.\n",
    "    tag_row_df = pd.DataFrame([image_dict_to_insert],dtype = int) \n",
    "\n",
    "    # Then insert.\n",
    "    df_of_image_tags = pd.concat([df_of_image_tags,tag_row_df],sort=True, ignore_index = True)"
   ]
  },
  {
   "cell_type": "markdown",
   "execution_count": 11,
   "metadata": {},
   "outputs": [],
   "source": [
    "## Clean DF up"
   ]
  },
  {
   "cell_type": "code",
   "execution_count": 12,
   "metadata": {},
   "outputs": [
    {
     "ename": "KeyError",
     "evalue": "\"None of [Index(['washover', 'impact', 'development', 'ocean', 'terrain_inland',\\n       'terrain_marsh', 'terrain_river', 'terrain_sandy_coastline',\\n       'terrain_undefined'],\\n      dtype='object')] are in the [columns]\"",
     "output_type": "error",
     "traceback": [
      "\u001b[1;31m---------------------------------------------------------------------------\u001b[0m",
      "\u001b[1;31mKeyError\u001b[0m                                  Traceback (most recent call last)",
      "\u001b[1;32m<ipython-input-12-fad4130ccad2>\u001b[0m in \u001b[0;36m<module>\u001b[1;34m\u001b[0m\n\u001b[0;32m      9\u001b[0m     ]\n\u001b[0;32m     10\u001b[0m \u001b[1;31m# For these columns, replace NaN with 0's\u001b[0m\u001b[1;33m\u001b[0m\u001b[1;33m\u001b[0m\u001b[1;33m\u001b[0m\u001b[0m\n\u001b[1;32m---> 11\u001b[1;33m \u001b[0mdf_of_image_tags\u001b[0m\u001b[1;33m[\u001b[0m\u001b[0mcolumns_to_fill_na_wih_zero\u001b[0m\u001b[1;33m]\u001b[0m \u001b[1;33m=\u001b[0m \u001b[0mdf_of_image_tags\u001b[0m\u001b[1;33m[\u001b[0m\u001b[0mcolumns_to_fill_na_wih_zero\u001b[0m\u001b[1;33m]\u001b[0m\u001b[1;33m.\u001b[0m\u001b[0mfillna\u001b[0m\u001b[1;33m(\u001b[0m\u001b[1;36m0.0\u001b[0m\u001b[1;33m)\u001b[0m\u001b[1;33m.\u001b[0m\u001b[0mastype\u001b[0m\u001b[1;33m(\u001b[0m\u001b[0mint\u001b[0m\u001b[1;33m)\u001b[0m\u001b[1;33m\u001b[0m\u001b[1;33m\u001b[0m\u001b[0m\n\u001b[0m",
      "\u001b[1;32m~\\.virtualenvs\\Poststorm_Imagery-AfucPPEW\\lib\\site-packages\\pandas\\core\\frame.py\u001b[0m in \u001b[0;36m__getitem__\u001b[1;34m(self, key)\u001b[0m\n\u001b[0;32m   2999\u001b[0m             \u001b[1;32mif\u001b[0m \u001b[0mis_iterator\u001b[0m\u001b[1;33m(\u001b[0m\u001b[0mkey\u001b[0m\u001b[1;33m)\u001b[0m\u001b[1;33m:\u001b[0m\u001b[1;33m\u001b[0m\u001b[1;33m\u001b[0m\u001b[0m\n\u001b[0;32m   3000\u001b[0m                 \u001b[0mkey\u001b[0m \u001b[1;33m=\u001b[0m \u001b[0mlist\u001b[0m\u001b[1;33m(\u001b[0m\u001b[0mkey\u001b[0m\u001b[1;33m)\u001b[0m\u001b[1;33m\u001b[0m\u001b[1;33m\u001b[0m\u001b[0m\n\u001b[1;32m-> 3001\u001b[1;33m             \u001b[0mindexer\u001b[0m \u001b[1;33m=\u001b[0m \u001b[0mself\u001b[0m\u001b[1;33m.\u001b[0m\u001b[0mloc\u001b[0m\u001b[1;33m.\u001b[0m\u001b[0m_convert_to_indexer\u001b[0m\u001b[1;33m(\u001b[0m\u001b[0mkey\u001b[0m\u001b[1;33m,\u001b[0m \u001b[0maxis\u001b[0m\u001b[1;33m=\u001b[0m\u001b[1;36m1\u001b[0m\u001b[1;33m,\u001b[0m \u001b[0mraise_missing\u001b[0m\u001b[1;33m=\u001b[0m\u001b[1;32mTrue\u001b[0m\u001b[1;33m)\u001b[0m\u001b[1;33m\u001b[0m\u001b[1;33m\u001b[0m\u001b[0m\n\u001b[0m\u001b[0;32m   3002\u001b[0m \u001b[1;33m\u001b[0m\u001b[0m\n\u001b[0;32m   3003\u001b[0m         \u001b[1;31m# take() does not accept boolean indexers\u001b[0m\u001b[1;33m\u001b[0m\u001b[1;33m\u001b[0m\u001b[1;33m\u001b[0m\u001b[0m\n",
      "\u001b[1;32m~\\.virtualenvs\\Poststorm_Imagery-AfucPPEW\\lib\\site-packages\\pandas\\core\\indexing.py\u001b[0m in \u001b[0;36m_convert_to_indexer\u001b[1;34m(self, obj, axis, is_setter, raise_missing)\u001b[0m\n\u001b[0;32m   1283\u001b[0m                 \u001b[1;31m# When setting, missing keys are not allowed, even with .loc:\u001b[0m\u001b[1;33m\u001b[0m\u001b[1;33m\u001b[0m\u001b[1;33m\u001b[0m\u001b[0m\n\u001b[0;32m   1284\u001b[0m                 \u001b[0mkwargs\u001b[0m \u001b[1;33m=\u001b[0m \u001b[1;33m{\u001b[0m\u001b[1;34m\"raise_missing\"\u001b[0m\u001b[1;33m:\u001b[0m \u001b[1;32mTrue\u001b[0m \u001b[1;32mif\u001b[0m \u001b[0mis_setter\u001b[0m \u001b[1;32melse\u001b[0m \u001b[0mraise_missing\u001b[0m\u001b[1;33m}\u001b[0m\u001b[1;33m\u001b[0m\u001b[1;33m\u001b[0m\u001b[0m\n\u001b[1;32m-> 1285\u001b[1;33m                 \u001b[1;32mreturn\u001b[0m \u001b[0mself\u001b[0m\u001b[1;33m.\u001b[0m\u001b[0m_get_listlike_indexer\u001b[0m\u001b[1;33m(\u001b[0m\u001b[0mobj\u001b[0m\u001b[1;33m,\u001b[0m \u001b[0maxis\u001b[0m\u001b[1;33m,\u001b[0m \u001b[1;33m**\u001b[0m\u001b[0mkwargs\u001b[0m\u001b[1;33m)\u001b[0m\u001b[1;33m[\u001b[0m\u001b[1;36m1\u001b[0m\u001b[1;33m]\u001b[0m\u001b[1;33m\u001b[0m\u001b[1;33m\u001b[0m\u001b[0m\n\u001b[0m\u001b[0;32m   1286\u001b[0m         \u001b[1;32melse\u001b[0m\u001b[1;33m:\u001b[0m\u001b[1;33m\u001b[0m\u001b[1;33m\u001b[0m\u001b[0m\n\u001b[0;32m   1287\u001b[0m             \u001b[1;32mtry\u001b[0m\u001b[1;33m:\u001b[0m\u001b[1;33m\u001b[0m\u001b[1;33m\u001b[0m\u001b[0m\n",
      "\u001b[1;32m~\\.virtualenvs\\Poststorm_Imagery-AfucPPEW\\lib\\site-packages\\pandas\\core\\indexing.py\u001b[0m in \u001b[0;36m_get_listlike_indexer\u001b[1;34m(self, key, axis, raise_missing)\u001b[0m\n\u001b[0;32m   1090\u001b[0m \u001b[1;33m\u001b[0m\u001b[0m\n\u001b[0;32m   1091\u001b[0m         self._validate_read_indexer(\n\u001b[1;32m-> 1092\u001b[1;33m             \u001b[0mkeyarr\u001b[0m\u001b[1;33m,\u001b[0m \u001b[0mindexer\u001b[0m\u001b[1;33m,\u001b[0m \u001b[0mo\u001b[0m\u001b[1;33m.\u001b[0m\u001b[0m_get_axis_number\u001b[0m\u001b[1;33m(\u001b[0m\u001b[0maxis\u001b[0m\u001b[1;33m)\u001b[0m\u001b[1;33m,\u001b[0m \u001b[0mraise_missing\u001b[0m\u001b[1;33m=\u001b[0m\u001b[0mraise_missing\u001b[0m\u001b[1;33m\u001b[0m\u001b[1;33m\u001b[0m\u001b[0m\n\u001b[0m\u001b[0;32m   1093\u001b[0m         )\n\u001b[0;32m   1094\u001b[0m         \u001b[1;32mreturn\u001b[0m \u001b[0mkeyarr\u001b[0m\u001b[1;33m,\u001b[0m \u001b[0mindexer\u001b[0m\u001b[1;33m\u001b[0m\u001b[1;33m\u001b[0m\u001b[0m\n",
      "\u001b[1;32m~\\.virtualenvs\\Poststorm_Imagery-AfucPPEW\\lib\\site-packages\\pandas\\core\\indexing.py\u001b[0m in \u001b[0;36m_validate_read_indexer\u001b[1;34m(self, key, indexer, axis, raise_missing)\u001b[0m\n\u001b[0;32m   1175\u001b[0m                 raise KeyError(\n\u001b[0;32m   1176\u001b[0m                     \"None of [{key}] are in the [{axis}]\".format(\n\u001b[1;32m-> 1177\u001b[1;33m                         \u001b[0mkey\u001b[0m\u001b[1;33m=\u001b[0m\u001b[0mkey\u001b[0m\u001b[1;33m,\u001b[0m \u001b[0maxis\u001b[0m\u001b[1;33m=\u001b[0m\u001b[0mself\u001b[0m\u001b[1;33m.\u001b[0m\u001b[0mobj\u001b[0m\u001b[1;33m.\u001b[0m\u001b[0m_get_axis_name\u001b[0m\u001b[1;33m(\u001b[0m\u001b[0maxis\u001b[0m\u001b[1;33m)\u001b[0m\u001b[1;33m\u001b[0m\u001b[1;33m\u001b[0m\u001b[0m\n\u001b[0m\u001b[0;32m   1178\u001b[0m                     )\n\u001b[0;32m   1179\u001b[0m                 )\n",
      "\u001b[1;31mKeyError\u001b[0m: \"None of [Index(['washover', 'impact', 'development', 'ocean', 'terrain_inland',\\n       'terrain_marsh', 'terrain_river', 'terrain_sandy_coastline',\\n       'terrain_undefined'],\\n      dtype='object')] are in the [columns]\""
     ]
    }
   ],
   "source": [
    "df_of_image_tags.replace([False,True],[0,1], inplace=True)\n",
    "\n",
    "columns_to_fill_na_wih_zero = [\n",
    "        'washover',\n",
    "        'impact',\n",
    "        'development',\n",
    "        'ocean',\n",
    "        'terrain_inland','terrain_marsh','terrain_river','terrain_sandy_coastline','terrain_undefined'\n",
    "    ]\n",
    "# For these columns, replace NaN with 0's\n",
    "df_of_image_tags[columns_to_fill_na_wih_zero] = df_of_image_tags[columns_to_fill_na_wih_zero].fillna(0.0).astype(int)"
   ]
  },
  {
   "cell_type": "code",
   "execution_count": 13,
   "metadata": {},
   "outputs": [
    {
     "data": {
      "text/html": "<div>\n<style scoped>\n    .dataframe tbody tr th:only-of-type {\n        vertical-align: middle;\n    }\n\n    .dataframe tbody tr th {\n        vertical-align: top;\n    }\n\n    .dataframe thead th {\n        text-align: right;\n    }\n</style>\n<table border=\"1\" class=\"dataframe\">\n  <thead>\n    <tr style=\"text-align: right;\">\n      <th></th>\n    </tr>\n  </thead>\n  <tbody>\n  </tbody>\n</table>\n</div>",
      "text/plain": "Empty DataFrame\nColumns: []\nIndex: []"
     },
     "execution_count": 13,
     "metadata": {},
     "output_type": "execute_result"
    }
   ],
   "source": [
    "df_of_image_tags.head()"
   ]
  },
  {
   "cell_type": "code",
   "execution_count": 14,
   "metadata": {},
   "outputs": [],
   "source": [
    "df_of_image_tags.to_csv(DEFAULT_PATH_TO_OUTPUT_CSV)\n",
    "print(\"Done\")"
   ]
  },
  {
   "cell_type": "code",
   "execution_count": null,
   "metadata": {},
   "outputs": [],
   "source": []
  }
 ]
}