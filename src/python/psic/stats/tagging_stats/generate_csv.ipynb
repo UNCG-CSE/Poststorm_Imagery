{
 "nbformat": 4,
 "nbformat_minor": 2,
 "metadata": {
  "language_info": {
   "name": "python",
   "codemirror_mode": {
    "name": "ipython",
    "version": 3
   },
   "version": "3.6.8"
  },
  "orig_nbformat": 2,
  "file_extension": ".py",
  "mimetype": "text/x-python",
  "name": "python",
  "npconvert_exporter": "python",
  "pygments_lexer": "ipython3",
  "version": 3
 },
 "cells": [
  {
   "cell_type": "code",
   "execution_count": 1,
   "metadata": {},
   "outputs": [],
   "source": [
    "import pandas as pd\n",
    "import jsonpickle\n",
    "import numpy as np\n",
    "import matplotlib.pyplot as plt\n",
    "import os, os.path\n",
    "import dateutil.parser\n",
    "from datetime import datetime\n",
    "import statistics"
   ]
  },
  {
   "cell_type": "markdown",
   "execution_count": null,
   "metadata": {},
   "outputs": [],
   "source": [
    "# Constants"
   ]
  },
  {
   "cell_type": "code",
   "execution_count": 2,
   "metadata": {},
   "outputs": [],
   "source": [
    "SELF_PATH = os.getcwd()\n",
    "DEFAULT_PATH_TO_JSON = os.path.join(SELF_PATH,'../tag_states.json')\n",
    "DEFAULT_PATH_TO_OUTPUT_CSV = os.path.join(SELF_PATH,'../tagging_data.csv')"
   ]
  },
  {
   "cell_type": "markdown",
   "execution_count": null,
   "metadata": {},
   "outputs": [],
   "source": [
    "# Depickle tag state json."
   ]
  },
  {
   "cell_type": "code",
   "execution_count": 3,
   "metadata": {},
   "outputs": [],
   "source": [
    "depickled = None\n",
    "with open(DEFAULT_PATH_TO_JSON, 'r') as f:\n",
    "    depickled = jsonpickle.decode(f.read())"
   ]
  },
  {
   "cell_type": "markdown",
   "execution_count": null,
   "metadata": {},
   "outputs": [],
   "source": [
    "# Quick information on the state of tagging"
   ]
  },
  {
   "cell_type": "code",
   "execution_count": 4,
   "metadata": {},
   "outputs": [
    {
     "data": {
      "text/html": "<div>\n<style scoped>\n    .dataframe tbody tr th:only-of-type {\n        vertical-align: middle;\n    }\n\n    .dataframe tbody tr th {\n        vertical-align: top;\n    }\n\n    .dataframe thead th {\n        text-align: right;\n    }\n</style>\n<table border=\"1\" class=\"dataframe\">\n  <thead>\n    <tr style=\"text-align: right;\">\n      <th></th>\n      <th>partial</th>\n      <th>done</th>\n      <th>skipped</th>\n      <th>current</th>\n      <th>tagged_ratio</th>\n    </tr>\n  </thead>\n  <tbody>\n    <tr>\n      <th>0</th>\n      <td>113</td>\n      <td>250</td>\n      <td>0</td>\n      <td>9</td>\n      <td>0.303763</td>\n    </tr>\n  </tbody>\n</table>\n</div>",
      "text/plain": "   partial  done  skipped  current  tagged_ratio\n0      113   250        0        9      0.303763"
     },
     "execution_count": 4,
     "metadata": {},
     "output_type": "execute_result"
    }
   ],
   "source": [
    "total_finished =len(depickled.finished_tagged_queue)\n",
    "total_incomplete_tagged=0\n",
    "    \n",
    "for image in depickled.pending_images_queue:\n",
    "    if len(image.get_taggers()) > 0:\n",
    "        total_incomplete_tagged+=1\n",
    "\n",
    "total_skipped = len(depickled.max_skipped_queue)\n",
    "total_currently_getting_tagged = len(depickled.current_image)\n",
    "\n",
    "# How many images have circulated.\n",
    "total_images_handled = total_incomplete_tagged + total_finished + total_skipped + total_currently_getting_tagged\n",
    "tagged_ratio = total_incomplete_tagged/total_images_handled\n",
    "\n",
    "df_basic_tag_data = pd.DataFrame([{ \n",
    "        'partial':total_incomplete_tagged,\n",
    "        'done':total_finished,\n",
    "        'skipped':total_skipped,\n",
    "        'current':total_currently_getting_tagged,\n",
    "        'tagged_ratio': tagged_ratio\n",
    "    }])\n",
    "\n",
    "df_basic_tag_data"
   ]
  },
  {
   "cell_type": "markdown",
   "execution_count": null,
   "metadata": {},
   "outputs": [],
   "source": [
    "# Generate CSV"
   ]
  },
  {
   "cell_type": "code",
   "execution_count": 5,
   "metadata": {},
   "outputs": [],
   "source": [
    "finished_images = depickled.finished_tagged_queue\n",
    "df_of_image_tags = pd.DataFrame(dtype = int)"
   ]
  },
  {
   "cell_type": "markdown",
   "execution_count": null,
   "metadata": {},
   "outputs": [],
   "source": [
    "For each image, get the list of taggers and place it as a list, and get the time data and the tags them self"
   ]
  },
  {
   "cell_type": "code",
   "execution_count": 6,
   "metadata": {},
   "outputs": [],
   "source": [
    "for image in finished_images:\n",
    "\n",
    "    # This is the row we will populate and insert into the DF.\n",
    "    image_dict_to_insert ={\n",
    "        'image_id':image.get_rel_path().split(\"/\")[-1],\n",
    "        'list_of_taggers':list(image.get_taggers())\n",
    "    }\n",
    "\n",
    "    # First put in the tag data.\n",
    "    image_dict_to_insert.update(image.final_tags )\n",
    "    \n",
    "    # List of times,from which we will sort to get min,max,mean,median and what not.\n",
    "    starting_times = []\n",
    "    ending_times = []\n",
    "    assinged_times =[]\n",
    "    session_times =[]\n",
    "\n",
    "    # get the times and append to its respective list.\n",
    "    for tagger in image.stats_tagging_start:\n",
    "        starting_times.append(image.stats_tagging_start[tagger])\n",
    "    \n",
    "    for tagger in image.stats_tagging_stop:\n",
    "        ending_times.append(image.stats_tagging_stop[tagger])\n",
    "    \n",
    "    for tagger in image.stats_tag_elapsed_assigned:\n",
    "        assinged_times.append(image.stats_tag_elapsed_assigned[tagger])\n",
    "    \n",
    "    for tagger in image.stats_tag_elapsed_session:\n",
    "        session_times.append(image.stats_tag_elapsed_session[tagger])\n",
    "\n",
    "    # Put the time data in.\n",
    "    image_dict_to_insert.update({\n",
    "        'time_start':min(starting_times),\n",
    "        'time_end':max(ending_times),\n",
    "        'time_assigned':min(assinged_times),\n",
    "        'time_elapsed':max(ending_times)-min(starting_times),\n",
    "        'session_avg_time':statistics.mean(session_times),\n",
    "        'session_max_time':max(session_times),\n",
    "        'session_min_time':min(session_times),\n",
    "        'session_median':statistics.median(session_times),\n",
    "        'session_stdev':statistics.stdev(session_times)\n",
    "    })\n",
    "\n",
    "    # Convert our row dict into a df.\n",
    "    tag_row_df = pd.DataFrame([image_dict_to_insert],dtype = int) \n",
    "\n",
    "    # Then insert.\n",
    "    df_of_image_tags = pd.concat([df_of_image_tags,tag_row_df],sort=True, ignore_index = True)"
   ]
  },
  {
   "cell_type": "markdown",
   "execution_count": 11,
   "metadata": {},
   "outputs": [],
   "source": [
    "## Clean DF up"
   ]
  },
  {
   "cell_type": "code",
   "execution_count": 7,
   "metadata": {},
   "outputs": [],
   "source": [
    "df_of_image_tags.replace([False,True],[0,1], inplace=True)\n",
    "\n",
    "columns_to_fill_na_wih_zero = [\n",
    "        'washover',\n",
    "        'impact',\n",
    "        'development',\n",
    "        'ocean',\n",
    "        'terrain_inland','terrain_marsh','terrain_river','terrain_sandy_coastline','terrain_undefined'\n",
    "    ]\n",
    "# For these columns, replace NaN with 0's\n",
    "df_of_image_tags[columns_to_fill_na_wih_zero] = df_of_image_tags[columns_to_fill_na_wih_zero].fillna(0.0).astype(int)"
   ]
  },
  {
   "cell_type": "code",
   "execution_count": 8,
   "metadata": {},
   "outputs": [
    {
     "data": {
      "text/html": "<div>\n<style scoped>\n    .dataframe tbody tr th:only-of-type {\n        vertical-align: middle;\n    }\n\n    .dataframe tbody tr th {\n        vertical-align: top;\n    }\n\n    .dataframe thead th {\n        text-align: right;\n    }\n</style>\n<table border=\"1\" class=\"dataframe\">\n  <thead>\n    <tr style=\"text-align: right;\">\n      <th></th>\n      <th>development</th>\n      <th>image_id</th>\n      <th>impact</th>\n      <th>list_of_taggers</th>\n      <th>ocean</th>\n      <th>session_avg_time</th>\n      <th>session_max_time</th>\n      <th>session_median</th>\n      <th>session_min_time</th>\n      <th>session_stdev</th>\n      <th>terrain_inland</th>\n      <th>terrain_marsh</th>\n      <th>terrain_river</th>\n      <th>terrain_sandy_coastline</th>\n      <th>terrain_undefined</th>\n      <th>time_assigned</th>\n      <th>time_elapsed</th>\n      <th>time_end</th>\n      <th>time_start</th>\n      <th>washover</th>\n    </tr>\n  </thead>\n  <tbody>\n    <tr>\n      <th>0</th>\n      <td>0</td>\n      <td>S26047238.jpg</td>\n      <td>0</td>\n      <td>[google-oauth2|112971301179841927329, google-o...</td>\n      <td>0</td>\n      <td>12.3475</td>\n      <td>16.509</td>\n      <td>12.3475</td>\n      <td>8.186</td>\n      <td>5.885250</td>\n      <td>0</td>\n      <td>0</td>\n      <td>0</td>\n      <td>0</td>\n      <td>1</td>\n      <td>20.314602</td>\n      <td>75139.687900</td>\n      <td>1.573503e+09</td>\n      <td>1.573428e+09</td>\n      <td>0</td>\n    </tr>\n    <tr>\n      <th>1</th>\n      <td>1</td>\n      <td>P26057146.jpg</td>\n      <td>2</td>\n      <td>[google-oauth2|112971301179841927329, google-o...</td>\n      <td>0</td>\n      <td>37.6255</td>\n      <td>47.805</td>\n      <td>37.6255</td>\n      <td>27.446</td>\n      <td>14.395987</td>\n      <td>0</td>\n      <td>0</td>\n      <td>0</td>\n      <td>1</td>\n      <td>0</td>\n      <td>31.980647</td>\n      <td>75222.597478</td>\n      <td>1.573503e+09</td>\n      <td>1.573428e+09</td>\n      <td>0</td>\n    </tr>\n    <tr>\n      <th>2</th>\n      <td>1</td>\n      <td>P26054308.jpg</td>\n      <td>2</td>\n      <td>[google-oauth2|112971301179841927329, google-o...</td>\n      <td>0</td>\n      <td>27.1460</td>\n      <td>39.721</td>\n      <td>27.1460</td>\n      <td>14.571</td>\n      <td>17.783736</td>\n      <td>0</td>\n      <td>0</td>\n      <td>0</td>\n      <td>1</td>\n      <td>0</td>\n      <td>17.932065</td>\n      <td>75285.077463</td>\n      <td>1.573503e+09</td>\n      <td>1.573428e+09</td>\n      <td>0</td>\n    </tr>\n    <tr>\n      <th>3</th>\n      <td>1</td>\n      <td>P26050957.jpg</td>\n      <td>0</td>\n      <td>[google-oauth2|112971301179841927329, google-o...</td>\n      <td>0</td>\n      <td>12.9825</td>\n      <td>20.097</td>\n      <td>12.9825</td>\n      <td>5.868</td>\n      <td>10.061422</td>\n      <td>0</td>\n      <td>0</td>\n      <td>0</td>\n      <td>0</td>\n      <td>1</td>\n      <td>11.001374</td>\n      <td>75319.602875</td>\n      <td>1.573504e+09</td>\n      <td>1.573428e+09</td>\n      <td>0</td>\n    </tr>\n    <tr>\n      <th>4</th>\n      <td>0</td>\n      <td>P26057962.jpg</td>\n      <td>3</td>\n      <td>[google-oauth2|112971301179841927329, google-o...</td>\n      <td>0</td>\n      <td>32.9140</td>\n      <td>60.004</td>\n      <td>32.9140</td>\n      <td>5.824</td>\n      <td>38.311045</td>\n      <td>0</td>\n      <td>0</td>\n      <td>0</td>\n      <td>1</td>\n      <td>0</td>\n      <td>10.357999</td>\n      <td>75393.615183</td>\n      <td>1.573504e+09</td>\n      <td>1.573428e+09</td>\n      <td>1</td>\n    </tr>\n  </tbody>\n</table>\n</div>",
      "text/plain": "   development       image_id  impact  \\\n0            0  S26047238.jpg       0   \n1            1  P26057146.jpg       2   \n2            1  P26054308.jpg       2   \n3            1  P26050957.jpg       0   \n4            0  P26057962.jpg       3   \n\n                                     list_of_taggers  ocean  session_avg_time  \\\n0  [google-oauth2|112971301179841927329, google-o...      0           12.3475   \n1  [google-oauth2|112971301179841927329, google-o...      0           37.6255   \n2  [google-oauth2|112971301179841927329, google-o...      0           27.1460   \n3  [google-oauth2|112971301179841927329, google-o...      0           12.9825   \n4  [google-oauth2|112971301179841927329, google-o...      0           32.9140   \n\n   session_max_time  session_median  session_min_time  session_stdev  \\\n0            16.509         12.3475             8.186       5.885250   \n1            47.805         37.6255            27.446      14.395987   \n2            39.721         27.1460            14.571      17.783736   \n3            20.097         12.9825             5.868      10.061422   \n4            60.004         32.9140             5.824      38.311045   \n\n   terrain_inland  terrain_marsh  terrain_river  terrain_sandy_coastline  \\\n0               0              0              0                        0   \n1               0              0              0                        1   \n2               0              0              0                        1   \n3               0              0              0                        0   \n4               0              0              0                        1   \n\n   terrain_undefined  time_assigned  time_elapsed      time_end    time_start  \\\n0                  1      20.314602  75139.687900  1.573503e+09  1.573428e+09   \n1                  0      31.980647  75222.597478  1.573503e+09  1.573428e+09   \n2                  0      17.932065  75285.077463  1.573503e+09  1.573428e+09   \n3                  1      11.001374  75319.602875  1.573504e+09  1.573428e+09   \n4                  0      10.357999  75393.615183  1.573504e+09  1.573428e+09   \n\n   washover  \n0         0  \n1         0  \n2         0  \n3         0  \n4         1  "
     },
     "execution_count": 8,
     "metadata": {},
     "output_type": "execute_result"
    }
   ],
   "source": [
    "df_of_image_tags.head()"
   ]
  },
  {
   "cell_type": "code",
   "execution_count": 9,
   "metadata": {},
   "outputs": [
    {
     "name": "stdout",
     "output_type": "stream",
     "text": "Done\n"
    }
   ],
   "source": [
    "df_of_image_tags.to_csv(DEFAULT_PATH_TO_OUTPUT_CSV)\n",
    "print(\"Done\")"
   ]
  },
  {
   "cell_type": "code",
   "execution_count": null,
   "metadata": {},
   "outputs": [],
   "source": []
  }
 ]
}