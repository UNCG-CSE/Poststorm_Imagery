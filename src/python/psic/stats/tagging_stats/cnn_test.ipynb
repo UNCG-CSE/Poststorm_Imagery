{
 "cells": [
  {
   "cell_type": "code",
   "execution_count": 85,
   "metadata": {},
   "outputs": [],
   "source": [
    "import os\n",
    "import time\n",
    "import shutil\n",
    "\n",
    "import pandas as pd\n",
    "import numpy as np\n",
    "\n",
    "from sklearn.model_selection import train_test_split\n",
    "from sklearn.preprocessing import MinMaxScaler\n",
    "\n",
    "import tensorflow.keras\n",
    "from tensorflow.keras import backend as K\n",
    "from tensorflow.keras.layers import Activation\n",
    "from tensorflow.keras.optimizers import Adam\n",
    "from tensorflow.keras.metrics import categorical_crossentropy\n",
    "from tensorflow.keras.preprocessing.image import ImageDataGenerator, array_to_img, img_to_array, load_img\n",
    "from tensorflow.keras.models import Sequential\n",
    "from tensorflow.keras.layers import Conv2D, MaxPooling2D\n",
    "from tensorflow.keras.layers import Activation, Dropout, Flatten, Dense"
   ]
  },
  {
   "cell_type": "markdown",
   "execution_count": null,
   "metadata": {},
   "outputs": [],
   "source": [
    "Constants"
   ]
  },
  {
   "cell_type": "code",
   "execution_count": 72,
   "metadata": {},
   "outputs": [],
   "source": [
    "SELF_PATH = os.getcwd()\n",
    "PATH_TO_FILE_STREAM = 'G:\\\\Shared drives\\\\P-Sick'\n",
    "PATH_TO_IMAGES = os.path.join(PATH_TO_FILE_STREAM, 'small\\\\Florence\\\\20180917a_jpgs\\\\jpgs')\n",
    "PATH_TO_TAG_CSV = os.path.join(SELF_PATH, '../tagging_data.csv')\n",
    "TEST_TO_TRAIN_RATIO = 0.3\n",
    "TRAINING_IMAGE_FOLDER = \"../_training_images\"\n",
    "TESTING_IMAGE_FOLDER = \"../_testing_images\""
   ]
  },
  {
   "cell_type": "markdown",
   "execution_count": null,
   "metadata": {},
   "outputs": [],
   "source": [
    "These are a list of the ids for impact\n",
    "```\n",
    "NoneId:0  \n",
    "SwashId:1  \n",
    "CollisionId:2  \n",
    "OverwashId:3  \n",
    "InundationId:4\n",
    "```"
   ]
  },
  {
   "cell_type": "markdown",
   "execution_count": null,
   "metadata": {},
   "outputs": [],
   "source": [
    "# Getting the images\n",
    "\n",
    "1. We need to load the data from the csv\n",
    "2. Split the images up into training and test set, and then place them in seperate folders."
   ]
  },
  {
   "cell_type": "markdown",
   "execution_count": null,
   "metadata": {},
   "outputs": [],
   "source": [
    "First lets load the csv that has all the completely tagged image tags."
   ]
  },
  {
   "cell_type": "code",
   "execution_count": 73,
   "metadata": {},
   "outputs": [],
   "source": [
    "df_image_tags = pd.read_csv(PATH_TO_TAG_CSV)\n",
    "df_impact_images = df_image_tags[['image_id','impact']]"
   ]
  },
  {
   "cell_type": "code",
   "execution_count": 86,
   "metadata": {},
   "outputs": [],
   "source": [
    "df_training_images, df_testing_images = train_test_split(df_impact_images, test_size=TEST_TO_TRAIN_RATIO, random_state=420)"
   ]
  },
  {
   "cell_type": "markdown",
   "execution_count": null,
   "metadata": {},
   "outputs": [],
   "source": [
    "Before we copy the images, remove all files within these folders"
   ]
  },
  {
   "cell_type": "code",
   "execution_count": 75,
   "metadata": {},
   "outputs": [],
   "source": [
    "for file in os.listdir(TRAINING_IMAGE_FOLDER):\n",
    "    os.remove(os.path.join(TRAINING_IMAGE_FOLDER,file)) \n",
    "\n",
    "for file in os.listdir(TESTING_IMAGE_FOLDER):\n",
    "    os.remove(os.path.join(TESTING_IMAGE_FOLDER,file)) "
   ]
  },
  {
   "cell_type": "markdown",
   "execution_count": null,
   "metadata": {},
   "outputs": [],
   "source": [
    "Copy our training and test images into their respective folders, while keeping metadata with copy2"
   ]
  },
  {
   "cell_type": "code",
   "execution_count": 76,
   "metadata": {},
   "outputs": [
    {
     "name": "stdout",
     "output_type": "stream",
     "text": "Moved training and test images to their respective folders\n"
    }
   ],
   "source": [
    "for image in df_testing_images['image_id']:\n",
    "    shutil.copy2(os.path.join(PATH_TO_IMAGES,image),  os.path.join(TRAINING_IMAGE_FOLDER,image))\n",
    "\n",
    "for image in df_testing_images['image_id']:\n",
    "    shutil.copy2(os.path.join(PATH_TO_IMAGES,image),  os.path.join(TESTING_IMAGE_FOLDER,image))\n",
    "\n",
    "print(\"Moved training and test images to their respective folders\")"
   ]
  },
  {
   "cell_type": "markdown",
   "execution_count": null,
   "metadata": {},
   "outputs": [],
   "source": [
    "# Preprocessing the images\n",
    "\n",
    "1. Seperate the `image_id` and the `impact` into different np arrays for Keras"
   ]
  },
  {
   "cell_type": "code",
   "execution_count": 77,
   "metadata": {},
   "outputs": [],
   "source": [
    "image_samples = df_impact_images['image_id'].to_numpy()\n",
    "image_labels = df_impact_images['impact'].to_numpy()"
   ]
  },
  {
   "cell_type": "code",
   "execution_count": null,
   "metadata": {},
   "outputs": [],
   "source": [
    "model = Sequential([\n",
    "    Dense(16,input_shape = ())\n",
    "])"
   ]
  }
 ],
 "metadata": {
  "kernelspec": {
   "display_name": "Python 3",
   "language": "python",
   "name": "python3"
  },
  "language_info": {
   "codemirror_mode": {
    "name": "ipython",
    "version": 3
   },
   "file_extension": ".py",
   "mimetype": "text/x-python",
   "name": "python",
   "nbconvert_exporter": "python",
   "pygments_lexer": "ipython3",
   "version": "3.6.8"
  }
 },
 "nbformat": 4,
 "nbformat_minor": 2
}