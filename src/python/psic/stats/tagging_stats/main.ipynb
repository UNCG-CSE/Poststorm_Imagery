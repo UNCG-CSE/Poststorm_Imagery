{
 "cells": [
  {
   "cell_type": "markdown",
   "metadata": {},
   "source": [
    "# Doing stats on the tagged data from the dashboard\n",
    "\n",
    "This script written by **Shah Nafis Rafique** will attempt to find out any meaningful information from the tagged data that is made from the dashboard"
   ]
  },
  {
   "cell_type": "markdown",
   "metadata": {},
   "source": [
    "Import the imports"
   ]
  },
  {
   "cell_type": "code",
   "execution_count": 1,
   "metadata": {},
   "outputs": [],
   "source": [
    "import pandas as pd\n",
    "import numpy as np\n",
    "import json"
   ]
  },
  {
   "cell_type": "markdown",
   "execution_count": null,
   "metadata": {},
   "outputs": [],
   "source": [
    "First I define some constants for my script"
   ]
  },
  {
   "cell_type": "code",
   "execution_count": 11,
   "metadata": {},
   "outputs": [],
   "source": [
    "JSON_FILE_TO_IMPORT = \"../../../../../../tagging_data_personal.json\" #\"test.json\""
   ]
  },
  {
   "cell_type": "markdown",
   "execution_count": null,
   "metadata": {},
   "outputs": [],
   "source": [
    "Import the `tagging_data_personal.json` file"
   ]
  },
  {
   "cell_type": "code",
   "execution_count": 34,
   "metadata": {},
   "outputs": [
    {
     "name": "stdout",
     "output_type": "stream",
     "text": "Keys of the JSON are ['catalog_path', 'current_image', 'debug', 'finished_tagged_queue', 'last_backup_timestamp', 'max_skipped_queue', 'pending_images_queue', 'py/object', 'scope_path', 'small_path']\nType of: <class 'dict'>\n"
    }
   ],
   "source": [
    "data = json.load(open(JSON_FILE_TO_IMPORT))\n",
    "print(f\"Keys of the JSON are {list(data.keys())}\")\n",
    "print(f\"Type of: {type(data)}\")\n",
    "# pd.io.json.json_normalize(data['pending_images_queue'])"
   ]
  },
  {
   "cell_type": "markdown",
   "execution_count": null,
   "metadata": {},
   "outputs": [],
   "source": [
    "Take that dictionary and make it a pandas DataFrame"
   ]
  }
 ],
 "metadata": {
  "kernelspec": {
   "display_name": "Python 3",
   "language": "python",
   "name": "python3"
  },
  "language_info": {
   "codemirror_mode": {
    "name": "ipython",
    "version": 3
   },
   "file_extension": ".py",
   "mimetype": "text/x-python",
   "name": "python",
   "nbconvert_exporter": "python",
   "pygments_lexer": "ipython3",
   "version": "3.7.4"
  }
 },
 "nbformat": 4,
 "nbformat_minor": 2
}