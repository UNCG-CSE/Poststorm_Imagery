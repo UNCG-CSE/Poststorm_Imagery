{
 "cells": [
  {
   "cell_type": "markdown",
   "metadata": {},
   "source": [
    "# Doing stats on the tagged data from the dashboard\n",
    "\n",
    "This script written by **Shah Nafis Rafique** will attempt to find out any meaningful information from the tagged data that is made from the dashboard"
   ]
  },
  {
   "cell_type": "markdown",
   "metadata": {},
   "source": [
    "Import the imports"
   ]
  },
  {
   "cell_type": "code",
   "execution_count": 1,
   "metadata": {},
   "outputs": [],
   "source": [
    "import pandas as pd\n",
    "import jsonpickle\n",
    "import numpy as np\n",
    "import matplotlib.pyplot as plt\n",
    "import os, os.path\n",
    "import dateutil.parser"
   ]
  },
  {
   "cell_type": "code",
   "execution_count": 2,
   "metadata": {},
   "outputs": [],
   "source": [
    "FILE_AS_ROOT = True\n",
    "FILE_TO_ROOT = '../../../../../../'\n",
    "JSON_FILE_TO_IMPORT = f\"{ FILE_TO_ROOT if FILE_AS_ROOT else '../'}tagging_data_personal.json\" \n",
    "SCRIPT_PATH = \"./src/python/psic/stats/tagging_stats\"\n",
    "FILE_TO_TAG_RATIO = f\"{'./' if FILE_AS_ROOT else './src/python/psic/stats/tagging_stats'}tag_ratio.csv\"\n",
    "TAGGING_STATES_FOLDER = f\"{ FILE_TO_ROOT if FILE_AS_ROOT else '../'}tagging_json_states\""
   ]
  },
  {
   "cell_type": "markdown",
   "metadata": {},
   "source": [
    "Used to get a pickgle at a specified path."
   ]
  },
  {
   "cell_type": "code",
   "execution_count": 3,
   "metadata": {},
   "outputs": [],
   "source": [
    "def get_pickle(path_to_file):\n",
    "    with open(JSON_FILE_TO_IMPORT, 'r') as f:\n",
    "        return jsonpickle.decode(f.read())"
   ]
  },
  {
   "cell_type": "markdown",
   "metadata": {},
   "source": [
    "Function to display some information about the json pickle file."
   ]
  },
  {
   "cell_type": "code",
   "execution_count": 4,
   "metadata": {},
   "outputs": [],
   "source": [
    "def how_many_tagged(pickle_file,time):\n",
    "    done_tagging_count=len(pickle_file.finished_tagged_queue)\n",
    "\n",
    "    tagged_but_not_done_count=0\n",
    "    for image in pickle_file.pending_images_queue:\n",
    "        if len(image.get_taggers()) > 0:\n",
    "            tagged_but_not_done_count-=-1\n",
    "\n",
    "#     print(f\"{tagged_but_not_done_count} images have been tagged, but not completely\")\n",
    "#     print(f\"{done_tagging_count} images have been tagged completely\")\n",
    "#     print(f\"{tagged_but_not_done_count+done_tagging_count} images have been tagged, completely or not\")\n",
    "    \n",
    "    return pd.DataFrame([{ \n",
    "        'not_done':tagged_but_not_done_count,\n",
    "        'done':done_tagging_count,\n",
    "        'time':time\n",
    "     }])"
   ]
  },
  {
   "cell_type": "code",
   "execution_count": 5,
   "metadata": {},
   "outputs": [],
   "source": [
    "def add_tag_ratio(df):\n",
    "    df['completed_tag_ratio']=df[['not_done']].iloc[:,0].divide(df[['not_done','done']].sum(axis=1))\n",
    "    return df"
   ]
  },
  {
   "cell_type": "markdown",
   "metadata": {},
   "source": [
    "Get the json pickle"
   ]
  },
  {
   "cell_type": "code",
   "execution_count": 6,
   "metadata": {},
   "outputs": [],
   "source": [
    "data = get_pickle(JSON_FILE_TO_IMPORT)"
   ]
  },
  {
   "cell_type": "markdown",
   "metadata": {},
   "source": [
    "View the tagged ratio log"
   ]
  },
  {
   "cell_type": "code",
   "execution_count": 7,
   "metadata": {},
   "outputs": [
    {
     "data": {
      "text/html": [
       "<div>\n",
       "<style scoped>\n",
       "    .dataframe tbody tr th:only-of-type {\n",
       "        vertical-align: middle;\n",
       "    }\n",
       "\n",
       "    .dataframe tbody tr th {\n",
       "        vertical-align: top;\n",
       "    }\n",
       "\n",
       "    .dataframe thead th {\n",
       "        text-align: right;\n",
       "    }\n",
       "</style>\n",
       "<table border=\"1\" class=\"dataframe\">\n",
       "  <thead>\n",
       "    <tr style=\"text-align: right;\">\n",
       "      <th></th>\n",
       "      <th>not_done</th>\n",
       "      <th>done</th>\n",
       "      <th>time</th>\n",
       "    </tr>\n",
       "  </thead>\n",
       "  <tbody>\n",
       "    <tr>\n",
       "      <th>0</th>\n",
       "      <td>73</td>\n",
       "      <td>184</td>\n",
       "      <td>1573667040</td>\n",
       "    </tr>\n",
       "    <tr>\n",
       "      <th>1</th>\n",
       "      <td>117</td>\n",
       "      <td>248</td>\n",
       "      <td>1573965434</td>\n",
       "    </tr>\n",
       "  </tbody>\n",
       "</table>\n",
       "</div>"
      ],
      "text/plain": [
       "   not_done  done        time\n",
       "0        73   184  1573667040\n",
       "1       117   248  1573965434"
      ]
     },
     "execution_count": 7,
     "metadata": {},
     "output_type": "execute_result"
    }
   ],
   "source": [
    "tag_ratio_data = pd.read_csv(FILE_TO_TAG_RATIO)\n",
    "tag_ratio_data = tag_ratio_data.sort_values(by=\"time\")\n",
    "tag_ratio_data.head()"
   ]
  },
  {
   "cell_type": "markdown",
   "metadata": {},
   "source": [
    "Add a column to show not completed vs total tagged images"
   ]
  },
  {
   "cell_type": "code",
   "execution_count": 8,
   "metadata": {},
   "outputs": [
    {
     "data": {
      "text/html": [
       "<div>\n",
       "<style scoped>\n",
       "    .dataframe tbody tr th:only-of-type {\n",
       "        vertical-align: middle;\n",
       "    }\n",
       "\n",
       "    .dataframe tbody tr th {\n",
       "        vertical-align: top;\n",
       "    }\n",
       "\n",
       "    .dataframe thead th {\n",
       "        text-align: right;\n",
       "    }\n",
       "</style>\n",
       "<table border=\"1\" class=\"dataframe\">\n",
       "  <thead>\n",
       "    <tr style=\"text-align: right;\">\n",
       "      <th></th>\n",
       "      <th>not_done</th>\n",
       "      <th>done</th>\n",
       "      <th>time</th>\n",
       "    </tr>\n",
       "  </thead>\n",
       "  <tbody>\n",
       "    <tr>\n",
       "      <th>0</th>\n",
       "      <td>73</td>\n",
       "      <td>184</td>\n",
       "      <td>1573667040</td>\n",
       "    </tr>\n",
       "    <tr>\n",
       "      <th>1</th>\n",
       "      <td>117</td>\n",
       "      <td>248</td>\n",
       "      <td>1573965434</td>\n",
       "    </tr>\n",
       "  </tbody>\n",
       "</table>\n",
       "</div>"
      ],
      "text/plain": [
       "   not_done  done        time\n",
       "0        73   184  1573667040\n",
       "1       117   248  1573965434"
      ]
     },
     "execution_count": 8,
     "metadata": {},
     "output_type": "execute_result"
    }
   ],
   "source": [
    "\n",
    "tag_ratio_data.head()"
   ]
  },
  {
   "cell_type": "code",
   "execution_count": 9,
   "metadata": {},
   "outputs": [],
   "source": [
    "# tag_ratio_data[['completed_tag_ratio']].plot.line()"
   ]
  },
  {
   "cell_type": "code",
   "execution_count": 10,
   "metadata": {},
   "outputs": [],
   "source": [
    "TOTAL_JSON_STATES = (len([name for name in os.listdir(TAGGING_STATES_FOLDER) if os.path.isfile(os.path.join(TAGGING_STATES_FOLDER, name))]))"
   ]
  },
  {
   "cell_type": "code",
   "execution_count": 11,
   "metadata": {},
   "outputs": [],
   "source": [
    "path = os.getcwd()\n",
    "files = os.listdir(\"/home/namenai/Documents/GitKraken/tagging_json_states\")\n",
    "files_json = [f for f in files if f[-4:] == 'json']\n",
    "files_json.sort()\n",
    "# files_json = sorted(files_json)"
   ]
  },
  {
   "cell_type": "code",
   "execution_count": 15,
   "metadata": {},
   "outputs": [
    {
     "data": {
      "text/plain": [
       "<matplotlib.axes._subplots.AxesSubplot at 0x7f4a18585f60>"
      ]
     },
     "execution_count": 15,
     "metadata": {},
     "output_type": "execute_result"
    },
    {
     "data": {
      "image/png": "[encoded data removed]",
      "text/plain": [
       "<Figure size 432x288 with 1 Axes>"
      ]
     },
     "metadata": {
      "needs_background": "light"
     },
     "output_type": "display_data"
    }
   ],
   "source": [
    "lst = list(range(TOTAL_JSON_STATES))\n",
    "total_tag_ratio_df=pd.DataFrame()\n",
    "\n",
    "for file in files_json[-4:]:\n",
    "    remove_name = file.split('assigner_state-root-')[-1]\n",
    "    date_string = remove_name.split('.json')[0]\n",
    "    time = dateutil.parser.parse(date_string).strftime('%s')\n",
    "    \n",
    "    tagged_info = how_many_tagged(get_pickle(file),time)\n",
    "    tagged_info = add_tag_ratio(tagged_info)\n",
    "    total_tag_ratio_df = total_tag_ratio_df.append(tagged_info,ignore_index=True)\n",
    "    \n",
    "total_tag_ratio_df['completed_tag_ratio'].plot.line()"
   ]
  },
  {
   "cell_type": "code",
   "execution_count": null,
   "metadata": {},
   "outputs": [],
   "source": []
  },
  {
   "cell_type": "code",
   "execution_count": null,
   "metadata": {},
   "outputs": [],
   "source": []
  }
 ],
 "metadata": {
  "kernelspec": {
   "display_name": "Python 3",
   "language": "python",
   "name": "python3"
  },
  "language_info": {
   "codemirror_mode": {
    "name": "ipython",
    "version": 3
   },
   "file_extension": ".py",
   "mimetype": "text/x-python",
   "name": "python",
   "nbconvert_exporter": "python",
   "pygments_lexer": "ipython3",
   "version": "3.7.3"
  }
 },
 "nbformat": 4,
 "nbformat_minor": 2
}
