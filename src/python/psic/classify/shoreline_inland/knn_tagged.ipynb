{
 "cells": [
  {
   "cell_type": "code",
   "execution_count": 49,
   "metadata": {},
   "outputs": [],
   "source": [
    "import pandas as pd\n",
    "import csv\n",
    "import matplotlib.image as plt_img\n",
    "import matplotlib.pyplot as plt\n",
    "import matplotlib.patches as mpatches\n",
    "import numpy as np\n",
    "from sklearn.model_selection import train_test_split\n",
    "from sklearn.neighbors import KNeighborsClassifier\n",
    "from sklearn.metrics import confusion_matrix\n",
    "import seaborn\n"
   ]
  },
  {
   "cell_type": "code",
   "execution_count": 20,
   "metadata": {},
   "outputs": [],
   "source": [
    "tagged = pd.read_csv('tagged_data.csv')\n",
    "\n"
   ]
  },
  {
   "cell_type": "code",
   "execution_count": 21,
   "metadata": {},
   "outputs": [
    {
     "data": {
      "text/html": [
       "<div>\n",
       "<style scoped>\n",
       "    .dataframe tbody tr th:only-of-type {\n",
       "        vertical-align: middle;\n",
       "    }\n",
       "\n",
       "    .dataframe tbody tr th {\n",
       "        vertical-align: top;\n",
       "    }\n",
       "\n",
       "    .dataframe thead th {\n",
       "        text-align: right;\n",
       "    }\n",
       "</style>\n",
       "<table border=\"1\" class=\"dataframe\">\n",
       "  <thead>\n",
       "    <tr style=\"text-align: right;\">\n",
       "      <th></th>\n",
       "      <th>image_id</th>\n",
       "      <th>development</th>\n",
       "      <th>impact</th>\n",
       "      <th>ocean</th>\n",
       "      <th>terrain_inland</th>\n",
       "      <th>terrain_marsh</th>\n",
       "      <th>terrain_river</th>\n",
       "      <th>terrain_sandy_coastline</th>\n",
       "      <th>terrain_undefined</th>\n",
       "      <th>washover</th>\n",
       "      <th>red_value</th>\n",
       "      <th>green_value</th>\n",
       "      <th>blue_value</th>\n",
       "    </tr>\n",
       "  </thead>\n",
       "  <tbody>\n",
       "    <tr>\n",
       "      <th>0</th>\n",
       "      <td>C26047208.jpg</td>\n",
       "      <td>1</td>\n",
       "      <td>0</td>\n",
       "      <td>0</td>\n",
       "      <td>0</td>\n",
       "      <td>0</td>\n",
       "      <td>0</td>\n",
       "      <td>0</td>\n",
       "      <td>1</td>\n",
       "      <td>0</td>\n",
       "      <td>78.204729</td>\n",
       "      <td>87.245305</td>\n",
       "      <td>72.521870</td>\n",
       "    </tr>\n",
       "    <tr>\n",
       "      <th>1</th>\n",
       "      <td>C26047226.jpg</td>\n",
       "      <td>1</td>\n",
       "      <td>0</td>\n",
       "      <td>0</td>\n",
       "      <td>0</td>\n",
       "      <td>1</td>\n",
       "      <td>0</td>\n",
       "      <td>0</td>\n",
       "      <td>1</td>\n",
       "      <td>0</td>\n",
       "      <td>77.132968</td>\n",
       "      <td>90.512730</td>\n",
       "      <td>78.897498</td>\n",
       "    </tr>\n",
       "    <tr>\n",
       "      <th>2</th>\n",
       "      <td>C26047362.jpg</td>\n",
       "      <td>1</td>\n",
       "      <td>0</td>\n",
       "      <td>0</td>\n",
       "      <td>0</td>\n",
       "      <td>0</td>\n",
       "      <td>0</td>\n",
       "      <td>0</td>\n",
       "      <td>1</td>\n",
       "      <td>0</td>\n",
       "      <td>71.084839</td>\n",
       "      <td>87.841994</td>\n",
       "      <td>75.500298</td>\n",
       "    </tr>\n",
       "    <tr>\n",
       "      <th>3</th>\n",
       "      <td>C26047380.jpg</td>\n",
       "      <td>1</td>\n",
       "      <td>0</td>\n",
       "      <td>0</td>\n",
       "      <td>0</td>\n",
       "      <td>0</td>\n",
       "      <td>0</td>\n",
       "      <td>0</td>\n",
       "      <td>1</td>\n",
       "      <td>0</td>\n",
       "      <td>69.533551</td>\n",
       "      <td>87.769505</td>\n",
       "      <td>76.372096</td>\n",
       "    </tr>\n",
       "    <tr>\n",
       "      <th>4</th>\n",
       "      <td>C26047383.jpg</td>\n",
       "      <td>1</td>\n",
       "      <td>0</td>\n",
       "      <td>0</td>\n",
       "      <td>0</td>\n",
       "      <td>0</td>\n",
       "      <td>0</td>\n",
       "      <td>0</td>\n",
       "      <td>1</td>\n",
       "      <td>0</td>\n",
       "      <td>69.112250</td>\n",
       "      <td>86.683035</td>\n",
       "      <td>73.757842</td>\n",
       "    </tr>\n",
       "  </tbody>\n",
       "</table>\n",
       "</div>"
      ],
      "text/plain": [
       "        image_id  development  impact  ocean  terrain_inland  terrain_marsh  \\\n",
       "0  C26047208.jpg            1       0      0               0              0   \n",
       "1  C26047226.jpg            1       0      0               0              1   \n",
       "2  C26047362.jpg            1       0      0               0              0   \n",
       "3  C26047380.jpg            1       0      0               0              0   \n",
       "4  C26047383.jpg            1       0      0               0              0   \n",
       "\n",
       "   terrain_river  terrain_sandy_coastline  terrain_undefined  washover  \\\n",
       "0              0                        0                  1         0   \n",
       "1              0                        0                  1         0   \n",
       "2              0                        0                  1         0   \n",
       "3              0                        0                  1         0   \n",
       "4              0                        0                  1         0   \n",
       "\n",
       "   red_value  green_value  blue_value  \n",
       "0  78.204729    87.245305   72.521870  \n",
       "1  77.132968    90.512730   78.897498  \n",
       "2  71.084839    87.841994   75.500298  \n",
       "3  69.533551    87.769505   76.372096  \n",
       "4  69.112250    86.683035   73.757842  "
      ]
     },
     "execution_count": 21,
     "metadata": {},
     "output_type": "execute_result"
    }
   ],
   "source": [
    "tagged.head()"
   ]
  },
  {
   "cell_type": "code",
   "execution_count": 63,
   "metadata": {},
   "outputs": [],
   "source": [
    "red = tagged['red_value']\n",
    "green = tagged['green_value']\n",
    "blue = tagged['blue_value']\n",
    "\n",
    "classes = ['development','impact', 'ocean', 'terrain_inland', 'terrain_marsh', 'terrain_sandy_coastline', 'terrain_undefined', 'washover']\n",
    "\n",
    "development = tagged['development']\n",
    "washover = tagged['washover']\n",
    "impact = tagged['impact']\n",
    "ocean = tagged['ocean']\n",
    "terrain_inland = tagged['terrain_inland']\n",
    "terrain_marsh = tagged['terrain_marsh']\n",
    "terrain_sandy_coastline = tagged['terrain_sandy_coastline']\n",
    "\n",
    "\n"
   ]
  },
  {
   "cell_type": "code",
   "execution_count": 23,
   "metadata": {},
   "outputs": [
    {
     "data": {
      "image/png": "[encoded data removed]",
      "text/plain": [
       "<Figure size 432x288 with 1 Axes>"
      ]
     },
     "metadata": {
      "needs_background": "light"
     },
     "output_type": "display_data"
    }
   ],
   "source": [
    "colormap = np.array(['black', 'red'])\n",
    "plt.scatter(green, blue, c=colormap[development])\n",
    "plt.xlabel('green')\n",
    "plt.ylabel('blue')\n",
    "developed = mpatches.Patch(color='black', label='undeveloped')\n",
    "undeveloped = mpatches.Patch(color='red', label='developed')\n",
    "plt.legend(handles=[developed,undeveloped])\n",
    "plt.title(\"Average green and blue values per image\")\n",
    "plt.savefig('avg_gb_developed')\n",
    "plt.show()"
   ]
  },
  {
   "cell_type": "code",
   "execution_count": 56,
   "metadata": {},
   "outputs": [],
   "source": [
    "knn_developed = tagged.drop(['image_id', 'impact', 'ocean', 'terrain_inland', 'terrain_marsh', 'terrain_sandy_coastline', 'terrain_undefined', 'washover' ], axis= 1)\n",
    "knn_impact = tagged.drop(['image_id', 'development', 'washover', 'ocean', 'terrain_inland', 'terrain_marsh', 'terrain_sandy_coastline', 'terrain_undefined', 'washover' ], axis= 1)"
   ]
  },
  {
   "cell_type": "code",
   "execution_count": 25,
   "metadata": {},
   "outputs": [],
   "source": [
    "knn_general = tagged.drop('image_id', axis = 1)"
   ]
  },
  {
   "cell_type": "code",
   "execution_count": 68,
   "metadata": {},
   "outputs": [
    {
     "data": {
      "text/plain": [
       "(248, 12)"
      ]
     },
     "execution_count": 68,
     "metadata": {},
     "output_type": "execute_result"
    }
   ],
   "source": [
    "X_train, X_test, y_train, y_test = train_test_split(knn_general, terrain_marsh, random_state=0)\n",
    "knn = KNeighborsClassifier(n_neighbors=6)\n",
    "knn.fit(X_train, y_train)\n",
    "knn_general.shape\n"
   ]
  },
  {
   "cell_type": "code",
   "execution_count": 61,
   "metadata": {},
   "outputs": [
    {
     "name": "stdout",
     "output_type": "stream",
     "text": [
      "0.8387096774193549\n"
     ]
    }
   ],
   "source": [
    "print(knn.score(X_test, y_test))"
   ]
  },
  {
   "cell_type": "code",
   "execution_count": 32,
   "metadata": {},
   "outputs": [
    {
     "name": "stdout",
     "output_type": "stream",
     "text": [
      "[[17  6]\n",
      " [ 9 30]]\n"
     ]
    }
   ],
   "source": [
    "knn.fit(X_train, y_train)\n",
    "ypred = knn.predict(X_test)\n",
    "cnf_matrix = confusion_matrix(y_test, ypred)\n",
    "print(confusion_matrix(y_test, ypred))"
   ]
  },
  {
   "cell_type": "code",
   "execution_count": 33,
   "metadata": {},
   "outputs": [
    {
     "data": {
      "image/png": "[encoded data removed]",
      "text/plain": [
       "<Figure size 432x288 with 2 Axes>"
      ]
     },
     "metadata": {
      "needs_background": "light"
     },
     "output_type": "display_data"
    }
   ],
   "source": [
    "\n",
    "ax = seaborn.heatmap(cnf_matrix, annot=True)\n",
    "bottom, top = ax.get_ylim()\n",
    "ax.set_ylim(bottom + 0.5, top - 0.5)\n",
    "ax.figure.savefig('cfn_matrix.png')\n",
    "\n"
   ]
  },
  {
   "cell_type": "markdown",
   "metadata": {},
   "source": [
    "neighbors 6 and 10 have the highest accuracy:"
   ]
  },
  {
   "cell_type": "code",
   "execution_count": 69,
   "metadata": {},
   "outputs": [
    {
     "name": "stdout",
     "output_type": "stream",
     "text": [
      "1 0.9032258064516129\n",
      "2 0.8709677419354839\n",
      "3 0.8548387096774194\n",
      "4 0.8709677419354839\n",
      "5 0.8387096774193549\n",
      "6 0.8870967741935484\n",
      "7 0.8870967741935484\n",
      "8 0.9032258064516129\n",
      "9 0.9032258064516129\n",
      "10 0.9032258064516129\n"
     ]
    }
   ],
   "source": [
    "for n_neighbors in [1, 2, 3, 4, 5, 6, 7, 8, 9, 10]:\n",
    "    knn = KNeighborsClassifier(n_neighbors)\n",
    "    knn.fit(X_train, y_train)\n",
    "    print(n_neighbors, knn.score(X_test, y_test))"
   ]
  },
  {
   "cell_type": "markdown",
   "metadata": {},
   "source": [
    "resources:\n",
    "\n",
    "https://www.pyimagesearch.com/2016/08/08/k-nn-classifier-for-image-classification/\n",
    "\n",
    "http://zetcode.com/python/argparse/"
   ]
  }
 ],
 "metadata": {
  "kernelspec": {
   "display_name": "Python 3",
   "language": "python",
   "name": "python3"
  },
  "language_info": {
   "codemirror_mode": {
    "name": "ipython",
    "version": 3
   },
   "file_extension": ".py",
   "mimetype": "text/x-python",
   "name": "python",
   "nbconvert_exporter": "python",
   "pygments_lexer": "ipython3",
   "version": "3.7.3"
  }
 },
 "nbformat": 4,
 "nbformat_minor": 2
}
