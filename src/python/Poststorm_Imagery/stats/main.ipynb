{
 "cells": [
  {
   "cell_type": "markdown",
   "source": [
    "T2 Basic Data Exploration - Assigned to each member (40 pts)\n",
    "\n",
    "    T2.1 Statistical evaluation of data. (10 pts)\n",
    "        Basic Statistics Observed (Mean, variance, etc.)\n",
    "        Interesting points only\n",
    "    T2.2 Hypothesis testing. (10 pts)\n",
    "        Describe the question posed\n",
    "    T2.3 Distribution Modeling. (10 pts)\n",
    "        Describe the observed distribution model\n",
    "    T2.4 Correlation and Co-variance within the data. (10 pts)\n",
    "    If dashboard / visualization development (40 pts)\n",
    "        Make sure you have enough work done."
   ],
   "metadata": {
    "collapsed": false,
    "pycharm": {
     "name": "#%% md\n"
    }
   }
  },
  {
   "cell_type": "markdown",
   "source": [
    "Start by loading in the data"
   ],
   "metadata": {
    "collapsed": false,
    "pycharm": {
     "name": "#%% md\n"
    }
   }
  },
  {
   "cell_type": "code",
   "execution_count": null,
   "metadata": {
    "collapsed": true
   },
   "outputs": [],
   "source": [
    "#from src.python.Poststorm_Imagery.collector import s\n",
    "#TAR_PATH = s.TAR_CACHE\n",
    "\n",
    "TAR_PATH = \"/mnt/Secondary/mcmoretz@uncg.edu/C-Sick\"\n"
   ]
  }
 ],
 "metadata": {
  "kernelspec": {
   "display_name": "Python 3",
   "language": "python",
   "name": "python3"
  },
  "language_info": {
   "codemirror_mode": {
    "name": "ipython",
    "version": 2
   },
   "file_extension": ".py",
   "mimetype": "text/x-python",
   "name": "python",
   "nbconvert_exporter": "python",
   "pygments_lexer": "ipython2",
   "version": "2.7.6"
  },
  "pycharm": {
   "stem_cell": {
    "cell_type": "raw",
    "source": [],
    "metadata": {
     "collapsed": false
    }
   }
  }
 },
 "nbformat": 4,
 "nbformat_minor": 0
}