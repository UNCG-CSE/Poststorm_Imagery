{
 "cells": [
  {
   "cell_type": "code",
   "execution_count": 13,
   "metadata": {},
   "outputs": [
    {
     "name": "stdout",
     "output_type": "stream",
     "text": [
      "                      0          1         2\n",
      "Unnamed: 0     Latitude  Longitude  Altitude\n",
      "P26049768.jpg    33.691   -78.9145   760.829\n",
      "P26052536.jpg   33.6486   -79.0257   690.289\n",
      "P26056688.jpg   34.5769   -77.2511   871.486\n",
      "P26048984.jpg   33.6759   -79.0287   760.663\n"
     ]
    }
   ],
   "source": [
    "import pandas as pd\n",
    "import matplotlib.pyplot as plt\n",
    "gps = pd.read_csv('test_2.csv')\n",
    "gps = gps.transpose()\n",
    "print(gps.head())\n",
    "\n",
    "\n",
    "\n",
    "\n",
    "\n"
   ]
  },
  {
   "cell_type": "code",
   "execution_count": 14,
   "metadata": {},
   "outputs": [
    {
     "name": "stdout",
     "output_type": "stream",
     "text": [
      "           index         0          1         2\n",
      "0     Unnamed: 0  Latitude  Longitude  Altitude\n",
      "1  P26049768.jpg    33.691   -78.9145   760.829\n",
      "2  P26052536.jpg   33.6486   -79.0257   690.289\n",
      "3  P26056688.jpg   34.5769   -77.2511   871.486\n",
      "4  P26048984.jpg   33.6759   -79.0287   760.663\n"
     ]
    }
   ],
   "source": [
    "\n",
    "gps = gps.reset_index()\n",
    "print(gps.head())\n"
   ]
  },
  {
   "cell_type": "code",
   "execution_count": 17,
   "metadata": {},
   "outputs": [
    {
     "name": "stdout",
     "output_type": "stream",
     "text": [
      "           index         0          1         2\n",
      "0     Unnamed: 0  Latitude  Longitude  Altitude\n",
      "1  P26049768.jpg    33.691   -78.9145   760.829\n",
      "2  P26052536.jpg   33.6486   -79.0257   690.289\n",
      "3  P26056688.jpg   34.5769   -77.2511   871.486\n",
      "4  P26048984.jpg   33.6759   -79.0287   760.663\n"
     ]
    }
   ],
   "source": [
    "\n"
   ]
  },
  {
   "cell_type": "code",
   "execution_count": 18,
   "metadata": {},
   "outputs": [],
   "source": [
    "gps.columns = ['image_name','Latitude','Longitude',\n",
    "                     'Altitude']"
   ]
  },
  {
   "cell_type": "code",
   "execution_count": 19,
   "metadata": {},
   "outputs": [
    {
     "data": {
      "text/html": [
       "<div>\n",
       "<style scoped>\n",
       "    .dataframe tbody tr th:only-of-type {\n",
       "        vertical-align: middle;\n",
       "    }\n",
       "\n",
       "    .dataframe tbody tr th {\n",
       "        vertical-align: top;\n",
       "    }\n",
       "\n",
       "    .dataframe thead th {\n",
       "        text-align: right;\n",
       "    }\n",
       "</style>\n",
       "<table border=\"1\" class=\"dataframe\">\n",
       "  <thead>\n",
       "    <tr style=\"text-align: right;\">\n",
       "      <th></th>\n",
       "      <th>image_name</th>\n",
       "      <th>Latitude</th>\n",
       "      <th>Longitude</th>\n",
       "      <th>Altitude</th>\n",
       "    </tr>\n",
       "  </thead>\n",
       "  <tbody>\n",
       "    <tr>\n",
       "      <th>0</th>\n",
       "      <td>Unnamed: 0</td>\n",
       "      <td>Latitude</td>\n",
       "      <td>Longitude</td>\n",
       "      <td>Altitude</td>\n",
       "    </tr>\n",
       "    <tr>\n",
       "      <th>1</th>\n",
       "      <td>P26049768.jpg</td>\n",
       "      <td>33.691</td>\n",
       "      <td>-78.9145</td>\n",
       "      <td>760.829</td>\n",
       "    </tr>\n",
       "    <tr>\n",
       "      <th>2</th>\n",
       "      <td>P26052536.jpg</td>\n",
       "      <td>33.6486</td>\n",
       "      <td>-79.0257</td>\n",
       "      <td>690.289</td>\n",
       "    </tr>\n",
       "    <tr>\n",
       "      <th>3</th>\n",
       "      <td>P26056688.jpg</td>\n",
       "      <td>34.5769</td>\n",
       "      <td>-77.2511</td>\n",
       "      <td>871.486</td>\n",
       "    </tr>\n",
       "    <tr>\n",
       "      <th>4</th>\n",
       "      <td>P26048984.jpg</td>\n",
       "      <td>33.6759</td>\n",
       "      <td>-79.0287</td>\n",
       "      <td>760.663</td>\n",
       "    </tr>\n",
       "  </tbody>\n",
       "</table>\n",
       "</div>"
      ],
      "text/plain": [
       "      image_name  Latitude  Longitude  Altitude\n",
       "0     Unnamed: 0  Latitude  Longitude  Altitude\n",
       "1  P26049768.jpg    33.691   -78.9145   760.829\n",
       "2  P26052536.jpg   33.6486   -79.0257   690.289\n",
       "3  P26056688.jpg   34.5769   -77.2511   871.486\n",
       "4  P26048984.jpg   33.6759   -79.0287   760.663"
      ]
     },
     "execution_count": 19,
     "metadata": {},
     "output_type": "execute_result"
    }
   ],
   "source": [
    "gps.head()\n"
   ]
  },
  {
   "cell_type": "code",
   "execution_count": 30,
   "metadata": {},
   "outputs": [
    {
     "data": {
      "text/plain": [
       "image_name    Unnamed: 0\n",
       "Latitude        Latitude\n",
       "Longitude      Longitude\n",
       "Altitude        Altitude\n",
       "Name: 0, dtype: object"
      ]
     },
     "execution_count": 30,
     "metadata": {},
     "output_type": "execute_result"
    }
   ],
   "source": [
    "gps.loc[0]\n"
   ]
  },
  {
   "cell_type": "code",
   "execution_count": 32,
   "metadata": {},
   "outputs": [],
   "source": [
    "gps.drop(gps.index[0], inplace=True)\n"
   ]
  },
  {
   "cell_type": "code",
   "execution_count": 33,
   "metadata": {},
   "outputs": [
    {
     "data": {
      "text/html": [
       "<div>\n",
       "<style scoped>\n",
       "    .dataframe tbody tr th:only-of-type {\n",
       "        vertical-align: middle;\n",
       "    }\n",
       "\n",
       "    .dataframe tbody tr th {\n",
       "        vertical-align: top;\n",
       "    }\n",
       "\n",
       "    .dataframe thead th {\n",
       "        text-align: right;\n",
       "    }\n",
       "</style>\n",
       "<table border=\"1\" class=\"dataframe\">\n",
       "  <thead>\n",
       "    <tr style=\"text-align: right;\">\n",
       "      <th></th>\n",
       "      <th>image_name</th>\n",
       "      <th>Latitude</th>\n",
       "      <th>Longitude</th>\n",
       "      <th>Altitude</th>\n",
       "    </tr>\n",
       "  </thead>\n",
       "  <tbody>\n",
       "    <tr>\n",
       "      <th>1</th>\n",
       "      <td>P26049768.jpg</td>\n",
       "      <td>33.691</td>\n",
       "      <td>-78.9145</td>\n",
       "      <td>760.829</td>\n",
       "    </tr>\n",
       "    <tr>\n",
       "      <th>2</th>\n",
       "      <td>P26052536.jpg</td>\n",
       "      <td>33.6486</td>\n",
       "      <td>-79.0257</td>\n",
       "      <td>690.289</td>\n",
       "    </tr>\n",
       "    <tr>\n",
       "      <th>3</th>\n",
       "      <td>P26056688.jpg</td>\n",
       "      <td>34.5769</td>\n",
       "      <td>-77.2511</td>\n",
       "      <td>871.486</td>\n",
       "    </tr>\n",
       "    <tr>\n",
       "      <th>4</th>\n",
       "      <td>P26048984.jpg</td>\n",
       "      <td>33.6759</td>\n",
       "      <td>-79.0287</td>\n",
       "      <td>760.663</td>\n",
       "    </tr>\n",
       "    <tr>\n",
       "      <th>5</th>\n",
       "      <td>P26052876.jpg</td>\n",
       "      <td>33.629</td>\n",
       "      <td>-79.0314</td>\n",
       "      <td>535.333</td>\n",
       "    </tr>\n",
       "  </tbody>\n",
       "</table>\n",
       "</div>"
      ],
      "text/plain": [
       "      image_name Latitude Longitude Altitude\n",
       "1  P26049768.jpg   33.691  -78.9145  760.829\n",
       "2  P26052536.jpg  33.6486  -79.0257  690.289\n",
       "3  P26056688.jpg  34.5769  -77.2511  871.486\n",
       "4  P26048984.jpg  33.6759  -79.0287  760.663\n",
       "5  P26052876.jpg   33.629  -79.0314  535.333"
      ]
     },
     "execution_count": 33,
     "metadata": {},
     "output_type": "execute_result"
    }
   ],
   "source": [
    "gps.head()"
   ]
  },
  {
   "cell_type": "code",
   "execution_count": 41,
   "metadata": {},
   "outputs": [
    {
     "data": {
      "text/plain": [
       "False"
      ]
     },
     "execution_count": 41,
     "metadata": {},
     "output_type": "execute_result"
    }
   ],
   "source": [
    "from pandas.api.types import is_numeric_dtype\n",
    "\n",
    "is_numeric_dtype(gps['Latitude'])\n"
   ]
  },
  {
   "cell_type": "code",
   "execution_count": 45,
   "metadata": {},
   "outputs": [
    {
     "data": {
      "text/plain": [
       "1       33.690956\n",
       "2       33.648579\n",
       "3       34.576862\n",
       "4       33.675873\n",
       "5       33.629013\n",
       "6       33.590931\n",
       "7       34.750717\n",
       "8       34.686646\n",
       "9       34.764587\n",
       "10      34.059902\n",
       "11      34.635757\n",
       "12      33.665993\n",
       "13      33.711754\n",
       "14      35.306171\n",
       "15      33.610428\n",
       "16      33.497013\n",
       "17      33.626263\n",
       "18      34.693096\n",
       "19      35.421452\n",
       "20      33.597912\n",
       "21      33.644463\n",
       "22      33.628048\n",
       "23      34.908344\n",
       "24      34.510807\n",
       "25      33.546009\n",
       "26      34.932568\n",
       "27      34.757641\n",
       "28      34.694000\n",
       "29      34.583363\n",
       "30      33.670277\n",
       "          ...    \n",
       "3613    33.675591\n",
       "3614    33.478828\n",
       "3615    34.132553\n",
       "3616    33.681988\n",
       "3617    35.209217\n",
       "3618    34.667072\n",
       "3619    33.629238\n",
       "3620    33.466778\n",
       "3621    34.703030\n",
       "3622    35.428230\n",
       "3623    35.383553\n",
       "3624    33.434891\n",
       "3625    33.773548\n",
       "3626    34.366234\n",
       "3627    33.612164\n",
       "3628    33.433285\n",
       "3629    35.182064\n",
       "3630    33.631523\n",
       "3631    33.557053\n",
       "3632    34.680992\n",
       "3633    33.646374\n",
       "3634    33.618675\n",
       "3635    35.547726\n",
       "3636    33.713634\n",
       "3637    33.622776\n",
       "3638    33.531464\n",
       "3639    34.675564\n",
       "3640    33.436424\n",
       "3641    34.637287\n",
       "3642    33.697433\n",
       "Name: Latitude, Length: 3642, dtype: float32"
      ]
     },
     "execution_count": 45,
     "metadata": {},
     "output_type": "execute_result"
    }
   ],
   "source": [
    "pd.to_numeric(gps['Latitude'], downcast='float')"
   ]
  },
  {
   "cell_type": "code",
   "execution_count": 46,
   "metadata": {},
   "outputs": [
    {
     "data": {
      "text/plain": [
       "False"
      ]
     },
     "execution_count": 46,
     "metadata": {},
     "output_type": "execute_result"
    }
   ],
   "source": [
    "is_numeric_dtype(gps['Latitude'])\n"
   ]
  },
  {
   "cell_type": "code",
   "execution_count": 47,
   "metadata": {},
   "outputs": [
    {
     "data": {
      "text/plain": [
       "dtype('O')"
      ]
     },
     "execution_count": 47,
     "metadata": {},
     "output_type": "execute_result"
    }
   ],
   "source": [
    "gps['Latitude'].dtypes"
   ]
  },
  {
   "cell_type": "code",
   "execution_count": 48,
   "metadata": {},
   "outputs": [],
   "source": [
    "gps[\"Latitude\"] = gps.Latitude.astype(float)"
   ]
  },
  {
   "cell_type": "code",
   "execution_count": 49,
   "metadata": {},
   "outputs": [
    {
     "data": {
      "text/plain": [
       "dtype('float64')"
      ]
     },
     "execution_count": 49,
     "metadata": {},
     "output_type": "execute_result"
    }
   ],
   "source": [
    "gps['Latitude'].dtypes"
   ]
  },
  {
   "cell_type": "code",
   "execution_count": 50,
   "metadata": {},
   "outputs": [],
   "source": [
    "gps[\"Longitude\"] = gps.Longitude.astype(float)\n",
    "gps[\"Altitude\"] = gps.Altitude.astype(float)"
   ]
  },
  {
   "cell_type": "code",
   "execution_count": 51,
   "metadata": {},
   "outputs": [
    {
     "data": {
      "text/plain": [
       "dtype('float64')"
      ]
     },
     "execution_count": 51,
     "metadata": {},
     "output_type": "execute_result"
    }
   ],
   "source": [
    "gps['Longitude'].dtypes\n",
    "gps['Altitude'].dtypes"
   ]
  },
  {
   "cell_type": "code",
   "execution_count": 65,
   "metadata": {},
   "outputs": [
    {
     "data": {
      "image/png": "[encoded data removed]",
      "text/plain": [
       "<Figure size 432x288 with 1 Axes>"
      ]
     },
     "metadata": {
      "needs_background": "light"
     },
     "output_type": "display_data"
    }
   ],
   "source": [
    "\n",
    "gps.plot(kind=\"scatter\", x=\"Longitude\", y=\"Latitude\", alpha=0.4)\n",
    "plt.title('Florence: 20180917a_jpgs')\n",
    "plt.savefig('florence_archive.png', dpi=100)\n",
    "\n",
    "plt.show()\n"
   ]
  },
  {
   "cell_type": "code",
   "execution_count": null,
   "metadata": {},
   "outputs": [],
   "source": []
  }
 ],
 "metadata": {
  "kernelspec": {
   "display_name": "Python 3",
   "language": "python",
   "name": "python3"
  },
  "language_info": {
   "codemirror_mode": {
    "name": "ipython",
    "version": 3
   },
   "file_extension": ".py",
   "mimetype": "text/x-python",
   "name": "python",
   "nbconvert_exporter": "python",
   "pygments_lexer": "ipython3",
   "version": "3.7.0"
  }
 },
 "nbformat": 4,
 "nbformat_minor": 2
}
